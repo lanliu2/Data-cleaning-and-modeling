{
 "cells": [
  {
   "cell_type": "markdown",
   "source": [
    "从修饰总表中对有修饰与无修饰进行pair对组合。表格的形式要求为：\n",
    "sequence target communal-modification measure unit modification1 modification2 mic1 mic2 fold-change sig(0,-1,1)\n"
   ],
   "metadata": {
    "collapsed": false,
    "pycharm": {
     "name": "#%% md\n"
    }
   }
  },
  {
   "cell_type": "code",
   "execution_count": 1,
   "outputs": [],
   "source": [
    "import os\n",
    "import pandas as pd\n",
    "import numpy as np\n",
    "import matplotlib.pyplot as plt\n",
    "import copy\n",
    "import time\n",
    "os.chdir(r'E:\\文件\\大学课程\\大四上\\毕业设计\\数据分析\\seventhweek')\n",
    "# all_df=pd.read_excel('all-peptides.xlsx')"
   ],
   "metadata": {
    "collapsed": false,
    "pycharm": {
     "name": "#%%\n"
    }
   }
  },
  {
   "cell_type": "code",
   "execution_count": 2,
   "outputs": [],
   "source": [
    "# 在固定某一端修饰、measure、unit一致时，提取另一端所有修饰数据并将其创建成为一个字典\n",
    "def get_minvalue(value1,value2):\n",
    "    if value1>value2:\n",
    "        return value1\n",
    "    else:\n",
    "        return value2\n",
    "\n",
    "\n",
    "def get_activity_array(file,change_ter, stick_ter,stick_modification,measure,unit):\n",
    "    df = pd.read_excel(file, header=0)\n",
    "    df = df.fillna(value='none')\n",
    "    df1 = df[(df[stick_ter] == stick_modification) & (df['other_modification'] == 'none') & (df['unit']==unit) & (df['measure']==measure)]\n",
    "    dict_matrix = {}\n",
    "    for index, row in df1.iterrows():\n",
    "        seq_tar = '&'.join([row['sequence'], row['target'],stick_ter,stick_modification,measure,unit])            #共有部分先用&进行连接，方便后续直接进行分列操作\n",
    "        if seq_tar not in dict_matrix.keys():\n",
    "            dict_matrix[seq_tar] = {}\n",
    "            dict_matrix[seq_tar][row[change_ter]] = float(row['value'])\n",
    "        else:\n",
    "            value1=dict_matrix[seq_tar][row[change_ter]] = float(row['value'])\n",
    "            value2=float(row['value'])\n",
    "            dict_matrix[seq_tar][row[change_ter]] = get_minvalue(value1,value2)     #可能存在多个样本其他字段内字符相同但是value值不同，称之为重复样本，那么此时会优先考虑保留活性较强的样本，即测算方法数值较小的那个\n",
    "    return dict_matrix"
   ],
   "metadata": {
    "collapsed": false,
    "pycharm": {
     "name": "#%%\n"
    }
   }
  },
  {
   "cell_type": "code",
   "execution_count": 3,
   "outputs": [],
   "source": [
    "# # 数据中间查看\n",
    "# data1=get_activity_array(file='peptides_revise_value.xlsx',stick_ter='nterminal',change_ter='cterminal',stick_modification='none',unit='uM',measure='MIC')"
   ],
   "metadata": {
    "collapsed": false,
    "pycharm": {
     "name": "#%%\n"
    }
   }
  },
  {
   "cell_type": "code",
   "execution_count": 4,
   "outputs": [],
   "source": [
    "# #48561\n",
    "# # 查看数据\n",
    "# no_change_dict=pd.DataFrame(data1)\n",
    "# no_change_dict.T"
   ],
   "metadata": {
    "collapsed": false,
    "pycharm": {
     "name": "#%%\n"
    }
   }
  },
  {
   "cell_type": "code",
   "execution_count": 5,
   "outputs": [],
   "source": [
    "#循环获得的字典，对字典内的活性数值进行删除修改\n",
    "# 如果none存在，则判断是否还存在其他修饰，则直接计算有修饰与无修饰时的fold-change（计算方法为：fold-change=log2(none/modification)\n",
    "def RESERVE_TWO_ACTIVITIES(data1):\n",
    "    data=copy.deepcopy(data1)\n",
    "    for key1 in list(data.keys()):\n",
    "        if 'none' in data[key1].keys() and len(list(data[key1].keys())) >= 2:\n",
    "            pass\n",
    "        else:\n",
    "            del data[key1]\n",
    "    return data"
   ],
   "metadata": {
    "collapsed": false,
    "pycharm": {
     "name": "#%%\n"
    }
   }
  },
  {
   "cell_type": "code",
   "execution_count": 6,
   "outputs": [],
   "source": [
    "# # 查看数据\n",
    "# dffff=pd.DataFrame(RESERVE_TWO_ACTIVITIES(data1))\n",
    "# dffff.T\n",
    "# #在数据还在字典的时候，循环字典里的字典的key（即小字典里的key），如果none和有修饰同时存在，那么有修饰则赋值为fold-change，如果不符合以上条件，则将大字典的key删掉"
   ],
   "metadata": {
    "collapsed": false,
    "pycharm": {
     "name": "#%%\n"
    }
   }
  },
  {
   "cell_type": "code",
   "execution_count": 7,
   "outputs": [],
   "source": [
    "# 把获取的字典导出成为目标数据表\n",
    "# 将获取的数据表转换成为目标格式\n",
    "# sequence target communal-modification measure unit modification1 modification2 mic1 mic2 fold-change sig(0,-1,1)\n",
    "def GOAL_DATAFRAME(data):\n",
    "    dict_to_excel=pd.DataFrame.from_dict(data)\n",
    "    dict_to_excel=dict_to_excel.transpose()         #将数据表进行转置\n",
    "    columns=['sequence&target&stick_terminal&communal-modification&measure&unit','modification1','modification2','activity1','activity2','fold-change','abs(none-modification)']\n",
    "    new_index=0\n",
    "    new_activity_df=pd.DataFrame(columns=columns)\n",
    "    for modification in list(dict_to_excel.columns):\n",
    "        if modification=='none':\n",
    "            pass\n",
    "        else:\n",
    "            modification_not_none=dict_to_excel[dict_to_excel[modification].notnull() & dict_to_excel['none'].notnull()]\n",
    "            for index,row in modification_not_none.iterrows():\n",
    "                fold_change=np.log2(row['none']/row[modification])\n",
    "                abs_activity=abs(row['none']-row[modification])\n",
    "                new_row=[index,'none',modification,row['none'],row[modification],fold_change,abs_activity]\n",
    "                new_activity_df.loc[new_index]=new_row\n",
    "                new_index+=1\n",
    "\n",
    "    #将合并的列拆分并重新命名列\n",
    "    #拆分得列会变成一个新的数据表，所以需要pd.concat函数将两个数据表按列进行合并，排在前面的放在合并数据表的前面\n",
    "    new_activity_df = pd.concat([new_activity_df['sequence&target&stick_terminal&communal-modification&measure&unit'].str.split('&', expand=True),new_activity_df], axis=1).drop('sequence&target&stick_terminal&communal-modification&measure&unit', axis=1)   #进行分列操作并将原本拆分的列删除掉\n",
    "    new_column='sequence&target&stick_terminal&communal-modification&measure&unit'.split('&')\n",
    "\n",
    "    #给拆分后的列的列名重命名，注意要使用inplace=True函数代替掉原来的列名，不然达不到修改的目的\n",
    "    rename_colunm={}\n",
    "    for i in range(len(new_column)):\n",
    "        rename_colunm[i]=new_column[i]\n",
    "    new_activity_df.rename(columns=rename_colunm,inplace=True)\n",
    "    return new_activity_df"
   ],
   "metadata": {
    "collapsed": false,
    "pycharm": {
     "name": "#%%\n"
    }
   }
  },
  {
   "cell_type": "code",
   "execution_count": 8,
   "outputs": [],
   "source": [
    "# 循环列表格式\n",
    "# file_name,change_ter, stick_ter,stick_modification,measure,unit\n",
    "# 创建循环列表\n",
    "def CYCLE():\n",
    "    terminals=['n_terminal','c_terminal']\n",
    "    stick_modifications=['none','ACT','AMD']\n",
    "    measures=['MIC','MBC','IC50','LC','MIC50','MIC90','MFC','EC50','LD50','IC50 I','MEC','IC50 REP','LC50','IC50 F','IC50 E']\n",
    "    units=['uM','ug/ml']\n",
    "    cycle=[]\n",
    "    # cycle=[[file,'cterminal','nterminal','none','MIC']]\n",
    "    for terminal in terminals:\n",
    "        sub_cycle=['all-peptides.xlsx']\n",
    "        stick_terminal=terminal\n",
    "        if stick_terminal=='n_terminal':\n",
    "            change_terminal='c_terminal'\n",
    "        else:\n",
    "            change_terminal='n_terminal'\n",
    "        sub_cycle.append(change_terminal)\n",
    "        sub_cycle.append(stick_terminal)\n",
    "        for modification in stick_modifications:\n",
    "            if modification=='none':\n",
    "                sub_cycle.append(modification)\n",
    "            elif stick_terminal=='n_terminal' and modification=='ACT':\n",
    "                sub_cycle.append(modification)\n",
    "            elif stick_terminal=='c_terminal' and modification=='AMD':\n",
    "                sub_cycle.append(modification)\n",
    "            for measure in measures:\n",
    "                sub_cycle.append(measure)\n",
    "                for unit in units:\n",
    "                    sub_cycle.append(unit)\n",
    "                    new_sub_cycle=copy.deepcopy(sub_cycle)\n",
    "                    if len(new_sub_cycle)==6:\n",
    "                        cycle.append(new_sub_cycle)\n",
    "                    else:\n",
    "                        break\n",
    "                    # print(sub_cycle)\n",
    "                    sub_cycle.pop(-1)\n",
    "                sub_cycle.pop(-1)\n",
    "            sub_cycle.pop(-1)\n",
    "        sub_cycle=[]\n",
    "    return cycle"
   ],
   "metadata": {
    "collapsed": false,
    "pycharm": {
     "name": "#%%\n"
    }
   }
  },
  {
   "cell_type": "code",
   "execution_count": 9,
   "outputs": [],
   "source": [
    "# 把所有分类写入文件输出\n",
    "# file_name,change_ter, stick_ter,stick_modification,measure,unit\n",
    "clasification_data=pd.DataFrame(columns=['file-name','chang-terminal','stick-terminal','stick-modification','measure','unit'])\n",
    "for i in range(len(CYCLE())):\n",
    "    clasification_data.loc[i]=CYCLE()[i]\n",
    "clasification_data.to_excel('classification.xlsx',index=False)"
   ],
   "metadata": {
    "collapsed": false,
    "pycharm": {
     "name": "#%%\n"
    }
   }
  },
  {
   "cell_type": "code",
   "execution_count": 10,
   "outputs": [],
   "source": [
    "#写一个脚本把之前所有的函数都合起来一起用，实现循环，把所有的分类给合并成一个总的数据表，要保证所有函数的输入参数都是一样的才能一次性进行循环\n",
    "\n",
    "# 读入文件，筛选数据表,并将数据转换成为字典\n",
    "index=0\n",
    "mdf=pd.DataFrame()\n",
    "for single_cycle in CYCLE():\n",
    "    data1=get_activity_array(single_cycle[0],single_cycle[1],single_cycle[2],single_cycle[3],single_cycle[4],single_cycle[5])\n",
    "    data=RESERVE_TWO_ACTIVITIES(data1)\n",
    "    single_dataframe=GOAL_DATAFRAME(data)\n",
    "    mdf=pd.concat([mdf,single_dataframe])\n"
   ],
   "metadata": {
    "collapsed": false,
    "pycharm": {
     "name": "#%%\n"
    }
   }
  },
  {
   "cell_type": "code",
   "execution_count": 11,
   "outputs": [],
   "source": [
    "mdf.to_excel('all-peptides-pairs.xlsx',index=False)"
   ],
   "metadata": {
    "collapsed": false,
    "pycharm": {
     "name": "#%%\n"
    }
   }
  },
  {
   "cell_type": "markdown",
   "source": [
    "# 循环存在的修饰情况：\n",
    "需要比较的修饰有：\n",
    "N端:ACT,脂肪链（C1,C2,C3,....)\n",
    "C端:AMD\n",
    "stick-terminal stick-modification none modification\n",
    "nterminal none none ACT\n",
    "nterminal ACT none ACT\n",
    "cterminal none none ACT\n",
    "cterminal AMD none ACT\n",
    "cterminal none none C\n",
    "cterminal AMD none C\n",
    "\n",
    "\n",
    "UNIT CHANGE: ug/ml uM"
   ],
   "metadata": {
    "collapsed": false,
    "pycharm": {
     "name": "#%% md\n"
    }
   }
  }
 ],
 "metadata": {
  "kernelspec": {
   "display_name": "Python 3",
   "language": "python",
   "name": "python3"
  },
  "language_info": {
   "codemirror_mode": {
    "name": "ipython",
    "version": 2
   },
   "file_extension": ".py",
   "mimetype": "text/x-python",
   "name": "python",
   "nbconvert_exporter": "python",
   "pygments_lexer": "ipython2",
   "version": "2.7.6"
  }
 },
 "nbformat": 4,
 "nbformat_minor": 0
}