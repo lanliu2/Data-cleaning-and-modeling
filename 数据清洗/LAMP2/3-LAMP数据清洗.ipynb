{
 "cells": [
  {
   "cell_type": "code",
   "execution_count": 1,
   "outputs": [],
   "source": [
    "import os\n",
    "import pandas as pd\n",
    "import time\n",
    "import copy\n",
    "import numpy as np\n"
   ],
   "metadata": {
    "collapsed": false,
    "pycharm": {
     "name": "#%%\n"
    }
   }
  },
  {
   "cell_type": "code",
   "execution_count": 2,
   "outputs": [
    {
     "data": {
      "text/plain": "               id                            name  \\\n0      L01A000001                      CTXD_CERCA   \n1      L01A000002                     D104A_HUMAN   \n2      L01A000003            latarcin 4a| pLtc 4a   \n3      L01A000004  bombinin-like peptide 7| BPL-7   \n4      L01A000005           bactenecin 5 - bovine   \n...           ...                             ...   \n12620  L11A013568        Bactenecin-7 (1-16)[P7K]   \n12621  L11A013569        Bactenecin-7 (1-16)[P7R]   \n12622  L11A013570       Bactenecin-7 (1-16)[R16K]   \n12623  L11A013571                   Oncocin [D2P]   \n12624  L11A013572                  Oncocin [P12R]   \n\n                             source       mass length Isoelectric point  \\\n0                Ceratitis capitata  3511.4 Da  36 aa              11.5   \n1                      Homo sapiens  5712.5 Da  48 aa              9.45   \n2      Lachesana tarabaevi (Spider)  2903.5 Da  24 aa             10.72   \n3                Bombina orientalis  2551.9 Da  27 aa             10.51   \n4               Bos taurus (cattle)  5150.2 Da  42 aa              13.1   \n...                             ...        ...    ...               ...   \n12620                           NaN  2107.6 Da  16 aa             13.35   \n12621                           NaN  2135.6 Da  16 aa              13.4   \n12622                           NaN  2048.5 Da  16 aa             13.28   \n12623                           NaN  2372.8 Da  19 aa             12.34   \n12624                           NaN  2449.9 Da  19 aa             12.22   \n\n                        activity  \\\n0                  Antibacterial   \n1      Antibacterial| Antifungal   \n2      Antibacterial| Antifungal   \n3                  Antibacterial   \n4                  Antibacterial   \n...                          ...   \n12620                      Gram-   \n12621                      Gram-   \n12622                      Gram-   \n12623                 Gram+Gram-   \n12624                 Gram+Gram-   \n\n                                               sequence  \\\n0                  SIGTAVKKAVPIAKKVGKVAIPIAKAVLSVVGQLVG   \n1      ELDRICGYGTARCRKKCRSQEYRIGRCPNTYACCLRKWDESLLNRTKP   \n2                              GLKDKFKSMGEKLKQYIQTWKAKF   \n3                           GIGGALLSAGKSALKGLAKGLAEHFAN   \n4            RFRPPIRRPPIRPPFYPPFRPPIRPPIFPPIRPPFRPPLRFP   \n...                                                 ...   \n12620                                  RRIRPRKPRLPRPRPR   \n12621                                  RRIRPRRPRLPRPRPR   \n12622                                  RRIRPRPPRLPRPRPK   \n12623                               VPKPPYLPRPRPPRRIYNR   \n12624                               VDKPPYLPRPRRPRRIYNR   \n\n                                                     MIC  \n0                         No MICs found on LAMP database  \n1      1  Target:  Staphylococcus carnosus TM300  MIC...  \n2      1  Target:  A. globiformis  MIC:  0.87 ug/ml  ...  \n3                         No MICs found on LAMP database  \n4      1  Target:  Salmonella typhimurium  MIC:  10.3...  \n...                                                  ...  \n12620                     No MICs found on LAMP database  \n12621                     No MICs found on LAMP database  \n12622                     No MICs found on LAMP database  \n12623                     No MICs found on LAMP database  \n12624                     No MICs found on LAMP database  \n\n[12624 rows x 9 columns]",
      "text/html": "<div>\n<style scoped>\n    .dataframe tbody tr th:only-of-type {\n        vertical-align: middle;\n    }\n\n    .dataframe tbody tr th {\n        vertical-align: top;\n    }\n\n    .dataframe thead th {\n        text-align: right;\n    }\n</style>\n<table border=\"1\" class=\"dataframe\">\n  <thead>\n    <tr style=\"text-align: right;\">\n      <th></th>\n      <th>id</th>\n      <th>name</th>\n      <th>source</th>\n      <th>mass</th>\n      <th>length</th>\n      <th>Isoelectric point</th>\n      <th>activity</th>\n      <th>sequence</th>\n      <th>MIC</th>\n    </tr>\n  </thead>\n  <tbody>\n    <tr>\n      <th>0</th>\n      <td>L01A000001</td>\n      <td>CTXD_CERCA</td>\n      <td>Ceratitis capitata</td>\n      <td>3511.4 Da</td>\n      <td>36 aa</td>\n      <td>11.5</td>\n      <td>Antibacterial</td>\n      <td>SIGTAVKKAVPIAKKVGKVAIPIAKAVLSVVGQLVG</td>\n      <td>No MICs found on LAMP database</td>\n    </tr>\n    <tr>\n      <th>1</th>\n      <td>L01A000002</td>\n      <td>D104A_HUMAN</td>\n      <td>Homo sapiens</td>\n      <td>5712.5 Da</td>\n      <td>48 aa</td>\n      <td>9.45</td>\n      <td>Antibacterial| Antifungal</td>\n      <td>ELDRICGYGTARCRKKCRSQEYRIGRCPNTYACCLRKWDESLLNRTKP</td>\n      <td>1  Target:  Staphylococcus carnosus TM300  MIC...</td>\n    </tr>\n    <tr>\n      <th>2</th>\n      <td>L01A000003</td>\n      <td>latarcin 4a| pLtc 4a</td>\n      <td>Lachesana tarabaevi (Spider)</td>\n      <td>2903.5 Da</td>\n      <td>24 aa</td>\n      <td>10.72</td>\n      <td>Antibacterial| Antifungal</td>\n      <td>GLKDKFKSMGEKLKQYIQTWKAKF</td>\n      <td>1  Target:  A. globiformis  MIC:  0.87 ug/ml  ...</td>\n    </tr>\n    <tr>\n      <th>3</th>\n      <td>L01A000004</td>\n      <td>bombinin-like peptide 7| BPL-7</td>\n      <td>Bombina orientalis</td>\n      <td>2551.9 Da</td>\n      <td>27 aa</td>\n      <td>10.51</td>\n      <td>Antibacterial</td>\n      <td>GIGGALLSAGKSALKGLAKGLAEHFAN</td>\n      <td>No MICs found on LAMP database</td>\n    </tr>\n    <tr>\n      <th>4</th>\n      <td>L01A000005</td>\n      <td>bactenecin 5 - bovine</td>\n      <td>Bos taurus (cattle)</td>\n      <td>5150.2 Da</td>\n      <td>42 aa</td>\n      <td>13.1</td>\n      <td>Antibacterial</td>\n      <td>RFRPPIRRPPIRPPFYPPFRPPIRPPIFPPIRPPFRPPLRFP</td>\n      <td>1  Target:  Salmonella typhimurium  MIC:  10.3...</td>\n    </tr>\n    <tr>\n      <th>...</th>\n      <td>...</td>\n      <td>...</td>\n      <td>...</td>\n      <td>...</td>\n      <td>...</td>\n      <td>...</td>\n      <td>...</td>\n      <td>...</td>\n      <td>...</td>\n    </tr>\n    <tr>\n      <th>12620</th>\n      <td>L11A013568</td>\n      <td>Bactenecin-7 (1-16)[P7K]</td>\n      <td>NaN</td>\n      <td>2107.6 Da</td>\n      <td>16 aa</td>\n      <td>13.35</td>\n      <td>Gram-</td>\n      <td>RRIRPRKPRLPRPRPR</td>\n      <td>No MICs found on LAMP database</td>\n    </tr>\n    <tr>\n      <th>12621</th>\n      <td>L11A013569</td>\n      <td>Bactenecin-7 (1-16)[P7R]</td>\n      <td>NaN</td>\n      <td>2135.6 Da</td>\n      <td>16 aa</td>\n      <td>13.4</td>\n      <td>Gram-</td>\n      <td>RRIRPRRPRLPRPRPR</td>\n      <td>No MICs found on LAMP database</td>\n    </tr>\n    <tr>\n      <th>12622</th>\n      <td>L11A013570</td>\n      <td>Bactenecin-7 (1-16)[R16K]</td>\n      <td>NaN</td>\n      <td>2048.5 Da</td>\n      <td>16 aa</td>\n      <td>13.28</td>\n      <td>Gram-</td>\n      <td>RRIRPRPPRLPRPRPK</td>\n      <td>No MICs found on LAMP database</td>\n    </tr>\n    <tr>\n      <th>12623</th>\n      <td>L11A013571</td>\n      <td>Oncocin [D2P]</td>\n      <td>NaN</td>\n      <td>2372.8 Da</td>\n      <td>19 aa</td>\n      <td>12.34</td>\n      <td>Gram+Gram-</td>\n      <td>VPKPPYLPRPRPPRRIYNR</td>\n      <td>No MICs found on LAMP database</td>\n    </tr>\n    <tr>\n      <th>12624</th>\n      <td>L11A013572</td>\n      <td>Oncocin [P12R]</td>\n      <td>NaN</td>\n      <td>2449.9 Da</td>\n      <td>19 aa</td>\n      <td>12.22</td>\n      <td>Gram+Gram-</td>\n      <td>VDKPPYLPRPRRPRRIYNR</td>\n      <td>No MICs found on LAMP database</td>\n    </tr>\n  </tbody>\n</table>\n<p>12624 rows × 9 columns</p>\n</div>"
     },
     "execution_count": 2,
     "metadata": {},
     "output_type": "execute_result"
    }
   ],
   "source": [
    "os.chdir(r'E:\\文件\\大学课程\\大四上\\毕业设计\\数据收集\\收集整理\\后期数据清洗整理\\LAMP2')  #设置工作路径\n",
    "df=pd.read_csv(r'result.csv')\n",
    "df.dropna(subset=['MIC'], inplace=True)\n",
    "df"
   ],
   "metadata": {
    "collapsed": false,
    "pycharm": {
     "name": "#%%\n"
    }
   }
  },
  {
   "cell_type": "code",
   "execution_count": 3,
   "outputs": [],
   "source": [
    "#定义一个将混合多种生物targets活性数据拆分成单个target活性数据的函数\n",
    "def single_target(targets):\n",
    "    targets = [i for i in targets.split('     ')]\n",
    "    return targets\n",
    "\n",
    "#定义一个删除unit后面分割不干净的函数\n",
    "def Unit(unit):\n",
    "    unit=unit.replace('.','')\n",
    "    unit=unit.replace(')','')\n",
    "    unit=unit.replace(';','')\n",
    "    unit=unit.replace('；','')\n",
    "    return unit\n",
    "\n",
    "#定义一个同时获得两种单位的拆分target/measure/value/unit的函数\n",
    "def cut_mic(two_mics):\n",
    "    j = two_mics.split(':')\n",
    "    target_measure = j[1].strip()\n",
    "    measure = target_measure.split(' ')[-1]\n",
    "    target = target_measure.strip(measure)\n",
    "    target = target.strip()\n",
    "    MICs = j[2].strip().split(' ')\n",
    "    if len(MICs) ==5:\n",
    "        num1 = MICs[0].strip()\n",
    "        unit1 = MICs[1].strip()\n",
    "        num2=MICs[3].strip('(')\n",
    "        unit2=MICs[4].strip(')')\n",
    "        lists=[[target,measure,num1,unit1],[target,measure,num2,unit2]]\n",
    "        return lists\n",
    "    else:\n",
    "        return [target,measure,MICs]"
   ],
   "metadata": {
    "collapsed": false,
    "pycharm": {
     "name": "#%%\n"
    }
   }
  },
  {
   "cell_type": "code",
   "execution_count": 4,
   "outputs": [],
   "source": [
    "# 新建一个数据表，每次写入两行\n",
    "newdf=pd.DataFrame(columns=df.columns)\n",
    "newdf[['target','measure','value','unit']]=''\n",
    "new_index=0\n",
    "df_index=df.index    #建立一个循环，要循环完原始数据的每一行\n",
    "for index in df.index:\n",
    "    old_row=copy.deepcopy(list(df.loc[index]))   #一定要把旧行设置成为列表，不然输出的就是series对象\n",
    "    targets=copy.deepcopy(df.loc[index,'MIC'])\n",
    "    new_targets=single_target(targets)\n",
    "    if new_targets!=None:\n",
    "        for two_mic in single_target(targets):\n",
    "            if '(' in two_mic:\n",
    "                if len(cut_mic(two_mic))==2:\n",
    "                    row1=old_row+cut_mic(two_mic)[0]\n",
    "                    newdf.loc[new_index]=row1\n",
    "                    new_index+=1\n",
    "                    row2=old_row+cut_mic(two_mic)[1]\n",
    "                    newdf.loc[new_index]=row2\n",
    "                    new_index+=1\n",
    "                # else:\n",
    "                #     print(cut_mic(two_mic))"
   ],
   "metadata": {
    "collapsed": false,
    "pycharm": {
     "name": "#%%\n"
    }
   }
  },
  {
   "cell_type": "code",
   "execution_count": 5,
   "outputs": [
    {
     "data": {
      "text/plain": "              id           name                source       mass length  \\\n0     L01A000002    D104A_HUMAN          Homo sapiens  5712.5 Da  48 aa   \n1     L01A000002    D104A_HUMAN          Homo sapiens  5712.5 Da  48 aa   \n2     L01A000002    D104A_HUMAN          Homo sapiens  5712.5 Da  48 aa   \n3     L01A000002    D104A_HUMAN          Homo sapiens  5712.5 Da  48 aa   \n4     L01A000002    D104A_HUMAN          Homo sapiens  5712.5 Da  48 aa   \n...          ...            ...                   ...        ...    ...   \n8361  L10Q2PGA80  Temporin-1TGa            Rana tagoi  1383.7 Da  13 aa   \n8362  L10Q2PGA80  Temporin-1TGa            Rana tagoi  1383.7 Da  13 aa   \n8363  L10Q2PGA80  Temporin-1TGa            Rana tagoi  1383.7 Da  13 aa   \n8364  L10Q800R30           PBN1  Phyllomedusa bicolor  2043.5 Da  20 aa   \n8365  L10Q800R30           PBN1  Phyllomedusa bicolor  2043.5 Da  20 aa   \n\n     Isoelectric point                   activity  \\\n0                 9.45  Antibacterial| Antifungal   \n1                 9.45  Antibacterial| Antifungal   \n2                 9.45  Antibacterial| Antifungal   \n3                 9.45  Antibacterial| Antifungal   \n4                 9.45  Antibacterial| Antifungal   \n...                ...                        ...   \n8361              9.69              Antimicrobial   \n8362              9.69              Antimicrobial   \n8363              9.69              Antimicrobial   \n8364              9.69              Antimicrobial   \n8365              9.69              Antimicrobial   \n\n                                              sequence  \\\n0     ELDRICGYGTARCRKKCRSQEYRIGRCPNTYACCLRKWDESLLNRTKP   \n1     ELDRICGYGTARCRKKCRSQEYRIGRCPNTYACCLRKWDESLLNRTKP   \n2     ELDRICGYGTARCRKKCRSQEYRIGRCPNTYACCLRKWDESLLNRTKP   \n3     ELDRICGYGTARCRKKCRSQEYRIGRCPNTYACCLRKWDESLLNRTKP   \n4     ELDRICGYGTARCRKKCRSQEYRIGRCPNTYACCLRKWDESLLNRTKP   \n...                                                ...   \n8361                                     FLPIIGKLLSGIL   \n8362                                     FLPIIGKLLSGIL   \n8363                                     FLPIIGKLLSGIL   \n8364                              FLSLIPHIVSGVAALAKHLG   \n8365                              FLSLIPHIVSGVAALAKHLG   \n\n                                                    MIC  \\\n0     1  Target:  Staphylococcus carnosus TM300  MIC...   \n1     1  Target:  Staphylococcus carnosus TM300  MIC...   \n2     1  Target:  Staphylococcus carnosus TM300  MIC...   \n3     1  Target:  Staphylococcus carnosus TM300  MIC...   \n4     1  Target:  Staphylococcus carnosus TM300  MIC...   \n...                                                 ...   \n8361  1  Target:  E. coli  MIC:  138.37 ug/ml  (100 ...   \n8362  1  Target:  E. coli  MIC:  138.37 ug/ml  (100 ...   \n8363  1  Target:  E. coli  MIC:  138.37 ug/ml  (100 ...   \n8364  1  Target:  S. aureus  MIC:  25.5438 ug/ml  (1...   \n8365  1  Target:  S. aureus  MIC:  25.5438 ug/ml  (1...   \n\n                                 target measure     value   unit  \n0         Staphylococcus carnosus TM300     MIC       4.5  ug/ml  \n1         Staphylococcus carnosus TM300     MIC  0.787746     uM  \n2                 Escherichia coli BL21     MIC       100  ug/ml  \n3                 Escherichia coli BL21     MIC   17.5055     uM  \n4     Saccharomyces cerevisiae ATCC9763     MIC       100  ug/ml  \n...                                 ...     ...       ...    ...  \n8361                            E. coli     MIC       100     uM  \n8362                          S. aureus     MIC   20.7555  ug/ml  \n8363                          S. aureus     MIC        15     uM  \n8364                          S. aureus     MIC   25.5438  ug/ml  \n8365                          S. aureus     MIC      12.5     uM  \n\n[8366 rows x 13 columns]",
      "text/html": "<div>\n<style scoped>\n    .dataframe tbody tr th:only-of-type {\n        vertical-align: middle;\n    }\n\n    .dataframe tbody tr th {\n        vertical-align: top;\n    }\n\n    .dataframe thead th {\n        text-align: right;\n    }\n</style>\n<table border=\"1\" class=\"dataframe\">\n  <thead>\n    <tr style=\"text-align: right;\">\n      <th></th>\n      <th>id</th>\n      <th>name</th>\n      <th>source</th>\n      <th>mass</th>\n      <th>length</th>\n      <th>Isoelectric point</th>\n      <th>activity</th>\n      <th>sequence</th>\n      <th>MIC</th>\n      <th>target</th>\n      <th>measure</th>\n      <th>value</th>\n      <th>unit</th>\n    </tr>\n  </thead>\n  <tbody>\n    <tr>\n      <th>0</th>\n      <td>L01A000002</td>\n      <td>D104A_HUMAN</td>\n      <td>Homo sapiens</td>\n      <td>5712.5 Da</td>\n      <td>48 aa</td>\n      <td>9.45</td>\n      <td>Antibacterial| Antifungal</td>\n      <td>ELDRICGYGTARCRKKCRSQEYRIGRCPNTYACCLRKWDESLLNRTKP</td>\n      <td>1  Target:  Staphylococcus carnosus TM300  MIC...</td>\n      <td>Staphylococcus carnosus TM300</td>\n      <td>MIC</td>\n      <td>4.5</td>\n      <td>ug/ml</td>\n    </tr>\n    <tr>\n      <th>1</th>\n      <td>L01A000002</td>\n      <td>D104A_HUMAN</td>\n      <td>Homo sapiens</td>\n      <td>5712.5 Da</td>\n      <td>48 aa</td>\n      <td>9.45</td>\n      <td>Antibacterial| Antifungal</td>\n      <td>ELDRICGYGTARCRKKCRSQEYRIGRCPNTYACCLRKWDESLLNRTKP</td>\n      <td>1  Target:  Staphylococcus carnosus TM300  MIC...</td>\n      <td>Staphylococcus carnosus TM300</td>\n      <td>MIC</td>\n      <td>0.787746</td>\n      <td>uM</td>\n    </tr>\n    <tr>\n      <th>2</th>\n      <td>L01A000002</td>\n      <td>D104A_HUMAN</td>\n      <td>Homo sapiens</td>\n      <td>5712.5 Da</td>\n      <td>48 aa</td>\n      <td>9.45</td>\n      <td>Antibacterial| Antifungal</td>\n      <td>ELDRICGYGTARCRKKCRSQEYRIGRCPNTYACCLRKWDESLLNRTKP</td>\n      <td>1  Target:  Staphylococcus carnosus TM300  MIC...</td>\n      <td>Escherichia coli BL21</td>\n      <td>MIC</td>\n      <td>100</td>\n      <td>ug/ml</td>\n    </tr>\n    <tr>\n      <th>3</th>\n      <td>L01A000002</td>\n      <td>D104A_HUMAN</td>\n      <td>Homo sapiens</td>\n      <td>5712.5 Da</td>\n      <td>48 aa</td>\n      <td>9.45</td>\n      <td>Antibacterial| Antifungal</td>\n      <td>ELDRICGYGTARCRKKCRSQEYRIGRCPNTYACCLRKWDESLLNRTKP</td>\n      <td>1  Target:  Staphylococcus carnosus TM300  MIC...</td>\n      <td>Escherichia coli BL21</td>\n      <td>MIC</td>\n      <td>17.5055</td>\n      <td>uM</td>\n    </tr>\n    <tr>\n      <th>4</th>\n      <td>L01A000002</td>\n      <td>D104A_HUMAN</td>\n      <td>Homo sapiens</td>\n      <td>5712.5 Da</td>\n      <td>48 aa</td>\n      <td>9.45</td>\n      <td>Antibacterial| Antifungal</td>\n      <td>ELDRICGYGTARCRKKCRSQEYRIGRCPNTYACCLRKWDESLLNRTKP</td>\n      <td>1  Target:  Staphylococcus carnosus TM300  MIC...</td>\n      <td>Saccharomyces cerevisiae ATCC9763</td>\n      <td>MIC</td>\n      <td>100</td>\n      <td>ug/ml</td>\n    </tr>\n    <tr>\n      <th>...</th>\n      <td>...</td>\n      <td>...</td>\n      <td>...</td>\n      <td>...</td>\n      <td>...</td>\n      <td>...</td>\n      <td>...</td>\n      <td>...</td>\n      <td>...</td>\n      <td>...</td>\n      <td>...</td>\n      <td>...</td>\n      <td>...</td>\n    </tr>\n    <tr>\n      <th>8361</th>\n      <td>L10Q2PGA80</td>\n      <td>Temporin-1TGa</td>\n      <td>Rana tagoi</td>\n      <td>1383.7 Da</td>\n      <td>13 aa</td>\n      <td>9.69</td>\n      <td>Antimicrobial</td>\n      <td>FLPIIGKLLSGIL</td>\n      <td>1  Target:  E. coli  MIC:  138.37 ug/ml  (100 ...</td>\n      <td>E. coli</td>\n      <td>MIC</td>\n      <td>100</td>\n      <td>uM</td>\n    </tr>\n    <tr>\n      <th>8362</th>\n      <td>L10Q2PGA80</td>\n      <td>Temporin-1TGa</td>\n      <td>Rana tagoi</td>\n      <td>1383.7 Da</td>\n      <td>13 aa</td>\n      <td>9.69</td>\n      <td>Antimicrobial</td>\n      <td>FLPIIGKLLSGIL</td>\n      <td>1  Target:  E. coli  MIC:  138.37 ug/ml  (100 ...</td>\n      <td>S. aureus</td>\n      <td>MIC</td>\n      <td>20.7555</td>\n      <td>ug/ml</td>\n    </tr>\n    <tr>\n      <th>8363</th>\n      <td>L10Q2PGA80</td>\n      <td>Temporin-1TGa</td>\n      <td>Rana tagoi</td>\n      <td>1383.7 Da</td>\n      <td>13 aa</td>\n      <td>9.69</td>\n      <td>Antimicrobial</td>\n      <td>FLPIIGKLLSGIL</td>\n      <td>1  Target:  E. coli  MIC:  138.37 ug/ml  (100 ...</td>\n      <td>S. aureus</td>\n      <td>MIC</td>\n      <td>15</td>\n      <td>uM</td>\n    </tr>\n    <tr>\n      <th>8364</th>\n      <td>L10Q800R30</td>\n      <td>PBN1</td>\n      <td>Phyllomedusa bicolor</td>\n      <td>2043.5 Da</td>\n      <td>20 aa</td>\n      <td>9.69</td>\n      <td>Antimicrobial</td>\n      <td>FLSLIPHIVSGVAALAKHLG</td>\n      <td>1  Target:  S. aureus  MIC:  25.5438 ug/ml  (1...</td>\n      <td>S. aureus</td>\n      <td>MIC</td>\n      <td>25.5438</td>\n      <td>ug/ml</td>\n    </tr>\n    <tr>\n      <th>8365</th>\n      <td>L10Q800R30</td>\n      <td>PBN1</td>\n      <td>Phyllomedusa bicolor</td>\n      <td>2043.5 Da</td>\n      <td>20 aa</td>\n      <td>9.69</td>\n      <td>Antimicrobial</td>\n      <td>FLSLIPHIVSGVAALAKHLG</td>\n      <td>1  Target:  S. aureus  MIC:  25.5438 ug/ml  (1...</td>\n      <td>S. aureus</td>\n      <td>MIC</td>\n      <td>12.5</td>\n      <td>uM</td>\n    </tr>\n  </tbody>\n</table>\n<p>8366 rows × 13 columns</p>\n</div>"
     },
     "execution_count": 5,
     "metadata": {},
     "output_type": "execute_result"
    }
   ],
   "source": [
    "newdf.to_excel(r'1_CAMP.xlsx',index=False)\n",
    "newdf"
   ],
   "metadata": {
    "collapsed": false,
    "pycharm": {
     "name": "#%%\n"
    }
   }
  },
  {
   "cell_type": "code",
   "execution_count": 6,
   "outputs": [
    {
     "data": {
      "text/plain": "              id           name                source       mass length  \\\n0     L01A000002    D104A_HUMAN          Homo sapiens  5712.5 Da  48 aa   \n1     L01A000002    D104A_HUMAN          Homo sapiens  5712.5 Da  48 aa   \n2     L01A000002    D104A_HUMAN          Homo sapiens  5712.5 Da  48 aa   \n3     L01A000002    D104A_HUMAN          Homo sapiens  5712.5 Da  48 aa   \n4     L01A000002    D104A_HUMAN          Homo sapiens  5712.5 Da  48 aa   \n...          ...            ...                   ...        ...    ...   \n8361  L10Q2PGA80  Temporin-1TGa            Rana tagoi  1383.7 Da  13 aa   \n8362  L10Q2PGA80  Temporin-1TGa            Rana tagoi  1383.7 Da  13 aa   \n8363  L10Q2PGA80  Temporin-1TGa            Rana tagoi  1383.7 Da  13 aa   \n8364  L10Q800R30           PBN1  Phyllomedusa bicolor  2043.5 Da  20 aa   \n8365  L10Q800R30           PBN1  Phyllomedusa bicolor  2043.5 Da  20 aa   \n\n     Isoelectric point                   activity  \\\n0                 9.45  Antibacterial| Antifungal   \n1                 9.45  Antibacterial| Antifungal   \n2                 9.45  Antibacterial| Antifungal   \n3                 9.45  Antibacterial| Antifungal   \n4                 9.45  Antibacterial| Antifungal   \n...                ...                        ...   \n8361              9.69              Antimicrobial   \n8362              9.69              Antimicrobial   \n8363              9.69              Antimicrobial   \n8364              9.69              Antimicrobial   \n8365              9.69              Antimicrobial   \n\n                                              sequence  \\\n0     ELDRICGYGTARCRKKCRSQEYRIGRCPNTYACCLRKWDESLLNRTKP   \n1     ELDRICGYGTARCRKKCRSQEYRIGRCPNTYACCLRKWDESLLNRTKP   \n2     ELDRICGYGTARCRKKCRSQEYRIGRCPNTYACCLRKWDESLLNRTKP   \n3     ELDRICGYGTARCRKKCRSQEYRIGRCPNTYACCLRKWDESLLNRTKP   \n4     ELDRICGYGTARCRKKCRSQEYRIGRCPNTYACCLRKWDESLLNRTKP   \n...                                                ...   \n8361                                     FLPIIGKLLSGIL   \n8362                                     FLPIIGKLLSGIL   \n8363                                     FLPIIGKLLSGIL   \n8364                              FLSLIPHIVSGVAALAKHLG   \n8365                              FLSLIPHIVSGVAALAKHLG   \n\n                                                    MIC  \\\n0     1  Target:  Staphylococcus carnosus TM300  MIC...   \n1     1  Target:  Staphylococcus carnosus TM300  MIC...   \n2     1  Target:  Staphylococcus carnosus TM300  MIC...   \n3     1  Target:  Staphylococcus carnosus TM300  MIC...   \n4     1  Target:  Staphylococcus carnosus TM300  MIC...   \n...                                                 ...   \n8361  1  Target:  E. coli  MIC:  138.37 ug/ml  (100 ...   \n8362  1  Target:  E. coli  MIC:  138.37 ug/ml  (100 ...   \n8363  1  Target:  E. coli  MIC:  138.37 ug/ml  (100 ...   \n8364  1  Target:  S. aureus  MIC:  25.5438 ug/ml  (1...   \n8365  1  Target:  S. aureus  MIC:  25.5438 ug/ml  (1...   \n\n                                 target measure       value   unit  \n0         Staphylococcus carnosus TM300     MIC    4.500000  ug/ml  \n1         Staphylococcus carnosus TM300     MIC    0.787746     uM  \n2                 Escherichia coli BL21     MIC  100.000000  ug/ml  \n3                 Escherichia coli BL21     MIC   17.505500     uM  \n4     Saccharomyces cerevisiae ATCC9763     MIC  100.000000  ug/ml  \n...                                 ...     ...         ...    ...  \n8361                            E. coli     MIC  100.000000     uM  \n8362                          S. aureus     MIC   20.755500  ug/ml  \n8363                          S. aureus     MIC   15.000000     uM  \n8364                          S. aureus     MIC   25.543800  ug/ml  \n8365                          S. aureus     MIC   12.500000     uM  \n\n[8354 rows x 13 columns]",
      "text/html": "<div>\n<style scoped>\n    .dataframe tbody tr th:only-of-type {\n        vertical-align: middle;\n    }\n\n    .dataframe tbody tr th {\n        vertical-align: top;\n    }\n\n    .dataframe thead th {\n        text-align: right;\n    }\n</style>\n<table border=\"1\" class=\"dataframe\">\n  <thead>\n    <tr style=\"text-align: right;\">\n      <th></th>\n      <th>id</th>\n      <th>name</th>\n      <th>source</th>\n      <th>mass</th>\n      <th>length</th>\n      <th>Isoelectric point</th>\n      <th>activity</th>\n      <th>sequence</th>\n      <th>MIC</th>\n      <th>target</th>\n      <th>measure</th>\n      <th>value</th>\n      <th>unit</th>\n    </tr>\n  </thead>\n  <tbody>\n    <tr>\n      <th>0</th>\n      <td>L01A000002</td>\n      <td>D104A_HUMAN</td>\n      <td>Homo sapiens</td>\n      <td>5712.5 Da</td>\n      <td>48 aa</td>\n      <td>9.45</td>\n      <td>Antibacterial| Antifungal</td>\n      <td>ELDRICGYGTARCRKKCRSQEYRIGRCPNTYACCLRKWDESLLNRTKP</td>\n      <td>1  Target:  Staphylococcus carnosus TM300  MIC...</td>\n      <td>Staphylococcus carnosus TM300</td>\n      <td>MIC</td>\n      <td>4.500000</td>\n      <td>ug/ml</td>\n    </tr>\n    <tr>\n      <th>1</th>\n      <td>L01A000002</td>\n      <td>D104A_HUMAN</td>\n      <td>Homo sapiens</td>\n      <td>5712.5 Da</td>\n      <td>48 aa</td>\n      <td>9.45</td>\n      <td>Antibacterial| Antifungal</td>\n      <td>ELDRICGYGTARCRKKCRSQEYRIGRCPNTYACCLRKWDESLLNRTKP</td>\n      <td>1  Target:  Staphylococcus carnosus TM300  MIC...</td>\n      <td>Staphylococcus carnosus TM300</td>\n      <td>MIC</td>\n      <td>0.787746</td>\n      <td>uM</td>\n    </tr>\n    <tr>\n      <th>2</th>\n      <td>L01A000002</td>\n      <td>D104A_HUMAN</td>\n      <td>Homo sapiens</td>\n      <td>5712.5 Da</td>\n      <td>48 aa</td>\n      <td>9.45</td>\n      <td>Antibacterial| Antifungal</td>\n      <td>ELDRICGYGTARCRKKCRSQEYRIGRCPNTYACCLRKWDESLLNRTKP</td>\n      <td>1  Target:  Staphylococcus carnosus TM300  MIC...</td>\n      <td>Escherichia coli BL21</td>\n      <td>MIC</td>\n      <td>100.000000</td>\n      <td>ug/ml</td>\n    </tr>\n    <tr>\n      <th>3</th>\n      <td>L01A000002</td>\n      <td>D104A_HUMAN</td>\n      <td>Homo sapiens</td>\n      <td>5712.5 Da</td>\n      <td>48 aa</td>\n      <td>9.45</td>\n      <td>Antibacterial| Antifungal</td>\n      <td>ELDRICGYGTARCRKKCRSQEYRIGRCPNTYACCLRKWDESLLNRTKP</td>\n      <td>1  Target:  Staphylococcus carnosus TM300  MIC...</td>\n      <td>Escherichia coli BL21</td>\n      <td>MIC</td>\n      <td>17.505500</td>\n      <td>uM</td>\n    </tr>\n    <tr>\n      <th>4</th>\n      <td>L01A000002</td>\n      <td>D104A_HUMAN</td>\n      <td>Homo sapiens</td>\n      <td>5712.5 Da</td>\n      <td>48 aa</td>\n      <td>9.45</td>\n      <td>Antibacterial| Antifungal</td>\n      <td>ELDRICGYGTARCRKKCRSQEYRIGRCPNTYACCLRKWDESLLNRTKP</td>\n      <td>1  Target:  Staphylococcus carnosus TM300  MIC...</td>\n      <td>Saccharomyces cerevisiae ATCC9763</td>\n      <td>MIC</td>\n      <td>100.000000</td>\n      <td>ug/ml</td>\n    </tr>\n    <tr>\n      <th>...</th>\n      <td>...</td>\n      <td>...</td>\n      <td>...</td>\n      <td>...</td>\n      <td>...</td>\n      <td>...</td>\n      <td>...</td>\n      <td>...</td>\n      <td>...</td>\n      <td>...</td>\n      <td>...</td>\n      <td>...</td>\n      <td>...</td>\n    </tr>\n    <tr>\n      <th>8361</th>\n      <td>L10Q2PGA80</td>\n      <td>Temporin-1TGa</td>\n      <td>Rana tagoi</td>\n      <td>1383.7 Da</td>\n      <td>13 aa</td>\n      <td>9.69</td>\n      <td>Antimicrobial</td>\n      <td>FLPIIGKLLSGIL</td>\n      <td>1  Target:  E. coli  MIC:  138.37 ug/ml  (100 ...</td>\n      <td>E. coli</td>\n      <td>MIC</td>\n      <td>100.000000</td>\n      <td>uM</td>\n    </tr>\n    <tr>\n      <th>8362</th>\n      <td>L10Q2PGA80</td>\n      <td>Temporin-1TGa</td>\n      <td>Rana tagoi</td>\n      <td>1383.7 Da</td>\n      <td>13 aa</td>\n      <td>9.69</td>\n      <td>Antimicrobial</td>\n      <td>FLPIIGKLLSGIL</td>\n      <td>1  Target:  E. coli  MIC:  138.37 ug/ml  (100 ...</td>\n      <td>S. aureus</td>\n      <td>MIC</td>\n      <td>20.755500</td>\n      <td>ug/ml</td>\n    </tr>\n    <tr>\n      <th>8363</th>\n      <td>L10Q2PGA80</td>\n      <td>Temporin-1TGa</td>\n      <td>Rana tagoi</td>\n      <td>1383.7 Da</td>\n      <td>13 aa</td>\n      <td>9.69</td>\n      <td>Antimicrobial</td>\n      <td>FLPIIGKLLSGIL</td>\n      <td>1  Target:  E. coli  MIC:  138.37 ug/ml  (100 ...</td>\n      <td>S. aureus</td>\n      <td>MIC</td>\n      <td>15.000000</td>\n      <td>uM</td>\n    </tr>\n    <tr>\n      <th>8364</th>\n      <td>L10Q800R30</td>\n      <td>PBN1</td>\n      <td>Phyllomedusa bicolor</td>\n      <td>2043.5 Da</td>\n      <td>20 aa</td>\n      <td>9.69</td>\n      <td>Antimicrobial</td>\n      <td>FLSLIPHIVSGVAALAKHLG</td>\n      <td>1  Target:  S. aureus  MIC:  25.5438 ug/ml  (1...</td>\n      <td>S. aureus</td>\n      <td>MIC</td>\n      <td>25.543800</td>\n      <td>ug/ml</td>\n    </tr>\n    <tr>\n      <th>8365</th>\n      <td>L10Q800R30</td>\n      <td>PBN1</td>\n      <td>Phyllomedusa bicolor</td>\n      <td>2043.5 Da</td>\n      <td>20 aa</td>\n      <td>9.69</td>\n      <td>Antimicrobial</td>\n      <td>FLSLIPHIVSGVAALAKHLG</td>\n      <td>1  Target:  S. aureus  MIC:  25.5438 ug/ml  (1...</td>\n      <td>S. aureus</td>\n      <td>MIC</td>\n      <td>12.500000</td>\n      <td>uM</td>\n    </tr>\n  </tbody>\n</table>\n<p>8354 rows × 13 columns</p>\n</div>"
     },
     "execution_count": 6,
     "metadata": {},
     "output_type": "execute_result"
    }
   ],
   "source": [
    "# 删除value列中存在空字符或者空白记录的字段，并把value列改为数字格式\n",
    "new=copy.deepcopy(newdf)\n",
    "new['value'] = pd.to_numeric(new['value'], errors='coerce')\n",
    "new.dropna(subset=['value'], inplace=True)\n",
    "new.to_excel(r'2_LAMP删改value.xlsx',index=False)\n",
    "new"
   ],
   "metadata": {
    "collapsed": false,
    "pycharm": {
     "name": "#%%\n"
    }
   }
  },
  {
   "cell_type": "code",
   "execution_count": 7,
   "outputs": [
    {
     "data": {
      "text/plain": "     database_id           name n_terminal  \\\n0     L01A000002    D104A_HUMAN       none   \n1     L01A000002    D104A_HUMAN       none   \n2     L01A000002    D104A_HUMAN       none   \n3     L01A000002    D104A_HUMAN       none   \n4     L01A000002    D104A_HUMAN       none   \n...          ...            ...        ...   \n8361  L10Q2PGA80  Temporin-1TGa       none   \n8362  L10Q2PGA80  Temporin-1TGa       none   \n8363  L10Q2PGA80  Temporin-1TGa       none   \n8364  L10Q800R30           PBN1       none   \n8365  L10Q800R30           PBN1       none   \n\n                                              sequence c_terminal  \\\n0     ELDRICGYGTARCRKKCRSQEYRIGRCPNTYACCLRKWDESLLNRTKP       none   \n1     ELDRICGYGTARCRKKCRSQEYRIGRCPNTYACCLRKWDESLLNRTKP       none   \n2     ELDRICGYGTARCRKKCRSQEYRIGRCPNTYACCLRKWDESLLNRTKP       none   \n3     ELDRICGYGTARCRKKCRSQEYRIGRCPNTYACCLRKWDESLLNRTKP       none   \n4     ELDRICGYGTARCRKKCRSQEYRIGRCPNTYACCLRKWDESLLNRTKP       none   \n...                                                ...        ...   \n8361                                     FLPIIGKLLSGIL       none   \n8362                                     FLPIIGKLLSGIL       none   \n8363                                     FLPIIGKLLSGIL       none   \n8364                              FLSLIPHIVSGVAALAKHLG       none   \n8365                              FLSLIPHIVSGVAALAKHLG       none   \n\n     other_modification                             target measure  \\\n0                  none      Staphylococcus carnosus TM300     MIC   \n1                  none      Staphylococcus carnosus TM300     MIC   \n2                  none              Escherichia coli BL21     MIC   \n3                  none              Escherichia coli BL21     MIC   \n4                  none  Saccharomyces cerevisiae ATCC9763     MIC   \n...                 ...                                ...     ...   \n8361               none                            E. coli     MIC   \n8362               none                          S. aureus     MIC   \n8363               none                          S. aureus     MIC   \n8364               none                          S. aureus     MIC   \n8365               none                          S. aureus     MIC   \n\n           value   unit database  \n0       4.500000  ug/ml     LAMP  \n1       0.787746     uM     LAMP  \n2     100.000000  ug/ml     LAMP  \n3      17.505500     uM     LAMP  \n4     100.000000  ug/ml     LAMP  \n...          ...    ...      ...  \n8361  100.000000     uM     LAMP  \n8362   20.755500  ug/ml     LAMP  \n8363   15.000000     uM     LAMP  \n8364   25.543800  ug/ml     LAMP  \n8365   12.500000     uM     LAMP  \n\n[8354 rows x 11 columns]",
      "text/html": "<div>\n<style scoped>\n    .dataframe tbody tr th:only-of-type {\n        vertical-align: middle;\n    }\n\n    .dataframe tbody tr th {\n        vertical-align: top;\n    }\n\n    .dataframe thead th {\n        text-align: right;\n    }\n</style>\n<table border=\"1\" class=\"dataframe\">\n  <thead>\n    <tr style=\"text-align: right;\">\n      <th></th>\n      <th>database_id</th>\n      <th>name</th>\n      <th>n_terminal</th>\n      <th>sequence</th>\n      <th>c_terminal</th>\n      <th>other_modification</th>\n      <th>target</th>\n      <th>measure</th>\n      <th>value</th>\n      <th>unit</th>\n      <th>database</th>\n    </tr>\n  </thead>\n  <tbody>\n    <tr>\n      <th>0</th>\n      <td>L01A000002</td>\n      <td>D104A_HUMAN</td>\n      <td>none</td>\n      <td>ELDRICGYGTARCRKKCRSQEYRIGRCPNTYACCLRKWDESLLNRTKP</td>\n      <td>none</td>\n      <td>none</td>\n      <td>Staphylococcus carnosus TM300</td>\n      <td>MIC</td>\n      <td>4.500000</td>\n      <td>ug/ml</td>\n      <td>LAMP</td>\n    </tr>\n    <tr>\n      <th>1</th>\n      <td>L01A000002</td>\n      <td>D104A_HUMAN</td>\n      <td>none</td>\n      <td>ELDRICGYGTARCRKKCRSQEYRIGRCPNTYACCLRKWDESLLNRTKP</td>\n      <td>none</td>\n      <td>none</td>\n      <td>Staphylococcus carnosus TM300</td>\n      <td>MIC</td>\n      <td>0.787746</td>\n      <td>uM</td>\n      <td>LAMP</td>\n    </tr>\n    <tr>\n      <th>2</th>\n      <td>L01A000002</td>\n      <td>D104A_HUMAN</td>\n      <td>none</td>\n      <td>ELDRICGYGTARCRKKCRSQEYRIGRCPNTYACCLRKWDESLLNRTKP</td>\n      <td>none</td>\n      <td>none</td>\n      <td>Escherichia coli BL21</td>\n      <td>MIC</td>\n      <td>100.000000</td>\n      <td>ug/ml</td>\n      <td>LAMP</td>\n    </tr>\n    <tr>\n      <th>3</th>\n      <td>L01A000002</td>\n      <td>D104A_HUMAN</td>\n      <td>none</td>\n      <td>ELDRICGYGTARCRKKCRSQEYRIGRCPNTYACCLRKWDESLLNRTKP</td>\n      <td>none</td>\n      <td>none</td>\n      <td>Escherichia coli BL21</td>\n      <td>MIC</td>\n      <td>17.505500</td>\n      <td>uM</td>\n      <td>LAMP</td>\n    </tr>\n    <tr>\n      <th>4</th>\n      <td>L01A000002</td>\n      <td>D104A_HUMAN</td>\n      <td>none</td>\n      <td>ELDRICGYGTARCRKKCRSQEYRIGRCPNTYACCLRKWDESLLNRTKP</td>\n      <td>none</td>\n      <td>none</td>\n      <td>Saccharomyces cerevisiae ATCC9763</td>\n      <td>MIC</td>\n      <td>100.000000</td>\n      <td>ug/ml</td>\n      <td>LAMP</td>\n    </tr>\n    <tr>\n      <th>...</th>\n      <td>...</td>\n      <td>...</td>\n      <td>...</td>\n      <td>...</td>\n      <td>...</td>\n      <td>...</td>\n      <td>...</td>\n      <td>...</td>\n      <td>...</td>\n      <td>...</td>\n      <td>...</td>\n    </tr>\n    <tr>\n      <th>8361</th>\n      <td>L10Q2PGA80</td>\n      <td>Temporin-1TGa</td>\n      <td>none</td>\n      <td>FLPIIGKLLSGIL</td>\n      <td>none</td>\n      <td>none</td>\n      <td>E. coli</td>\n      <td>MIC</td>\n      <td>100.000000</td>\n      <td>uM</td>\n      <td>LAMP</td>\n    </tr>\n    <tr>\n      <th>8362</th>\n      <td>L10Q2PGA80</td>\n      <td>Temporin-1TGa</td>\n      <td>none</td>\n      <td>FLPIIGKLLSGIL</td>\n      <td>none</td>\n      <td>none</td>\n      <td>S. aureus</td>\n      <td>MIC</td>\n      <td>20.755500</td>\n      <td>ug/ml</td>\n      <td>LAMP</td>\n    </tr>\n    <tr>\n      <th>8363</th>\n      <td>L10Q2PGA80</td>\n      <td>Temporin-1TGa</td>\n      <td>none</td>\n      <td>FLPIIGKLLSGIL</td>\n      <td>none</td>\n      <td>none</td>\n      <td>S. aureus</td>\n      <td>MIC</td>\n      <td>15.000000</td>\n      <td>uM</td>\n      <td>LAMP</td>\n    </tr>\n    <tr>\n      <th>8364</th>\n      <td>L10Q800R30</td>\n      <td>PBN1</td>\n      <td>none</td>\n      <td>FLSLIPHIVSGVAALAKHLG</td>\n      <td>none</td>\n      <td>none</td>\n      <td>S. aureus</td>\n      <td>MIC</td>\n      <td>25.543800</td>\n      <td>ug/ml</td>\n      <td>LAMP</td>\n    </tr>\n    <tr>\n      <th>8365</th>\n      <td>L10Q800R30</td>\n      <td>PBN1</td>\n      <td>none</td>\n      <td>FLSLIPHIVSGVAALAKHLG</td>\n      <td>none</td>\n      <td>none</td>\n      <td>S. aureus</td>\n      <td>MIC</td>\n      <td>12.500000</td>\n      <td>uM</td>\n      <td>LAMP</td>\n    </tr>\n  </tbody>\n</table>\n<p>8354 rows × 11 columns</p>\n</div>"
     },
     "execution_count": 7,
     "metadata": {},
     "output_type": "execute_result"
    }
   ],
   "source": [
    "# 写入新文件\n",
    "# 新建一个表格，按照原本规定的格式输出样本数据\n",
    "finaldata=pd.DataFrame(columns=['database_id','name','n_terminal','sequence','c_terminal','other_modification','target','measure','value','unit','database'])\n",
    "finaldata[['name','sequence','target','measure','value','unit','database_id']]=new[['name','sequence','target','measure','value','unit','id']]\n",
    "finaldata[['n_terminal','c_terminal','other_modification']]='none'\n",
    "finaldata['database']='LAMP'\n",
    "finaldata.to_excel(r'LAMP.xlsx',index=False)\n",
    "finaldata"
   ],
   "metadata": {
    "collapsed": false,
    "pycharm": {
     "name": "#%%\n"
    }
   }
  },
  {
   "cell_type": "code",
   "execution_count": 7,
   "outputs": [],
   "source": [],
   "metadata": {
    "collapsed": false,
    "pycharm": {
     "name": "#%%\n"
    }
   }
  }
 ],
 "metadata": {
  "kernelspec": {
   "display_name": "Python 3",
   "language": "python",
   "name": "python3"
  },
  "language_info": {
   "codemirror_mode": {
    "name": "ipython",
    "version": 2
   },
   "file_extension": ".py",
   "mimetype": "text/x-python",
   "name": "python",
   "nbconvert_exporter": "python",
   "pygments_lexer": "ipython2",
   "version": "2.7.6"
  }
 },
 "nbformat": 4,
 "nbformat_minor": 0
}