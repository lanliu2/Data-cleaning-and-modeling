{
 "cells": [
  {
   "cell_type": "code",
   "execution_count": 41,
   "outputs": [],
   "source": [
    "import os\n",
    "import pandas as pd\n",
    "import copy\n",
    "import numpy as np\n",
    "import xlsxwriter"
   ],
   "metadata": {
    "collapsed": false,
    "pycharm": {
     "name": "#%%\n"
    }
   }
  },
  {
   "cell_type": "code",
   "execution_count": 42,
   "outputs": [
    {
     "name": "stderr",
     "output_type": "stream",
     "text": [
      "C:\\Users\\lanliu\\AppData\\Local\\Temp\\ipykernel_5960\\2732382077.py:2: DtypeWarning: Columns (16,17,23,24,31,32,38,53,54,57,63,64,65,66,67,68,71,76,79) have mixed types. Specify dtype option on import or set low_memory=False.\n",
      "  df=pd.read_csv(r'peptides-complete.csv')\n"
     ]
    }
   ],
   "source": [
    "os.chdir(r'E:\\文件\\大学课程\\大四上\\毕业设计\\数据收集\\收集整理\\后期数据清洗整理\\DBAASP')\n",
    "df=pd.read_csv(r'peptides-complete.csv')"
   ],
   "metadata": {
    "collapsed": false,
    "pycharm": {
     "name": "#%%\n"
    }
   }
  },
  {
   "cell_type": "code",
   "execution_count": 43,
   "outputs": [
    {
     "data": {
      "text/plain": "           ID COMPLEXITY        NAME N TERMINUS  \\\n0           1   Multimer  Distinctin        NaN   \n1           1   Multimer  Distinctin        NaN   \n2           1   Multimer  Distinctin        NaN   \n3           1   Multimer  Distinctin        NaN   \n4           1   Multimer  Distinctin        NaN   \n...       ...        ...         ...        ...   \n156994  20312    Monomer         NaN        NaN   \n156995  20312    Monomer         NaN        NaN   \n156996  20312    Monomer         NaN        NaN   \n156997  20312    Monomer         NaN        NaN   \n156998  20312    Monomer         NaN        NaN   \n\n                                                SEQUENCE C TERMINUS  \\\n0       ENREVPPGFTALIKTLRKCKII,NLVSGLIEARKYLEQLHRKLKNCKV        NaN   \n1       ENREVPPGFTALIKTLRKCKII,NLVSGLIEARKYLEQLHRKLKNCKV        NaN   \n2       ENREVPPGFTALIKTLRKCKII,NLVSGLIEARKYLEQLHRKLKNCKV        NaN   \n3       ENREVPPGFTALIKTLRKCKII,NLVSGLIEARKYLEQLHRKLKNCKV        NaN   \n4       ENREVPPGFTALIKTLRKCKII,NLVSGLIEARKYLEQLHRKLKNCKV        NaN   \n...                                                  ...        ...   \n156994                                         WLVWVWRRR        AMD   \n156995                                         WLVWVWRRR        AMD   \n156996                                         WLVWVWRRR        AMD   \n156997                                         WLVWVWRRR        AMD   \n156998                                         WLVWVWRRR        AMD   \n\n       SYNTHESIS TYPE                TARGET GROUP  TARGET OBJECT PDB NAME  \\\n0           Ribosomal                 Gram+,Gram-  Lipid Bilayer     1XKM   \n1           Ribosomal                 Gram+,Gram-  Lipid Bilayer     1XKM   \n2           Ribosomal                 Gram+,Gram-  Lipid Bilayer     1XKM   \n3           Ribosomal                 Gram+,Gram-  Lipid Bilayer     1XKM   \n4           Ribosomal                 Gram+,Gram-  Lipid Bilayer     1XKM   \n...               ...                         ...            ...      ...   \n156994      Synthetic  Gram+,Gram-,Mammalian Cell  Lipid Bilayer      NaN   \n156995      Synthetic  Gram+,Gram-,Mammalian Cell  Lipid Bilayer      NaN   \n156996      Synthetic  Gram+,Gram-,Mammalian Cell  Lipid Bilayer      NaN   \n156997      Synthetic  Gram+,Gram-,Mammalian Cell  Lipid Bilayer      NaN   \n156998      Synthetic  Gram+,Gram-,Mammalian Cell  Lipid Bilayer      NaN   \n\n        ... UNIRPROT - PRO PEPTIDE UNIRPROT - URL ARTICLES - JOURNAL  \\\n0       ...                    NaN            NaN          FEBS Lett   \n1       ...                    NaN            NaN       Biochemistry   \n2       ...                    NaN            NaN                NaN   \n3       ...                    NaN            NaN                NaN   \n4       ...                    NaN            NaN                NaN   \n...     ...                    ...            ...                ...   \n156994  ...                    NaN            NaN                NaN   \n156995  ...                    NaN            NaN                NaN   \n156996  ...                    NaN            NaN                NaN   \n156997  ...                    NaN            NaN                NaN   \n156998  ...                    NaN            NaN                NaN   \n\n       ARTICLES - YEAR ARTICLES - VOLUME ARTICLES - PAGES  \\\n0               2001.0               494            85-89   \n1               2008.0                47        7888-7899   \n2                  NaN               NaN              NaN   \n3                  NaN               NaN              NaN   \n4                  NaN               NaN              NaN   \n...                ...               ...              ...   \n156994             NaN               NaN              NaN   \n156995             NaN               NaN              NaN   \n156996             NaN               NaN              NaN   \n156997             NaN               NaN              NaN   \n156998             NaN               NaN              NaN   \n\n                                         ARTICLES - TITLE  \\\n0       A novel heterodimeric antimicrobial peptide fr...   \n1       Structural features of distinctin affecting pe...   \n2                                                     NaN   \n3                                                     NaN   \n4                                                     NaN   \n...                                                   ...   \n156994                                                NaN   \n156995                                                NaN   \n156996                                                NaN   \n156997                                                NaN   \n156998                                                NaN   \n\n       ARTICLES - ADDITIONAL                            ARTICLES - PUBMED  \\\n0                        NaN  http://www.ncbi.nlm.nih.gov/pubmed/11297740   \n1                        NaN  http://www.ncbi.nlm.nih.gov/pubmed/18597491   \n2                        NaN                                          NaN   \n3                        NaN                                          NaN   \n4                        NaN                                          NaN   \n...                      ...                                          ...   \n156994                   NaN                                          NaN   \n156995                   NaN                                          NaN   \n156996                   NaN                                          NaN   \n156997                   NaN                                          NaN   \n156998                   NaN                                          NaN   \n\n                                       ARTICLES - AUTHORS  \n0       Batista CV,Scaloni A,Rigden DJ,Silva LR,Rodrig...  \n1       Dalla Serra M,Cirioni O,Vitale RM,Renzone G,Co...  \n2                                                     NaN  \n3                                                     NaN  \n4                                                     NaN  \n...                                                   ...  \n156994                                                NaN  \n156995                                                NaN  \n156996                                                NaN  \n156997                                                NaN  \n156998                                                NaN  \n\n[156999 rows x 82 columns]",
      "text/html": "<div>\n<style scoped>\n    .dataframe tbody tr th:only-of-type {\n        vertical-align: middle;\n    }\n\n    .dataframe tbody tr th {\n        vertical-align: top;\n    }\n\n    .dataframe thead th {\n        text-align: right;\n    }\n</style>\n<table border=\"1\" class=\"dataframe\">\n  <thead>\n    <tr style=\"text-align: right;\">\n      <th></th>\n      <th>ID</th>\n      <th>COMPLEXITY</th>\n      <th>NAME</th>\n      <th>N TERMINUS</th>\n      <th>SEQUENCE</th>\n      <th>C TERMINUS</th>\n      <th>SYNTHESIS TYPE</th>\n      <th>TARGET GROUP</th>\n      <th>TARGET OBJECT</th>\n      <th>PDB NAME</th>\n      <th>...</th>\n      <th>UNIRPROT - PRO PEPTIDE</th>\n      <th>UNIRPROT - URL</th>\n      <th>ARTICLES - JOURNAL</th>\n      <th>ARTICLES - YEAR</th>\n      <th>ARTICLES - VOLUME</th>\n      <th>ARTICLES - PAGES</th>\n      <th>ARTICLES - TITLE</th>\n      <th>ARTICLES - ADDITIONAL</th>\n      <th>ARTICLES - PUBMED</th>\n      <th>ARTICLES - AUTHORS</th>\n    </tr>\n  </thead>\n  <tbody>\n    <tr>\n      <th>0</th>\n      <td>1</td>\n      <td>Multimer</td>\n      <td>Distinctin</td>\n      <td>NaN</td>\n      <td>ENREVPPGFTALIKTLRKCKII,NLVSGLIEARKYLEQLHRKLKNCKV</td>\n      <td>NaN</td>\n      <td>Ribosomal</td>\n      <td>Gram+,Gram-</td>\n      <td>Lipid Bilayer</td>\n      <td>1XKM</td>\n      <td>...</td>\n      <td>NaN</td>\n      <td>NaN</td>\n      <td>FEBS Lett</td>\n      <td>2001.0</td>\n      <td>494</td>\n      <td>85-89</td>\n      <td>A novel heterodimeric antimicrobial peptide fr...</td>\n      <td>NaN</td>\n      <td>http://www.ncbi.nlm.nih.gov/pubmed/11297740</td>\n      <td>Batista CV,Scaloni A,Rigden DJ,Silva LR,Rodrig...</td>\n    </tr>\n    <tr>\n      <th>1</th>\n      <td>1</td>\n      <td>Multimer</td>\n      <td>Distinctin</td>\n      <td>NaN</td>\n      <td>ENREVPPGFTALIKTLRKCKII,NLVSGLIEARKYLEQLHRKLKNCKV</td>\n      <td>NaN</td>\n      <td>Ribosomal</td>\n      <td>Gram+,Gram-</td>\n      <td>Lipid Bilayer</td>\n      <td>1XKM</td>\n      <td>...</td>\n      <td>NaN</td>\n      <td>NaN</td>\n      <td>Biochemistry</td>\n      <td>2008.0</td>\n      <td>47</td>\n      <td>7888-7899</td>\n      <td>Structural features of distinctin affecting pe...</td>\n      <td>NaN</td>\n      <td>http://www.ncbi.nlm.nih.gov/pubmed/18597491</td>\n      <td>Dalla Serra M,Cirioni O,Vitale RM,Renzone G,Co...</td>\n    </tr>\n    <tr>\n      <th>2</th>\n      <td>1</td>\n      <td>Multimer</td>\n      <td>Distinctin</td>\n      <td>NaN</td>\n      <td>ENREVPPGFTALIKTLRKCKII,NLVSGLIEARKYLEQLHRKLKNCKV</td>\n      <td>NaN</td>\n      <td>Ribosomal</td>\n      <td>Gram+,Gram-</td>\n      <td>Lipid Bilayer</td>\n      <td>1XKM</td>\n      <td>...</td>\n      <td>NaN</td>\n      <td>NaN</td>\n      <td>NaN</td>\n      <td>NaN</td>\n      <td>NaN</td>\n      <td>NaN</td>\n      <td>NaN</td>\n      <td>NaN</td>\n      <td>NaN</td>\n      <td>NaN</td>\n    </tr>\n    <tr>\n      <th>3</th>\n      <td>1</td>\n      <td>Multimer</td>\n      <td>Distinctin</td>\n      <td>NaN</td>\n      <td>ENREVPPGFTALIKTLRKCKII,NLVSGLIEARKYLEQLHRKLKNCKV</td>\n      <td>NaN</td>\n      <td>Ribosomal</td>\n      <td>Gram+,Gram-</td>\n      <td>Lipid Bilayer</td>\n      <td>1XKM</td>\n      <td>...</td>\n      <td>NaN</td>\n      <td>NaN</td>\n      <td>NaN</td>\n      <td>NaN</td>\n      <td>NaN</td>\n      <td>NaN</td>\n      <td>NaN</td>\n      <td>NaN</td>\n      <td>NaN</td>\n      <td>NaN</td>\n    </tr>\n    <tr>\n      <th>4</th>\n      <td>1</td>\n      <td>Multimer</td>\n      <td>Distinctin</td>\n      <td>NaN</td>\n      <td>ENREVPPGFTALIKTLRKCKII,NLVSGLIEARKYLEQLHRKLKNCKV</td>\n      <td>NaN</td>\n      <td>Ribosomal</td>\n      <td>Gram+,Gram-</td>\n      <td>Lipid Bilayer</td>\n      <td>1XKM</td>\n      <td>...</td>\n      <td>NaN</td>\n      <td>NaN</td>\n      <td>NaN</td>\n      <td>NaN</td>\n      <td>NaN</td>\n      <td>NaN</td>\n      <td>NaN</td>\n      <td>NaN</td>\n      <td>NaN</td>\n      <td>NaN</td>\n    </tr>\n    <tr>\n      <th>...</th>\n      <td>...</td>\n      <td>...</td>\n      <td>...</td>\n      <td>...</td>\n      <td>...</td>\n      <td>...</td>\n      <td>...</td>\n      <td>...</td>\n      <td>...</td>\n      <td>...</td>\n      <td>...</td>\n      <td>...</td>\n      <td>...</td>\n      <td>...</td>\n      <td>...</td>\n      <td>...</td>\n      <td>...</td>\n      <td>...</td>\n      <td>...</td>\n      <td>...</td>\n      <td>...</td>\n    </tr>\n    <tr>\n      <th>156994</th>\n      <td>20312</td>\n      <td>Monomer</td>\n      <td>NaN</td>\n      <td>NaN</td>\n      <td>WLVWVWRRR</td>\n      <td>AMD</td>\n      <td>Synthetic</td>\n      <td>Gram+,Gram-,Mammalian Cell</td>\n      <td>Lipid Bilayer</td>\n      <td>NaN</td>\n      <td>...</td>\n      <td>NaN</td>\n      <td>NaN</td>\n      <td>NaN</td>\n      <td>NaN</td>\n      <td>NaN</td>\n      <td>NaN</td>\n      <td>NaN</td>\n      <td>NaN</td>\n      <td>NaN</td>\n      <td>NaN</td>\n    </tr>\n    <tr>\n      <th>156995</th>\n      <td>20312</td>\n      <td>Monomer</td>\n      <td>NaN</td>\n      <td>NaN</td>\n      <td>WLVWVWRRR</td>\n      <td>AMD</td>\n      <td>Synthetic</td>\n      <td>Gram+,Gram-,Mammalian Cell</td>\n      <td>Lipid Bilayer</td>\n      <td>NaN</td>\n      <td>...</td>\n      <td>NaN</td>\n      <td>NaN</td>\n      <td>NaN</td>\n      <td>NaN</td>\n      <td>NaN</td>\n      <td>NaN</td>\n      <td>NaN</td>\n      <td>NaN</td>\n      <td>NaN</td>\n      <td>NaN</td>\n    </tr>\n    <tr>\n      <th>156996</th>\n      <td>20312</td>\n      <td>Monomer</td>\n      <td>NaN</td>\n      <td>NaN</td>\n      <td>WLVWVWRRR</td>\n      <td>AMD</td>\n      <td>Synthetic</td>\n      <td>Gram+,Gram-,Mammalian Cell</td>\n      <td>Lipid Bilayer</td>\n      <td>NaN</td>\n      <td>...</td>\n      <td>NaN</td>\n      <td>NaN</td>\n      <td>NaN</td>\n      <td>NaN</td>\n      <td>NaN</td>\n      <td>NaN</td>\n      <td>NaN</td>\n      <td>NaN</td>\n      <td>NaN</td>\n      <td>NaN</td>\n    </tr>\n    <tr>\n      <th>156997</th>\n      <td>20312</td>\n      <td>Monomer</td>\n      <td>NaN</td>\n      <td>NaN</td>\n      <td>WLVWVWRRR</td>\n      <td>AMD</td>\n      <td>Synthetic</td>\n      <td>Gram+,Gram-,Mammalian Cell</td>\n      <td>Lipid Bilayer</td>\n      <td>NaN</td>\n      <td>...</td>\n      <td>NaN</td>\n      <td>NaN</td>\n      <td>NaN</td>\n      <td>NaN</td>\n      <td>NaN</td>\n      <td>NaN</td>\n      <td>NaN</td>\n      <td>NaN</td>\n      <td>NaN</td>\n      <td>NaN</td>\n    </tr>\n    <tr>\n      <th>156998</th>\n      <td>20312</td>\n      <td>Monomer</td>\n      <td>NaN</td>\n      <td>NaN</td>\n      <td>WLVWVWRRR</td>\n      <td>AMD</td>\n      <td>Synthetic</td>\n      <td>Gram+,Gram-,Mammalian Cell</td>\n      <td>Lipid Bilayer</td>\n      <td>NaN</td>\n      <td>...</td>\n      <td>NaN</td>\n      <td>NaN</td>\n      <td>NaN</td>\n      <td>NaN</td>\n      <td>NaN</td>\n      <td>NaN</td>\n      <td>NaN</td>\n      <td>NaN</td>\n      <td>NaN</td>\n      <td>NaN</td>\n    </tr>\n  </tbody>\n</table>\n<p>156999 rows × 82 columns</p>\n</div>"
     },
     "execution_count": 43,
     "metadata": {},
     "output_type": "execute_result"
    }
   ],
   "source": [
    "df"
   ],
   "metadata": {
    "collapsed": false,
    "pycharm": {
     "name": "#%%\n"
    }
   }
  },
  {
   "cell_type": "code",
   "execution_count": 44,
   "outputs": [],
   "source": [
    "# 新建一个表格，按照原本规定的格式输出样本数据\n",
    "finaldata=pd.DataFrame(columns=['database_id','name','n_terminal','sequence','c_terminal','other_modification','target','measure','value','unit','database'])\n",
    "finaldata[['database_id','name','n_terminal','sequence','c_terminal','target','measure','value','unit']]=df[['ID','NAME','N TERMINUS','SEQUENCE','C TERMINUS','TARGET ACTIVITY - TARGET SPECIES','TARGET ACTIVITY - ACTIVITY MEASURE VALUE','TARGET ACTIVITY - CONCENTRATION','TARGET ACTIVITY - UNIT']]\n",
    "# columns=['ID','NAME','N TERMINUS','SEQUENCE','C TERMINUS','TARGET ACTIVITY - TARGET SPECIES','TARGET ACTIVITY - ACTIVITY MEASURE VALUE','TARGET ACTIVITY - CONCENTRATION','TARGET ACTIVITY - UNIT']\n",
    "finaldata['other_modification']='none'\n",
    "finaldata['database']='DBAASP'"
   ],
   "metadata": {
    "collapsed": false,
    "pycharm": {
     "name": "#%%\n"
    }
   }
  },
  {
   "cell_type": "code",
   "execution_count": 45,
   "outputs": [
    {
     "name": "stderr",
     "output_type": "stream",
     "text": [
      "D:\\办公软件\\python\\Lib\\site-packages\\pandas\\util\\_decorators.py:211: FutureWarning: the 'encoding' keyword is deprecated and will be removed in a future version. Please take steps to stop the use of 'encoding'\n",
      "  return func(*args, **kwargs)\n"
     ]
    },
    {
     "data": {
      "text/plain": "        database_id        name n_terminal  \\\n0                 1  Distinctin        NaN   \n1                 1  Distinctin        NaN   \n2                 1  Distinctin        NaN   \n3                 1  Distinctin        NaN   \n4                 1  Distinctin        NaN   \n...             ...         ...        ...   \n156994        20312         NaN        NaN   \n156995        20312         NaN        NaN   \n156996        20312         NaN        NaN   \n156997        20312         NaN        NaN   \n156998        20312         NaN        NaN   \n\n                                                sequence c_terminal  \\\n0       ENREVPPGFTALIKTLRKCKII,NLVSGLIEARKYLEQLHRKLKNCKV        NaN   \n1       ENREVPPGFTALIKTLRKCKII,NLVSGLIEARKYLEQLHRKLKNCKV        NaN   \n2       ENREVPPGFTALIKTLRKCKII,NLVSGLIEARKYLEQLHRKLKNCKV        NaN   \n3       ENREVPPGFTALIKTLRKCKII,NLVSGLIEARKYLEQLHRKLKNCKV        NaN   \n4       ENREVPPGFTALIKTLRKCKII,NLVSGLIEARKYLEQLHRKLKNCKV        NaN   \n...                                                  ...        ...   \n156994                                         WLVWVWRRR        AMD   \n156995                                         WLVWVWRRR        AMD   \n156996                                         WLVWVWRRR        AMD   \n156997                                         WLVWVWRRR        AMD   \n156998                                         WLVWVWRRR        AMD   \n\n       other_modification                                 target measure  \\\n0                    none            Escherichia coli ATCC 25922     MIC   \n1                    none       Staphylococcus aureus ATCC 25923     MIC   \n2                    none      Pseudomonas aeruginosa ATCC 27853     MIC   \n3                    none       Enterococcus faecalis ATCC 29212     MIC   \n4                    none                       Escherichia coli     MIC   \n...                   ...                                    ...     ...   \n156994               none  Acinetobacter baumannii ATCC BAA-1605     MIC   \n156995               none       Staphylococcus aureus KCCM 40510     MIC   \n156996               none       Staphylococcus aureus KCCM 40510     MIC   \n156997               none       Enterococcus faecalis ATCC 51575     MIC   \n156998               none       Enterococcus faecalis ATCC 51575     MIC   \n\n             value unit database  \n0             14.5   µM   DBAASP  \n1             28.0   µM   DBAASP  \n2             28.0   µM   DBAASP  \n3             14.5   µM   DBAASP  \n4       0.73-11.68   µM   DBAASP  \n...            ...  ...      ...  \n156994        0.63   µM   DBAASP  \n156995          10   µM   DBAASP  \n156996           5   µM   DBAASP  \n156997          10   µM   DBAASP  \n156998         2.5   µM   DBAASP  \n\n[156999 rows x 11 columns]",
      "text/html": "<div>\n<style scoped>\n    .dataframe tbody tr th:only-of-type {\n        vertical-align: middle;\n    }\n\n    .dataframe tbody tr th {\n        vertical-align: top;\n    }\n\n    .dataframe thead th {\n        text-align: right;\n    }\n</style>\n<table border=\"1\" class=\"dataframe\">\n  <thead>\n    <tr style=\"text-align: right;\">\n      <th></th>\n      <th>database_id</th>\n      <th>name</th>\n      <th>n_terminal</th>\n      <th>sequence</th>\n      <th>c_terminal</th>\n      <th>other_modification</th>\n      <th>target</th>\n      <th>measure</th>\n      <th>value</th>\n      <th>unit</th>\n      <th>database</th>\n    </tr>\n  </thead>\n  <tbody>\n    <tr>\n      <th>0</th>\n      <td>1</td>\n      <td>Distinctin</td>\n      <td>NaN</td>\n      <td>ENREVPPGFTALIKTLRKCKII,NLVSGLIEARKYLEQLHRKLKNCKV</td>\n      <td>NaN</td>\n      <td>none</td>\n      <td>Escherichia coli ATCC 25922</td>\n      <td>MIC</td>\n      <td>14.5</td>\n      <td>µM</td>\n      <td>DBAASP</td>\n    </tr>\n    <tr>\n      <th>1</th>\n      <td>1</td>\n      <td>Distinctin</td>\n      <td>NaN</td>\n      <td>ENREVPPGFTALIKTLRKCKII,NLVSGLIEARKYLEQLHRKLKNCKV</td>\n      <td>NaN</td>\n      <td>none</td>\n      <td>Staphylococcus aureus ATCC 25923</td>\n      <td>MIC</td>\n      <td>28.0</td>\n      <td>µM</td>\n      <td>DBAASP</td>\n    </tr>\n    <tr>\n      <th>2</th>\n      <td>1</td>\n      <td>Distinctin</td>\n      <td>NaN</td>\n      <td>ENREVPPGFTALIKTLRKCKII,NLVSGLIEARKYLEQLHRKLKNCKV</td>\n      <td>NaN</td>\n      <td>none</td>\n      <td>Pseudomonas aeruginosa ATCC 27853</td>\n      <td>MIC</td>\n      <td>28.0</td>\n      <td>µM</td>\n      <td>DBAASP</td>\n    </tr>\n    <tr>\n      <th>3</th>\n      <td>1</td>\n      <td>Distinctin</td>\n      <td>NaN</td>\n      <td>ENREVPPGFTALIKTLRKCKII,NLVSGLIEARKYLEQLHRKLKNCKV</td>\n      <td>NaN</td>\n      <td>none</td>\n      <td>Enterococcus faecalis ATCC 29212</td>\n      <td>MIC</td>\n      <td>14.5</td>\n      <td>µM</td>\n      <td>DBAASP</td>\n    </tr>\n    <tr>\n      <th>4</th>\n      <td>1</td>\n      <td>Distinctin</td>\n      <td>NaN</td>\n      <td>ENREVPPGFTALIKTLRKCKII,NLVSGLIEARKYLEQLHRKLKNCKV</td>\n      <td>NaN</td>\n      <td>none</td>\n      <td>Escherichia coli</td>\n      <td>MIC</td>\n      <td>0.73-11.68</td>\n      <td>µM</td>\n      <td>DBAASP</td>\n    </tr>\n    <tr>\n      <th>...</th>\n      <td>...</td>\n      <td>...</td>\n      <td>...</td>\n      <td>...</td>\n      <td>...</td>\n      <td>...</td>\n      <td>...</td>\n      <td>...</td>\n      <td>...</td>\n      <td>...</td>\n      <td>...</td>\n    </tr>\n    <tr>\n      <th>156994</th>\n      <td>20312</td>\n      <td>NaN</td>\n      <td>NaN</td>\n      <td>WLVWVWRRR</td>\n      <td>AMD</td>\n      <td>none</td>\n      <td>Acinetobacter baumannii ATCC BAA-1605</td>\n      <td>MIC</td>\n      <td>0.63</td>\n      <td>µM</td>\n      <td>DBAASP</td>\n    </tr>\n    <tr>\n      <th>156995</th>\n      <td>20312</td>\n      <td>NaN</td>\n      <td>NaN</td>\n      <td>WLVWVWRRR</td>\n      <td>AMD</td>\n      <td>none</td>\n      <td>Staphylococcus aureus KCCM 40510</td>\n      <td>MIC</td>\n      <td>10</td>\n      <td>µM</td>\n      <td>DBAASP</td>\n    </tr>\n    <tr>\n      <th>156996</th>\n      <td>20312</td>\n      <td>NaN</td>\n      <td>NaN</td>\n      <td>WLVWVWRRR</td>\n      <td>AMD</td>\n      <td>none</td>\n      <td>Staphylococcus aureus KCCM 40510</td>\n      <td>MIC</td>\n      <td>5</td>\n      <td>µM</td>\n      <td>DBAASP</td>\n    </tr>\n    <tr>\n      <th>156997</th>\n      <td>20312</td>\n      <td>NaN</td>\n      <td>NaN</td>\n      <td>WLVWVWRRR</td>\n      <td>AMD</td>\n      <td>none</td>\n      <td>Enterococcus faecalis ATCC 51575</td>\n      <td>MIC</td>\n      <td>10</td>\n      <td>µM</td>\n      <td>DBAASP</td>\n    </tr>\n    <tr>\n      <th>156998</th>\n      <td>20312</td>\n      <td>NaN</td>\n      <td>NaN</td>\n      <td>WLVWVWRRR</td>\n      <td>AMD</td>\n      <td>none</td>\n      <td>Enterococcus faecalis ATCC 51575</td>\n      <td>MIC</td>\n      <td>2.5</td>\n      <td>µM</td>\n      <td>DBAASP</td>\n    </tr>\n  </tbody>\n</table>\n<p>156999 rows × 11 columns</p>\n</div>"
     },
     "execution_count": 45,
     "metadata": {},
     "output_type": "execute_result"
    }
   ],
   "source": [
    "finaldata.to_excel(r'1_DBAASP.xlsx',index=False,engine='xlsxwriter', encoding='utf-8')\n",
    "finaldata"
   ],
   "metadata": {
    "collapsed": false,
    "pycharm": {
     "name": "#%%\n"
    }
   }
  },
  {
   "cell_type": "code",
   "execution_count": 46,
   "outputs": [
    {
     "name": "stderr",
     "output_type": "stream",
     "text": [
      "D:\\办公软件\\python\\Lib\\site-packages\\pandas\\util\\_decorators.py:211: FutureWarning: the 'encoding' keyword is deprecated and will be removed in a future version. Please take steps to stop the use of 'encoding'\n",
      "  return func(*args, **kwargs)\n"
     ]
    },
    {
     "data": {
      "text/plain": "        database_id        name n_terminal  \\\n0                 1  Distinctin        NaN   \n1                 1  Distinctin        NaN   \n2                 1  Distinctin        NaN   \n3                 1  Distinctin        NaN   \n4                 1  Distinctin        NaN   \n...             ...         ...        ...   \n156994        20312         NaN        NaN   \n156995        20312         NaN        NaN   \n156996        20312         NaN        NaN   \n156997        20312         NaN        NaN   \n156998        20312         NaN        NaN   \n\n                                                sequence c_terminal  \\\n0       ENREVPPGFTALIKTLRKCKII,NLVSGLIEARKYLEQLHRKLKNCKV        NaN   \n1       ENREVPPGFTALIKTLRKCKII,NLVSGLIEARKYLEQLHRKLKNCKV        NaN   \n2       ENREVPPGFTALIKTLRKCKII,NLVSGLIEARKYLEQLHRKLKNCKV        NaN   \n3       ENREVPPGFTALIKTLRKCKII,NLVSGLIEARKYLEQLHRKLKNCKV        NaN   \n4       ENREVPPGFTALIKTLRKCKII,NLVSGLIEARKYLEQLHRKLKNCKV        NaN   \n...                                                  ...        ...   \n156994                                         WLVWVWRRR        AMD   \n156995                                         WLVWVWRRR        AMD   \n156996                                         WLVWVWRRR        AMD   \n156997                                         WLVWVWRRR        AMD   \n156998                                         WLVWVWRRR        AMD   \n\n       other_modification                                 target measure  \\\n0                    none            Escherichia coli ATCC 25922     MIC   \n1                    none       Staphylococcus aureus ATCC 25923     MIC   \n2                    none      Pseudomonas aeruginosa ATCC 27853     MIC   \n3                    none       Enterococcus faecalis ATCC 29212     MIC   \n4                    none                       Escherichia coli     MIC   \n...                   ...                                    ...     ...   \n156994               none  Acinetobacter baumannii ATCC BAA-1605     MIC   \n156995               none       Staphylococcus aureus KCCM 40510     MIC   \n156996               none       Staphylococcus aureus KCCM 40510     MIC   \n156997               none       Enterococcus faecalis ATCC 51575     MIC   \n156998               none       Enterococcus faecalis ATCC 51575     MIC   \n\n             value unit database  \n0             14.5   µM   DBAASP  \n1             28.0   µM   DBAASP  \n2             28.0   µM   DBAASP  \n3             14.5   µM   DBAASP  \n4       0.73-11.68   µM   DBAASP  \n...            ...  ...      ...  \n156994        0.63   µM   DBAASP  \n156995          10   µM   DBAASP  \n156996           5   µM   DBAASP  \n156997          10   µM   DBAASP  \n156998         2.5   µM   DBAASP  \n\n[143088 rows x 11 columns]",
      "text/html": "<div>\n<style scoped>\n    .dataframe tbody tr th:only-of-type {\n        vertical-align: middle;\n    }\n\n    .dataframe tbody tr th {\n        vertical-align: top;\n    }\n\n    .dataframe thead th {\n        text-align: right;\n    }\n</style>\n<table border=\"1\" class=\"dataframe\">\n  <thead>\n    <tr style=\"text-align: right;\">\n      <th></th>\n      <th>database_id</th>\n      <th>name</th>\n      <th>n_terminal</th>\n      <th>sequence</th>\n      <th>c_terminal</th>\n      <th>other_modification</th>\n      <th>target</th>\n      <th>measure</th>\n      <th>value</th>\n      <th>unit</th>\n      <th>database</th>\n    </tr>\n  </thead>\n  <tbody>\n    <tr>\n      <th>0</th>\n      <td>1</td>\n      <td>Distinctin</td>\n      <td>NaN</td>\n      <td>ENREVPPGFTALIKTLRKCKII,NLVSGLIEARKYLEQLHRKLKNCKV</td>\n      <td>NaN</td>\n      <td>none</td>\n      <td>Escherichia coli ATCC 25922</td>\n      <td>MIC</td>\n      <td>14.5</td>\n      <td>µM</td>\n      <td>DBAASP</td>\n    </tr>\n    <tr>\n      <th>1</th>\n      <td>1</td>\n      <td>Distinctin</td>\n      <td>NaN</td>\n      <td>ENREVPPGFTALIKTLRKCKII,NLVSGLIEARKYLEQLHRKLKNCKV</td>\n      <td>NaN</td>\n      <td>none</td>\n      <td>Staphylococcus aureus ATCC 25923</td>\n      <td>MIC</td>\n      <td>28.0</td>\n      <td>µM</td>\n      <td>DBAASP</td>\n    </tr>\n    <tr>\n      <th>2</th>\n      <td>1</td>\n      <td>Distinctin</td>\n      <td>NaN</td>\n      <td>ENREVPPGFTALIKTLRKCKII,NLVSGLIEARKYLEQLHRKLKNCKV</td>\n      <td>NaN</td>\n      <td>none</td>\n      <td>Pseudomonas aeruginosa ATCC 27853</td>\n      <td>MIC</td>\n      <td>28.0</td>\n      <td>µM</td>\n      <td>DBAASP</td>\n    </tr>\n    <tr>\n      <th>3</th>\n      <td>1</td>\n      <td>Distinctin</td>\n      <td>NaN</td>\n      <td>ENREVPPGFTALIKTLRKCKII,NLVSGLIEARKYLEQLHRKLKNCKV</td>\n      <td>NaN</td>\n      <td>none</td>\n      <td>Enterococcus faecalis ATCC 29212</td>\n      <td>MIC</td>\n      <td>14.5</td>\n      <td>µM</td>\n      <td>DBAASP</td>\n    </tr>\n    <tr>\n      <th>4</th>\n      <td>1</td>\n      <td>Distinctin</td>\n      <td>NaN</td>\n      <td>ENREVPPGFTALIKTLRKCKII,NLVSGLIEARKYLEQLHRKLKNCKV</td>\n      <td>NaN</td>\n      <td>none</td>\n      <td>Escherichia coli</td>\n      <td>MIC</td>\n      <td>0.73-11.68</td>\n      <td>µM</td>\n      <td>DBAASP</td>\n    </tr>\n    <tr>\n      <th>...</th>\n      <td>...</td>\n      <td>...</td>\n      <td>...</td>\n      <td>...</td>\n      <td>...</td>\n      <td>...</td>\n      <td>...</td>\n      <td>...</td>\n      <td>...</td>\n      <td>...</td>\n      <td>...</td>\n    </tr>\n    <tr>\n      <th>156994</th>\n      <td>20312</td>\n      <td>NaN</td>\n      <td>NaN</td>\n      <td>WLVWVWRRR</td>\n      <td>AMD</td>\n      <td>none</td>\n      <td>Acinetobacter baumannii ATCC BAA-1605</td>\n      <td>MIC</td>\n      <td>0.63</td>\n      <td>µM</td>\n      <td>DBAASP</td>\n    </tr>\n    <tr>\n      <th>156995</th>\n      <td>20312</td>\n      <td>NaN</td>\n      <td>NaN</td>\n      <td>WLVWVWRRR</td>\n      <td>AMD</td>\n      <td>none</td>\n      <td>Staphylococcus aureus KCCM 40510</td>\n      <td>MIC</td>\n      <td>10</td>\n      <td>µM</td>\n      <td>DBAASP</td>\n    </tr>\n    <tr>\n      <th>156996</th>\n      <td>20312</td>\n      <td>NaN</td>\n      <td>NaN</td>\n      <td>WLVWVWRRR</td>\n      <td>AMD</td>\n      <td>none</td>\n      <td>Staphylococcus aureus KCCM 40510</td>\n      <td>MIC</td>\n      <td>5</td>\n      <td>µM</td>\n      <td>DBAASP</td>\n    </tr>\n    <tr>\n      <th>156997</th>\n      <td>20312</td>\n      <td>NaN</td>\n      <td>NaN</td>\n      <td>WLVWVWRRR</td>\n      <td>AMD</td>\n      <td>none</td>\n      <td>Enterococcus faecalis ATCC 51575</td>\n      <td>MIC</td>\n      <td>10</td>\n      <td>µM</td>\n      <td>DBAASP</td>\n    </tr>\n    <tr>\n      <th>156998</th>\n      <td>20312</td>\n      <td>NaN</td>\n      <td>NaN</td>\n      <td>WLVWVWRRR</td>\n      <td>AMD</td>\n      <td>none</td>\n      <td>Enterococcus faecalis ATCC 51575</td>\n      <td>MIC</td>\n      <td>2.5</td>\n      <td>µM</td>\n      <td>DBAASP</td>\n    </tr>\n  </tbody>\n</table>\n<p>143088 rows × 11 columns</p>\n</div>"
     },
     "execution_count": 46,
     "metadata": {},
     "output_type": "execute_result"
    }
   ],
   "source": [
    "# 删除必要字段缺少数据的样本\n",
    "finaldata=finaldata.dropna(subset='target')\n",
    "finaldata=finaldata.dropna(subset='measure')\n",
    "finaldata=finaldata.dropna(subset='value')\n",
    "finaldata=finaldata.dropna(subset='unit')\n",
    "# finaldata.to_csv(r'2_DBAASP.csv',index=False)\n",
    "finaldata.to_excel(r'2_DBAASP.xlsx',index=False,engine='xlsxwriter', encoding='utf-8')\n",
    "finaldata"
   ],
   "metadata": {
    "collapsed": false,
    "pycharm": {
     "name": "#%%\n"
    }
   }
  },
  {
   "cell_type": "code",
   "execution_count": 38,
   "outputs": [],
   "source": [
    "# 修改数据表的value\n",
    "#定义一个修改value值的函数\n",
    "def revise_value(value):\n",
    "    value1 = str(value)       #使用替换的方法可以快速换掉错乱的字符\n",
    "    value = value1.strip()\n",
    "    value = value.replace('+/-', '@')\n",
    "    value = value.replace('±', '@')\n",
    "    value = value.replace('+/', '@')\n",
    "    value = value.replace('+-', '@')\n",
    "    value = value.replace('+', '@')\n",
    "    value = value.replace('>', '')\n",
    "    value = value.replace('<', '')\n",
    "    value = value.replace('≥', '')\n",
    "    value = value.replace('≤', '')\n",
    "    value = value.replace('~', '')\n",
    "    value = value.replace('=', '')\n",
    "    value = value.replace(' ', '')\n",
    "    value = value.replace(',', '.')\n",
    "    value = value.replace('to', '-')\n",
    "    value = value.replace('–', '-')\n",
    "    value=value.strip()\n",
    "    for bit in value:\n",
    "        if bit.isalpha()==True:\n",
    "            value=''\n",
    "            break\n",
    "    if '[' in value:\n",
    "        value =''\n",
    "    elif '×' in value:\n",
    "        value = ''\n",
    "    elif '?' in value:\n",
    "        value=''\n",
    "    elif '_' in value:\n",
    "        value = ''\n",
    "    elif '-' in value:\n",
    "        values = value.split('-')\n",
    "        num1 = float(values[0].strip())\n",
    "        num2 = float(values[1].strip())\n",
    "        value = (num1 + num2) / 2\n",
    "    elif \"@\" in value:\n",
    "        values = value.split('@')\n",
    "        value = values[0].strip()\n",
    "    return value\n",
    "\n",
    "  #index默认为True时是会有一列索引\n",
    "\n"
   ],
   "metadata": {
    "collapsed": false,
    "pycharm": {
     "name": "#%%\n"
    }
   }
  },
  {
   "cell_type": "code",
   "execution_count": 49,
   "outputs": [
    {
     "data": {
      "text/plain": "        database_id        name n_terminal  \\\n0                 1  Distinctin        NaN   \n1                 1  Distinctin        NaN   \n2                 1  Distinctin        NaN   \n3                 1  Distinctin        NaN   \n4                 1  Distinctin        NaN   \n...             ...         ...        ...   \n156994        20312         NaN        NaN   \n156995        20312         NaN        NaN   \n156996        20312         NaN        NaN   \n156997        20312         NaN        NaN   \n156998        20312         NaN        NaN   \n\n                                                sequence c_terminal  \\\n0       ENREVPPGFTALIKTLRKCKII,NLVSGLIEARKYLEQLHRKLKNCKV        NaN   \n1       ENREVPPGFTALIKTLRKCKII,NLVSGLIEARKYLEQLHRKLKNCKV        NaN   \n2       ENREVPPGFTALIKTLRKCKII,NLVSGLIEARKYLEQLHRKLKNCKV        NaN   \n3       ENREVPPGFTALIKTLRKCKII,NLVSGLIEARKYLEQLHRKLKNCKV        NaN   \n4       ENREVPPGFTALIKTLRKCKII,NLVSGLIEARKYLEQLHRKLKNCKV        NaN   \n...                                                  ...        ...   \n156994                                         WLVWVWRRR        AMD   \n156995                                         WLVWVWRRR        AMD   \n156996                                         WLVWVWRRR        AMD   \n156997                                         WLVWVWRRR        AMD   \n156998                                         WLVWVWRRR        AMD   \n\n       other_modification                                 target measure  \\\n0                    none            Escherichia coli ATCC 25922     MIC   \n1                    none       Staphylococcus aureus ATCC 25923     MIC   \n2                    none      Pseudomonas aeruginosa ATCC 27853     MIC   \n3                    none       Enterococcus faecalis ATCC 29212     MIC   \n4                    none                       Escherichia coli     MIC   \n...                   ...                                    ...     ...   \n156994               none  Acinetobacter baumannii ATCC BAA-1605     MIC   \n156995               none       Staphylococcus aureus KCCM 40510     MIC   \n156996               none       Staphylococcus aureus KCCM 40510     MIC   \n156997               none       Enterococcus faecalis ATCC 51575     MIC   \n156998               none       Enterococcus faecalis ATCC 51575     MIC   \n\n         value unit database  \n0       14.500   µM   DBAASP  \n1       28.000   µM   DBAASP  \n2       28.000   µM   DBAASP  \n3       14.500   µM   DBAASP  \n4        6.205   µM   DBAASP  \n...        ...  ...      ...  \n156994   0.630   µM   DBAASP  \n156995  10.000   µM   DBAASP  \n156996   5.000   µM   DBAASP  \n156997  10.000   µM   DBAASP  \n156998   2.500   µM   DBAASP  \n\n[143078 rows x 11 columns]",
      "text/html": "<div>\n<style scoped>\n    .dataframe tbody tr th:only-of-type {\n        vertical-align: middle;\n    }\n\n    .dataframe tbody tr th {\n        vertical-align: top;\n    }\n\n    .dataframe thead th {\n        text-align: right;\n    }\n</style>\n<table border=\"1\" class=\"dataframe\">\n  <thead>\n    <tr style=\"text-align: right;\">\n      <th></th>\n      <th>database_id</th>\n      <th>name</th>\n      <th>n_terminal</th>\n      <th>sequence</th>\n      <th>c_terminal</th>\n      <th>other_modification</th>\n      <th>target</th>\n      <th>measure</th>\n      <th>value</th>\n      <th>unit</th>\n      <th>database</th>\n    </tr>\n  </thead>\n  <tbody>\n    <tr>\n      <th>0</th>\n      <td>1</td>\n      <td>Distinctin</td>\n      <td>NaN</td>\n      <td>ENREVPPGFTALIKTLRKCKII,NLVSGLIEARKYLEQLHRKLKNCKV</td>\n      <td>NaN</td>\n      <td>none</td>\n      <td>Escherichia coli ATCC 25922</td>\n      <td>MIC</td>\n      <td>14.500</td>\n      <td>µM</td>\n      <td>DBAASP</td>\n    </tr>\n    <tr>\n      <th>1</th>\n      <td>1</td>\n      <td>Distinctin</td>\n      <td>NaN</td>\n      <td>ENREVPPGFTALIKTLRKCKII,NLVSGLIEARKYLEQLHRKLKNCKV</td>\n      <td>NaN</td>\n      <td>none</td>\n      <td>Staphylococcus aureus ATCC 25923</td>\n      <td>MIC</td>\n      <td>28.000</td>\n      <td>µM</td>\n      <td>DBAASP</td>\n    </tr>\n    <tr>\n      <th>2</th>\n      <td>1</td>\n      <td>Distinctin</td>\n      <td>NaN</td>\n      <td>ENREVPPGFTALIKTLRKCKII,NLVSGLIEARKYLEQLHRKLKNCKV</td>\n      <td>NaN</td>\n      <td>none</td>\n      <td>Pseudomonas aeruginosa ATCC 27853</td>\n      <td>MIC</td>\n      <td>28.000</td>\n      <td>µM</td>\n      <td>DBAASP</td>\n    </tr>\n    <tr>\n      <th>3</th>\n      <td>1</td>\n      <td>Distinctin</td>\n      <td>NaN</td>\n      <td>ENREVPPGFTALIKTLRKCKII,NLVSGLIEARKYLEQLHRKLKNCKV</td>\n      <td>NaN</td>\n      <td>none</td>\n      <td>Enterococcus faecalis ATCC 29212</td>\n      <td>MIC</td>\n      <td>14.500</td>\n      <td>µM</td>\n      <td>DBAASP</td>\n    </tr>\n    <tr>\n      <th>4</th>\n      <td>1</td>\n      <td>Distinctin</td>\n      <td>NaN</td>\n      <td>ENREVPPGFTALIKTLRKCKII,NLVSGLIEARKYLEQLHRKLKNCKV</td>\n      <td>NaN</td>\n      <td>none</td>\n      <td>Escherichia coli</td>\n      <td>MIC</td>\n      <td>6.205</td>\n      <td>µM</td>\n      <td>DBAASP</td>\n    </tr>\n    <tr>\n      <th>...</th>\n      <td>...</td>\n      <td>...</td>\n      <td>...</td>\n      <td>...</td>\n      <td>...</td>\n      <td>...</td>\n      <td>...</td>\n      <td>...</td>\n      <td>...</td>\n      <td>...</td>\n      <td>...</td>\n    </tr>\n    <tr>\n      <th>156994</th>\n      <td>20312</td>\n      <td>NaN</td>\n      <td>NaN</td>\n      <td>WLVWVWRRR</td>\n      <td>AMD</td>\n      <td>none</td>\n      <td>Acinetobacter baumannii ATCC BAA-1605</td>\n      <td>MIC</td>\n      <td>0.630</td>\n      <td>µM</td>\n      <td>DBAASP</td>\n    </tr>\n    <tr>\n      <th>156995</th>\n      <td>20312</td>\n      <td>NaN</td>\n      <td>NaN</td>\n      <td>WLVWVWRRR</td>\n      <td>AMD</td>\n      <td>none</td>\n      <td>Staphylococcus aureus KCCM 40510</td>\n      <td>MIC</td>\n      <td>10.000</td>\n      <td>µM</td>\n      <td>DBAASP</td>\n    </tr>\n    <tr>\n      <th>156996</th>\n      <td>20312</td>\n      <td>NaN</td>\n      <td>NaN</td>\n      <td>WLVWVWRRR</td>\n      <td>AMD</td>\n      <td>none</td>\n      <td>Staphylococcus aureus KCCM 40510</td>\n      <td>MIC</td>\n      <td>5.000</td>\n      <td>µM</td>\n      <td>DBAASP</td>\n    </tr>\n    <tr>\n      <th>156997</th>\n      <td>20312</td>\n      <td>NaN</td>\n      <td>NaN</td>\n      <td>WLVWVWRRR</td>\n      <td>AMD</td>\n      <td>none</td>\n      <td>Enterococcus faecalis ATCC 51575</td>\n      <td>MIC</td>\n      <td>10.000</td>\n      <td>µM</td>\n      <td>DBAASP</td>\n    </tr>\n    <tr>\n      <th>156998</th>\n      <td>20312</td>\n      <td>NaN</td>\n      <td>NaN</td>\n      <td>WLVWVWRRR</td>\n      <td>AMD</td>\n      <td>none</td>\n      <td>Enterococcus faecalis ATCC 51575</td>\n      <td>MIC</td>\n      <td>2.500</td>\n      <td>µM</td>\n      <td>DBAASP</td>\n    </tr>\n  </tbody>\n</table>\n<p>143078 rows × 11 columns</p>\n</div>"
     },
     "execution_count": 49,
     "metadata": {},
     "output_type": "execute_result"
    }
   ],
   "source": [
    "# 修改value为确定的数值\n",
    "revisedf=copy.deepcopy(finaldata)\n",
    "revisedf['value']=revisedf['value'].apply(revise_value)\n",
    "# revisedf\n",
    "# 删除value列中存在空字符或者空白记录的字段，并把value列改为数字格式\n",
    "new=copy.deepcopy(revisedf)\n",
    "new['value'] = pd.to_numeric(new['value'], errors='coerce')\n",
    "new.dropna(subset=['value'], inplace=True)\n",
    "new.to_excel(r'DBAASP.xlsx',index=False)\n",
    "new"
   ],
   "metadata": {
    "collapsed": false,
    "pycharm": {
     "name": "#%%\n"
    }
   }
  },
  {
   "cell_type": "code",
   "execution_count": null,
   "outputs": [],
   "source": [],
   "metadata": {
    "collapsed": false,
    "pycharm": {
     "name": "#%%\n"
    }
   }
  }
 ],
 "metadata": {
  "kernelspec": {
   "display_name": "Python 3",
   "language": "python",
   "name": "python3"
  },
  "language_info": {
   "codemirror_mode": {
    "name": "ipython",
    "version": 2
   },
   "file_extension": ".py",
   "mimetype": "text/x-python",
   "name": "python",
   "nbconvert_exporter": "python",
   "pygments_lexer": "ipython2",
   "version": "2.7.6"
  }
 },
 "nbformat": 4,
 "nbformat_minor": 0
}