{
 "cells": [
  {
   "cell_type": "code",
   "execution_count": 34,
   "metadata": {
    "collapsed": true,
    "pycharm": {
     "name": "#%%\n"
    }
   },
   "outputs": [],
   "source": [
    "import os\n",
    "import numpy as np\n",
    "import pandas as pd\n",
    "import re\n",
    "import copy"
   ]
  },
  {
   "cell_type": "code",
   "execution_count": 35,
   "outputs": [
    {
     "name": "stdout",
     "output_type": "stream",
     "text": [
      "candidate_amps.xlsx\n",
      "clinical_amps.xlsx\n",
      "patent_amps.xlsx\n",
      "plant_amps.xlsx\n",
      "specific_amps.xlsx\n",
      "stapled_amps.xlsx\n",
      "synthetic_amps.xlsx\n"
     ]
    }
   ],
   "source": [
    "# 将从DRAMP数据库下载的数据合并，这些文件必须都包括这些列'DRAMP_ID','Name','N-terminal_Modification', 'Sequence', 'C-terminal_Modification', 'Other_Modifications', 'Target_Organism'，并将不成功合并的文件名输出\n",
    "#下载的文件放入一个目录里，该目录下不要放其他文件\n",
    "os.chdir(r'E:\\文件\\大学课程\\大四上\\毕业设计\\数据收集\\收集整理\\后期数据清洗整理\\DRAMP\\网站下载')\n",
    "path = os.getcwd()  # 获取当前路径\n",
    "listDir = os.listdir(path)  # 获取当前目录下的所有内容\n",
    "listDir=listDir[0:-1]         #如果报错FileNotFoundError: [Errno 2] No such file or directory: 'C:\\\\Users\\\\$Antibacterial_amps.xlsx'的话需要把无法读取的文件从listDir中删除\n",
    "\n",
    "\"\"\"df作为一个中间暂存的数据表，需要不断叠加新的符合条件的xlsx文件\"\"\"\n",
    "df = pd.DataFrame(columns=['DRAMP_ID','Name','N-terminal_Modification', 'Sequence', 'C-terminal_Modification', 'Other_Modifications', 'Target_Organism'])\n",
    "for file in listDir:\n",
    "        excel = pd.read_excel(file,header=0)\n",
    "        excelcol = set(excel.columns)\n",
    "        dfcol = set(df.columns)\n",
    "        if dfcol.issubset(excelcol) == True:  #将具有这六列的数据加到df数据表中\n",
    "            mdf = pd.DataFrame(columns=df.columns)\n",
    "            for i in df.columns:\n",
    "                mdf[i] = excel[i]\n",
    "            df = pd.concat([df, mdf])\n",
    "        else:\n",
    "            print(file)\n",
    "            # print(excelcol)     #不符合条件的文件得重新看缺了哪些信息\n",
    "df.to_excel(r'E:\\文件\\大学课程\\大四上\\毕业设计\\数据收集\\收集整理\\后期数据清洗整理\\DRAMP\\1_DRAMP下载合并文件.xlsx',index=False)"
   ],
   "metadata": {
    "collapsed": false,
    "pycharm": {
     "name": "#%%\n"
    }
   }
  },
  {
   "cell_type": "code",
   "execution_count": 36,
   "outputs": [],
   "source": [
    "# 对数据表进行重复行删除操作\n",
    "df = df.drop_duplicates()\n",
    "df.to_excel(r'E:\\文件\\大学课程\\大四上\\毕业设计\\数据收集\\收集整理\\后期数据清洗整理\\DRAMP\\2_DRAMP删除重复项.xlsx',index=False)   #输出文件方便查看每一步结果\n"
   ],
   "metadata": {
    "collapsed": false,
    "pycharm": {
     "name": "#%%\n"
    }
   }
  },
  {
   "cell_type": "code",
   "execution_count": 37,
   "outputs": [
    {
     "data": {
      "text/plain": "        DRAMP_ID                                               Name  \\\n0     DRAMP00089                   Bacteriocin E50-52 (Preclinical)   \n1     DRAMP00107                                 Bacteriocin L-1077   \n2     DRAMP00136                      Enterocin E-760 (Bacteriocin)   \n3     DRAMP00171                      Lactocyclicin Q (Bacteriocin)   \n4     DRAMP00191                 Microcin J25 (MccJ25; Bacteriocin)   \n...          ...                                                ...   \n4751  DRAMP02515                                           Cc-CATH1   \n4772  DRAMP18425          Ocellatin-PT6 (frog, amphibians, animals)   \n5088  DRAMP20770  Naegleriapore B (NP-B; parasite, amoebozoa, pr...   \n5151  DRAMP20835                   StII1-30 StII peptide derivative   \n5152  DRAMP20836                  StII16-35 StII peptide derivative   \n\n                              N-terminal_Modification  \\\n0                                                Free   \n1                                                Free   \n2                                                Free   \n3                Cyclization (N termini to C termini)   \n4     Cyclization of a N-terminal between Gly and Glu   \n...                                               ...   \n4751                                 Not included yet   \n4772                                 Not included yet   \n5088                                 Not included yet   \n5151                                             Free   \n5152                                             Free   \n\n                                               Sequence  \\\n0               TTKNYGNGVCNSVNWCQCGNVWASCNLATGCAAWLCKLA   \n1                 TNYGNGVGVPDAIMAGIIKLIFIFNIRQGYNFGKKAT   \n2     NRWYCNSAAGGVGGAAVCGLAGYVGEAKENIAGEVRKGWGMAGGFT...   \n3     LIDHLGAPRWAVDTILGAIAVGNLASWVLALVPGPGWAVKAGLATA...   \n4                                 GGAGHVPEYFVGIGTPISFYG   \n...                                                 ...   \n4751                                                NaN   \n4772                   GVFDIIKGAGKQLIAHAMEKIAEKVGLNKDGN   \n5088  SVIGCEICEWLVATAEGFVNKTKPQIEQELLQICAKLGPYEQICDQ...   \n5151                     ALAGTIIAGASLTFQVLDKVLEELGKVSRK   \n5152                               VLDKVLEELGKVSRKIAVGI   \n\n                   C-terminal_Modification  \\\n0                                     Free   \n1                                     Free   \n2                                     Free   \n3     Cyclization (C termini to N termini)   \n4                                     Free   \n...                                    ...   \n4751                      Not included yet   \n4772                      Not included yet   \n5088                      Not included yet   \n5151                                  Free   \n5152                                  Free   \n\n                                    Other_Modifications  \\\n0                                                  None   \n1                                                  None   \n2                                                  None   \n3     The whole peptide has a cyclic structure in wh...   \n4                                                  None   \n...                                                 ...   \n4751                                   Not included yet   \n4772                                   Not included yet   \n5088                                   Not included yet   \n5151                                               None   \n5152                                               None   \n\n                                        Target_Organism  \n0     Gram-negative bacteria: Campylobacter jejuni (...  \n1     Gram-negative bacteria: Salmonella Enteritidis...  \n2     [Ref.18086839]Gram-positive bacteria: Listeria...  \n3     Gram-positive bacteria: Lactococcus sp.strain ...  \n4     Gram-negative bacteria: Escherichia coli BM21 ...  \n...                                                 ...  \n4751                    No MICs found in DRAMP database  \n4772                    No MICs found in DRAMP database  \n5088                    No MICs found in DRAMP database  \n5151                    No MICs found in DRAMP database  \n5152                    No MICs found in DRAMP database  \n\n[6034 rows x 7 columns]",
      "text/html": "<div>\n<style scoped>\n    .dataframe tbody tr th:only-of-type {\n        vertical-align: middle;\n    }\n\n    .dataframe tbody tr th {\n        vertical-align: top;\n    }\n\n    .dataframe thead th {\n        text-align: right;\n    }\n</style>\n<table border=\"1\" class=\"dataframe\">\n  <thead>\n    <tr style=\"text-align: right;\">\n      <th></th>\n      <th>DRAMP_ID</th>\n      <th>Name</th>\n      <th>N-terminal_Modification</th>\n      <th>Sequence</th>\n      <th>C-terminal_Modification</th>\n      <th>Other_Modifications</th>\n      <th>Target_Organism</th>\n    </tr>\n  </thead>\n  <tbody>\n    <tr>\n      <th>0</th>\n      <td>DRAMP00089</td>\n      <td>Bacteriocin E50-52 (Preclinical)</td>\n      <td>Free</td>\n      <td>TTKNYGNGVCNSVNWCQCGNVWASCNLATGCAAWLCKLA</td>\n      <td>Free</td>\n      <td>None</td>\n      <td>Gram-negative bacteria: Campylobacter jejuni (...</td>\n    </tr>\n    <tr>\n      <th>1</th>\n      <td>DRAMP00107</td>\n      <td>Bacteriocin L-1077</td>\n      <td>Free</td>\n      <td>TNYGNGVGVPDAIMAGIIKLIFIFNIRQGYNFGKKAT</td>\n      <td>Free</td>\n      <td>None</td>\n      <td>Gram-negative bacteria: Salmonella Enteritidis...</td>\n    </tr>\n    <tr>\n      <th>2</th>\n      <td>DRAMP00136</td>\n      <td>Enterocin E-760 (Bacteriocin)</td>\n      <td>Free</td>\n      <td>NRWYCNSAAGGVGGAAVCGLAGYVGEAKENIAGEVRKGWGMAGGFT...</td>\n      <td>Free</td>\n      <td>None</td>\n      <td>[Ref.18086839]Gram-positive bacteria: Listeria...</td>\n    </tr>\n    <tr>\n      <th>3</th>\n      <td>DRAMP00171</td>\n      <td>Lactocyclicin Q (Bacteriocin)</td>\n      <td>Cyclization (N termini to C termini)</td>\n      <td>LIDHLGAPRWAVDTILGAIAVGNLASWVLALVPGPGWAVKAGLATA...</td>\n      <td>Cyclization (C termini to N termini)</td>\n      <td>The whole peptide has a cyclic structure in wh...</td>\n      <td>Gram-positive bacteria: Lactococcus sp.strain ...</td>\n    </tr>\n    <tr>\n      <th>4</th>\n      <td>DRAMP00191</td>\n      <td>Microcin J25 (MccJ25; Bacteriocin)</td>\n      <td>Cyclization of a N-terminal between Gly and Glu</td>\n      <td>GGAGHVPEYFVGIGTPISFYG</td>\n      <td>Free</td>\n      <td>None</td>\n      <td>Gram-negative bacteria: Escherichia coli BM21 ...</td>\n    </tr>\n    <tr>\n      <th>...</th>\n      <td>...</td>\n      <td>...</td>\n      <td>...</td>\n      <td>...</td>\n      <td>...</td>\n      <td>...</td>\n      <td>...</td>\n    </tr>\n    <tr>\n      <th>4751</th>\n      <td>DRAMP02515</td>\n      <td>Cc-CATH1</td>\n      <td>Not included yet</td>\n      <td>NaN</td>\n      <td>Not included yet</td>\n      <td>Not included yet</td>\n      <td>No MICs found in DRAMP database</td>\n    </tr>\n    <tr>\n      <th>4772</th>\n      <td>DRAMP18425</td>\n      <td>Ocellatin-PT6 (frog, amphibians, animals)</td>\n      <td>Not included yet</td>\n      <td>GVFDIIKGAGKQLIAHAMEKIAEKVGLNKDGN</td>\n      <td>Not included yet</td>\n      <td>Not included yet</td>\n      <td>No MICs found in DRAMP database</td>\n    </tr>\n    <tr>\n      <th>5088</th>\n      <td>DRAMP20770</td>\n      <td>Naegleriapore B (NP-B; parasite, amoebozoa, pr...</td>\n      <td>Not included yet</td>\n      <td>SVIGCEICEWLVATAEGFVNKTKPQIEQELLQICAKLGPYEQICDQ...</td>\n      <td>Not included yet</td>\n      <td>Not included yet</td>\n      <td>No MICs found in DRAMP database</td>\n    </tr>\n    <tr>\n      <th>5151</th>\n      <td>DRAMP20835</td>\n      <td>StII1-30 StII peptide derivative</td>\n      <td>Free</td>\n      <td>ALAGTIIAGASLTFQVLDKVLEELGKVSRK</td>\n      <td>Free</td>\n      <td>None</td>\n      <td>No MICs found in DRAMP database</td>\n    </tr>\n    <tr>\n      <th>5152</th>\n      <td>DRAMP20836</td>\n      <td>StII16-35 StII peptide derivative</td>\n      <td>Free</td>\n      <td>VLDKVLEELGKVSRKIAVGI</td>\n      <td>Free</td>\n      <td>None</td>\n      <td>No MICs found in DRAMP database</td>\n    </tr>\n  </tbody>\n</table>\n<p>6034 rows × 7 columns</p>\n</div>"
     },
     "execution_count": 37,
     "metadata": {},
     "output_type": "execute_result"
    }
   ],
   "source": [
    "df"
   ],
   "metadata": {
    "collapsed": false,
    "pycharm": {
     "name": "#%%\n"
    }
   }
  },
  {
   "cell_type": "code",
   "execution_count": 85,
   "outputs": [],
   "source": [
    "#定义一个将所有混合的targets混合形式输出成单个target并以列表的形式保存。\n",
    "def Single_target(composed,sybol):\n",
    "    composed=composed.split(sybol)\n",
    "    targets=[]\n",
    "    for target in composed:\n",
    "        if '#' in target:\n",
    "            new_targets=target.split('#')\n",
    "            for i in new_targets:\n",
    "                if '(' in i:\n",
    "                    targets.append(i)\n",
    "        elif '(' in target:\n",
    "            targets.append(target)\n",
    "\n",
    "    return targets\n"
   ],
   "metadata": {
    "collapsed": false,
    "pycharm": {
     "name": "#%%\n"
    }
   }
  },
  {
   "cell_type": "code",
   "execution_count": 88,
   "outputs": [],
   "source": [
    "#把多个target数据分离成单个target在保持其他列数据不变的情况下追加成新行\n",
    "\n",
    "os.chdir('E:\\文件\\大学课程\\大四上\\毕业设计\\数据收集\\收集整理\\后期数据清洗整理\\DRAMP')\n",
    "df1=pd.read_excel(r'2_DRAMP删除重复项.xlsx')\n",
    "\n",
    "newdf=pd.DataFrame(columns=df1.columns)   #新建一个数据表写入重构的数据\n",
    "new_index=0\n",
    "for index in range(len(list(df1['Target_Organism']))):\n",
    "    targets=df1.at[index,'Target_Organism'].strip()   #获取混合的targets\n",
    "    targets=targets.replace(';',',')\n",
    "    targets=targets.replace('，',',')\n",
    "    targets=targets.replace('and',',')\n",
    "    if ',' in targets:\n",
    "        for j in Single_target(targets,','):\n",
    "            old_row=df1.loc[index].copy()\n",
    "            old_row['Target_Organism']=j\n",
    "            newdf.loc[new_index]=old_row\n",
    "            new_index+=1\n",
    "    elif '#' in targets and targets.count('(')>1:\n",
    "        for j in Single_target(targets,'#'):\n",
    "            old_row=df1.loc[index].copy()\n",
    "            old_row['Target_Organism']=j\n",
    "            newdf.loc[new_index]=old_row\n",
    "            new_index+=1\n",
    "    elif targets.count('(') == 1:\n",
    "        old_row=df1.loc[index].copy()\n",
    "        newdf.loc[new_index]=old_row\n",
    "        new_index+=1\n",
    "    else:\n",
    "        pass"
   ],
   "metadata": {
    "collapsed": false,
    "pycharm": {
     "name": "#%%\n"
    }
   }
  },
  {
   "cell_type": "code",
   "execution_count": 90,
   "outputs": [],
   "source": [
    "#将拆分好的文件输出成xlsx表格\n",
    "newdf.to_excel('3_DRAMP拆分成单个target行.xlsx',index=False)"
   ],
   "metadata": {
    "collapsed": false,
    "pycharm": {
     "name": "#%%\n"
    }
   }
  },
  {
   "cell_type": "code",
   "execution_count": 100,
   "outputs": [],
   "source": [
    "#定义一个修改value值的函数\n",
    "def revise_value(value):\n",
    "    value1 = str(value)       #使用替换的方法可以快速换掉错乱的字符\n",
    "    value = value1.strip()\n",
    "    value = value.replace('+/-', '@')\n",
    "    value = value.replace('±', '@')\n",
    "    value = value.replace('+/', '@')\n",
    "    value = value.replace('+-', '@')\n",
    "    value = value.replace('+', '@')\n",
    "    value = value.replace('>', '')\n",
    "    value = value.replace('<', '')\n",
    "    value = value.replace('≥', '')\n",
    "    value = value.replace('≤', '')\n",
    "    value = value.replace('~', '')\n",
    "    value = value.replace('=', '')\n",
    "    value = value.replace(' ', '')\n",
    "    value = value.replace(',', '.')\n",
    "    value = value.replace('to', '-')\n",
    "    value = value.replace('–', '-')\n",
    "    value=value.strip()\n",
    "    for bit in value:\n",
    "        if bit.isalpha()==True:\n",
    "            value=''\n",
    "            break\n",
    "    if '[' in value:\n",
    "        value =''\n",
    "    elif '×' in value:\n",
    "        value = ''\n",
    "    elif '?' in value:\n",
    "        value=''\n",
    "    elif '_' in value:\n",
    "        value = ''\n",
    "    elif '-' in value:\n",
    "        values = value.split('-')\n",
    "        num1 = float(values[0].strip())\n",
    "        num2 = float(values[1].strip())\n",
    "        value = (num1 + num2) / 2\n",
    "    elif \"@\" in value:\n",
    "        values = value.split('@')\n",
    "        value = values[0].strip()\n",
    "    return value\n",
    "\n",
    "  #index默认为True时是会有一列索引"
   ],
   "metadata": {
    "collapsed": false,
    "pycharm": {
     "name": "#%%\n"
    }
   }
  },
  {
   "cell_type": "code",
   "execution_count": 121,
   "outputs": [],
   "source": [
    "#创建一个函数用于把measure_value_unit这个字段拆分成三个字段measure、value、unite分别对应测算方法，数值，单位\n",
    "def seprate_mics(mics):\n",
    "    measure=''\n",
    "    num=''\n",
    "    unit=''\n",
    "    mics=mics.replace('≤','=')\n",
    "    mics=mics.replace('≥','=')\n",
    "    if '=' in mics:\n",
    "        mics = mics.split('=')\n",
    "        measure = mics[0].strip()\n",
    "        a = mics[1].strip().split(' ')\n",
    "        if len(a) == 2:\n",
    "            num = a[0]\n",
    "            unit = a[1]\n",
    "            # print(num+':'+unit)\n",
    "            # measure_num_unnit=[measure,num,unit]\n",
    "        elif len(a) == 1:\n",
    "            # print(a)\n",
    "            num = ''\n",
    "            for j in a[0]:\n",
    "                if j.isalpha() == False:\n",
    "                    num += j\n",
    "                elif j.isalpha() == True:\n",
    "                    break\n",
    "            unit = a[0].strip(num)\n",
    "            # print(num + ':' + unit)\n",
    "            # measure_num_unnit=[measure,num,unit]\n",
    "        elif len(a) == 4:\n",
    "            # print(a)\n",
    "            num = a[0]+a[1]+a[2]\n",
    "            unit = a[3]\n",
    "            # print(num + ':' + unit)\n",
    "            # measure_num_unnit=[measure,num,unit]\n",
    "        elif len(a) == 3:\n",
    "            if a[1] == '' or a[1] == ' ':\n",
    "                num = a[0]\n",
    "                unit = a[-1]\n",
    "                # print(num + ':' + unit)\n",
    "                # measure_num_unnit=[measure,num,unit]\n",
    "            else:\n",
    "                num = a[0]+a[1]\n",
    "                unit = a[2]\n",
    "                # print(num + ':' + unit)\n",
    "                # print(a)\n",
    "                # measure_num_unnit=[measure,num,unit]\n",
    "        elif len(a) == 5:\n",
    "            num = a[0]+a[1]+a[2]+a[3]\n",
    "            unit = a[4]\n",
    "            # print(num + ':' + unit)\n",
    "            # measure_num_unnit=[measure,num,unit]\n",
    "    elif '>' in mics:\n",
    "            mics = mics.split('>')\n",
    "            measure = mics[0].strip()\n",
    "            a = mics[1].strip().split(' ')\n",
    "            if len(a) == 2:\n",
    "                num = '>'+a[0]\n",
    "                unit = a[1]\n",
    "                # print(num+':'+unit)\n",
    "                # measure_num_unnit=[measure,num,unit]\n",
    "            elif len(a) == 1:\n",
    "                # print(a)\n",
    "                num = ''\n",
    "                for j in a[0]:\n",
    "                    if j.isalpha() == False:\n",
    "                        num += j\n",
    "                    elif j.isalpha() == True:\n",
    "                        break\n",
    "                num = '>' + num\n",
    "                unit = a[0].strip(num)\n",
    "                # print(num + ':' + unit)\n",
    "                # measure_num_unnit=[measure,num,unit]\n",
    "            elif len(a) == 4:\n",
    "                # print(a)\n",
    "                num = '>' + a[0] + a[1] + a[2]\n",
    "                unit = a[3]\n",
    "                # print(num + ':' + unit)\n",
    "                # measure_num_unnit=[measure,num,unit]\n",
    "            elif len(a) == 3:\n",
    "                if a[1] == '' or a[1] == ' ':\n",
    "                    num = '>'+a[0]\n",
    "                    unit = a[-1]\n",
    "                    # print(num + ':' + unit)\n",
    "                    # measure_num_unnit=[measure,num,unit]\n",
    "                else:\n",
    "                    num = '>' + a[0] + a[1]\n",
    "                    unit = a[2]\n",
    "                    # print(num + ':' + unit)\n",
    "                    # print(a)\n",
    "                    # measure_num_unnit=[measure,num,unit]\n",
    "            elif len(a) == 5:\n",
    "                num = '>'+a[0] + a[1] + a[2] + a[3]\n",
    "                unit = a[4]\n",
    "                # print(num + ':' + unit)\n",
    "                # measure_num_unnit=[measure,num,unit]\n",
    "    elif '<' in mics:\n",
    "        mics = mics.split('<')\n",
    "        measure = mics[0].strip()\n",
    "        a = mics[1].strip().split(' ')\n",
    "        if len(a) == 2:\n",
    "            num = '<' + a[0]\n",
    "            unit = a[1]\n",
    "            # print(num+':'+unit)\n",
    "            # measure_num_unnit=[measure,num,unit]\n",
    "        elif len(a) == 1:\n",
    "            # print(a)\n",
    "            num = ''\n",
    "            for j in a[0]:\n",
    "                if j.isalpha() == False:\n",
    "                    num += j\n",
    "                elif j.isalpha() == True:\n",
    "                    break\n",
    "            num = '<' + num\n",
    "            unit = a[0].strip(num)\n",
    "            # print(num + ':' + unit)\n",
    "            # measure_num_unnit=[measure,num,unit]\n",
    "        elif len(a) == 4:\n",
    "            # print(a)\n",
    "            num = '<' + a[0] + a[1] + a[2]\n",
    "            unit = a[3]\n",
    "            # print(num + ':' + unit)\n",
    "            # measure_num_unnit=[measure,num,unit]\n",
    "        elif len(a) == 3:\n",
    "            if a[1] == '' or a[1] == ' ':\n",
    "                num = '<' + a[0]\n",
    "                unit = a[-1]\n",
    "            else:\n",
    "                num = '<' + a[0] + a[1]\n",
    "                unit = a[2]\n",
    "        elif len(a) == 5:\n",
    "            num = '<' + a[0] + a[1] + a[2] + a[3]\n",
    "            unit = a[4]\n",
    "            measure_num_unit=[measure,num,unit]\n",
    "    num = revise_value(num)\n",
    "    return [measure,num,unit]\n",
    "\n",
    "# 定义一个删去unit多余后缀的函数\n",
    "def Unit(unit):\n",
    "    unit=unit.replace('.','')\n",
    "    unit=unit.replace(')','')\n",
    "    unit=unit.replace(';','')\n",
    "    unit=unit.replace('；','')\n",
    "    return unit"
   ],
   "metadata": {
    "collapsed": false,
    "pycharm": {
     "name": "#%%\n"
    }
   }
  },
  {
   "cell_type": "code",
   "execution_count": 123,
   "outputs": [
    {
     "name": "stderr",
     "output_type": "stream",
     "text": [
      "C:\\Users\\lanliu\\AppData\\Local\\Temp\\ipykernel_13564\\3576525282.py:31: FutureWarning: The pandas.np module is deprecated and will be removed from pandas in a future version. Import numpy directly instead.\n",
      "  newdf2.replace('', pd.np.nan, inplace=True)\n",
      "C:\\Users\\lanliu\\AppData\\Local\\Temp\\ipykernel_13564\\3576525282.py:33: SettingWithCopyWarning: \n",
      "A value is trying to be set on a copy of a slice from a DataFrame.\n",
      "Try using .loc[row_indexer,col_indexer] = value instead\n",
      "\n",
      "See the caveats in the documentation: https://pandas.pydata.org/pandas-docs/stable/user_guide/indexing.html#returning-a-view-versus-a-copy\n",
      "  new['database']='DRAMP'\n",
      "C:\\Users\\lanliu\\AppData\\Local\\Temp\\ipykernel_13564\\3576525282.py:36: SettingWithCopyWarning: \n",
      "A value is trying to be set on a copy of a slice from a DataFrame\n",
      "\n",
      "See the caveats in the documentation: https://pandas.pydata.org/pandas-docs/stable/user_guide/indexing.html#returning-a-view-versus-a-copy\n",
      "  new.rename(columns=new_columns, inplace=True)\n"
     ]
    }
   ],
   "source": [
    "# 将target_activity这一列数据拆分成四列：target，measure，value，unit\n",
    "newdf2=copy.deepcopy(newdf )   #创建一个过渡数据表，防止修改掉之前形成的数据表\n",
    "new_columns=['target','measure','value','unit']\n",
    "for column in new_columns:\n",
    "    newdf[column]=np.NaN\n",
    "# newdf2.head()\n",
    "# target_list=[]\n",
    "for i in range(len(list(newdf['Sequence']))):\n",
    "    targets_mics=newdf2.at[i,'Target_Organism']\n",
    "    if targets_mics.count('(')==1:\n",
    "        composed=targets_mics.split('(')\n",
    "        # target=composed[0].strip()\n",
    "        newdf2.at[i,'target']=composed[0].strip()\n",
    "        micss=composed[1].strip(')')\n",
    "        miclist=seprate_mics(micss)\n",
    "        newdf2.at[i,'measure']=miclist[0]\n",
    "        newdf2.at[i,'value']=miclist[1]\n",
    "        newdf2.at[i,'unit']=Unit(miclist[2])\n",
    "    elif targets_mics.count('(')==2:\n",
    "        composed=targets_mics.split('(')\n",
    "        newdf2.at[i,'target']=(composed[0]+composed[1]+')').strip()\n",
    "        micss=composed[-1].strip(')')\n",
    "        miclist=seprate_mics(micss)\n",
    "        newdf2.at[i,'measure']=miclist[0]\n",
    "        newdf2.at[i,'value']=miclist[1]\n",
    "        newdf2.at[i,'unit']=Unit(miclist[2])\n",
    "    else:\n",
    "        pass"
   ],
   "metadata": {
    "collapsed": false,
    "pycharm": {
     "name": "#%%\n"
    }
   }
  },
  {
   "cell_type": "code",
   "execution_count": 126,
   "outputs": [],
   "source": [
    "# 删除value列中存在空字符或者空白记录的字段，并把value列改为数字格式\n",
    "new=copy.deepcopy(newdf2)\n",
    "new['value'] = pd.to_numeric(new['value'], errors='coerce')\n",
    "new.dropna(subset=['value'], inplace=True)\n",
    "# new['value'] = new['value'].astype(float)\n",
    "# 添加数据库来源标识\n",
    "new['database']='DRAMP'\n",
    "# 对表格修改列名\n",
    "new_columns={'DRAMP_ID':'database_id','Name':'name','N-terminal_Modification':'n_terminal',\n",
    "             'Sequence':'sequence','C-terminal_Modification':'c_terminal','Other_Modifications':'other_modification'}\n",
    "new.rename(columns=new_columns, inplace=True)\n",
    "new.to_excel(r'4_DRAMP拆分mic.xlsx',index=False)\n"
   ],
   "metadata": {
    "collapsed": false,
    "pycharm": {
     "name": "#%%\n"
    }
   }
  },
  {
   "cell_type": "code",
   "execution_count": 127,
   "outputs": [],
   "source": [
    "finaldata=new.drop('Target_Organism', axis=1)\n",
    "finaldata.to_excel(r'DRAMP.xlsx',index=False)"
   ],
   "metadata": {
    "collapsed": false,
    "pycharm": {
     "name": "#%%\n"
    }
   }
  }
 ],
 "metadata": {
  "kernelspec": {
   "display_name": "Python 3",
   "language": "python",
   "name": "python3"
  },
  "language_info": {
   "codemirror_mode": {
    "name": "ipython",
    "version": 2
   },
   "file_extension": ".py",
   "mimetype": "text/x-python",
   "name": "python",
   "nbconvert_exporter": "python",
   "pygments_lexer": "ipython2",
   "version": "2.7.6"
  }
 },
 "nbformat": 4,
 "nbformat_minor": 0
}