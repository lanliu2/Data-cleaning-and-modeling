{
 "cells": [
  {
   "cell_type": "markdown",
   "source": [
    "筛选出需要的信息，包括数据库的搜索id，抗菌肽的名称，序列，N端修饰，C端修饰，靶向物种，其他修饰，活性测算方法，对应数值\n",
    "如果没有id号则用0表示，如果没有抗菌肽名称就用no_name表示，如果没有修饰就用no_modif表示"
   ],
   "metadata": {
    "collapsed": false,
    "pycharm": {
     "name": "#%% md\n"
    }
   }
  },
  {
   "cell_type": "code",
   "execution_count": 10,
   "outputs": [],
   "source": [
    "import os\n",
    "import pandas as pd\n",
    "import time\n",
    "import copy\n",
    "import numpy as np"
   ],
   "metadata": {
    "collapsed": false,
    "pycharm": {
     "name": "#%%\n"
    }
   }
  },
  {
   "cell_type": "code",
   "execution_count": 4,
   "outputs": [
    {
     "data": {
      "text/plain": "                   peptide_name  \\\n0     Human Defensin  beta 104A   \n1         Bactenecin 5 - bovine   \n2                   Hepcidin-20   \n3               Phylloseptin 12   \n4                  Pleurostatin   \n...                         ...   \n2204                       C18Q   \n2205                OaBac5gamma   \n2206                       CP26   \n2207                       CP29   \n2208                     CP11CN   \n\n                                    source of organism sequence length  \\\n0                                  Synthetic construct              48   \n1                                 Bos taurus  [Bovine]              42   \n2                                Homo sapiens  [Human]              20   \n3     Phyllomedusa azurea  [Orange-legged monkey frog]              20   \n4               Pleurotus ostreatus  [oyster mushroom]               8   \n...                                                ...             ...   \n2204                               Synthetic construct              20   \n2205                                Ovis aries [Sheep]              40   \n2206                               Synthetic construct              26   \n2207                               Synthetic construct              26   \n2208                               Synthetic construct              13   \n\n                            type  \\\n0     Antibacterial,  Antifungal   \n1                  Antibacterial   \n2     Antibacterial,  Antifungal   \n3                  Antibacterial   \n4                     Antifungal   \n...                          ...   \n2204               Antibacterial   \n2205  Antibacterial,  Antifungal   \n2206               Antibacterial   \n2207               Antibacterial   \n2208               Antibacterial   \n\n                                        target_activity  \\\n0     Staphylococcus carnosus TM300 ( MIC = 4.5 micr...   \n1     Salmonella typhimurium ( MIC = 2-10 microM ), ...   \n2     E.?coli ML35p, S. epidermidis, S. aureus, C. a...   \n3             M. luteus ATCC 49732 ( MIC = 1.3 microM )   \n4     20 % growth inhibition F. oxysporum ( MIC = 15...   \n...                                                 ...   \n2204  Escherichia coli ML 35 (MIC = 2 microM), Esche...   \n2205  [E. coli 0157:H7 (MIC = 6 microg/ml), S. aureu...   \n2206  Staphylococcus aureus ATCC 25923 (MIC = 64 mic...   \n2207  Staphylococcus aureus ATCC 25923 (MIC = 8 micr...   \n2208  Staphylococcus aureus ATCC 25923 (MIC = 16 mic...   \n\n                source of data                                     sequence  \\\n0     Experimentally Validated        ELDRICGYGTARCRKKCRSQEYRIGRCPNTYACCLRK   \n1     Experimentally Validated   RFRPPIRRPPIRPPFYPPFRPPIRPPIFPPIRPPFRPPLRFP   \n2     Experimentally Validated                         ICIFCCGCCHRSKCGMCCKT   \n3     Experimentally Validated                         FLSLLPSIVSGAVSLAKKLG   \n4     Experimentally Validated                                     VRPYLVAF   \n...                        ...                                          ...   \n2204  Experimentally Validated                         GLRKRLRKFRNKIKQKLKKI   \n2205  Experimentally Validated  RFRPPILRPPIRPPFRPPFRPPVRPPIRPPFRPPFRPPIGPFP   \n2206  Experimentally Validated                   KWKSFIKKLTSAAKKVVTTAKPLISS   \n2207  Experimentally Validated                   KWKSFIKKLTTAVKKVLTTGLPALIS   \n2208  Experimentally Validated                           ILKKWPWWPWRRK-NH 2   \n\n           target group  \n0     Gram+ve,  Gram-ve  \n1     Gram+ve,  Gram-ve  \n2     Gram+ve,  Gram-ve  \n3               Gram+ve  \n4                   NaN  \n...                 ...  \n2204  Gram+ve,  Gram-ve  \n2205  Gram+ve,  Gram-ve  \n2206            Gram+ve  \n2207            Gram+ve  \n2208            Gram+ve  \n\n[2209 rows x 8 columns]",
      "text/html": "<div>\n<style scoped>\n    .dataframe tbody tr th:only-of-type {\n        vertical-align: middle;\n    }\n\n    .dataframe tbody tr th {\n        vertical-align: top;\n    }\n\n    .dataframe thead th {\n        text-align: right;\n    }\n</style>\n<table border=\"1\" class=\"dataframe\">\n  <thead>\n    <tr style=\"text-align: right;\">\n      <th></th>\n      <th>peptide_name</th>\n      <th>source of organism</th>\n      <th>sequence length</th>\n      <th>type</th>\n      <th>target_activity</th>\n      <th>source of data</th>\n      <th>sequence</th>\n      <th>target group</th>\n    </tr>\n  </thead>\n  <tbody>\n    <tr>\n      <th>0</th>\n      <td>Human Defensin  beta 104A</td>\n      <td>Synthetic construct</td>\n      <td>48</td>\n      <td>Antibacterial,  Antifungal</td>\n      <td>Staphylococcus carnosus TM300 ( MIC = 4.5 micr...</td>\n      <td>Experimentally Validated</td>\n      <td>ELDRICGYGTARCRKKCRSQEYRIGRCPNTYACCLRK</td>\n      <td>Gram+ve,  Gram-ve</td>\n    </tr>\n    <tr>\n      <th>1</th>\n      <td>Bactenecin 5 - bovine</td>\n      <td>Bos taurus  [Bovine]</td>\n      <td>42</td>\n      <td>Antibacterial</td>\n      <td>Salmonella typhimurium ( MIC = 2-10 microM ), ...</td>\n      <td>Experimentally Validated</td>\n      <td>RFRPPIRRPPIRPPFYPPFRPPIRPPIFPPIRPPFRPPLRFP</td>\n      <td>Gram+ve,  Gram-ve</td>\n    </tr>\n    <tr>\n      <th>2</th>\n      <td>Hepcidin-20</td>\n      <td>Homo sapiens  [Human]</td>\n      <td>20</td>\n      <td>Antibacterial,  Antifungal</td>\n      <td>E.?coli ML35p, S. epidermidis, S. aureus, C. a...</td>\n      <td>Experimentally Validated</td>\n      <td>ICIFCCGCCHRSKCGMCCKT</td>\n      <td>Gram+ve,  Gram-ve</td>\n    </tr>\n    <tr>\n      <th>3</th>\n      <td>Phylloseptin 12</td>\n      <td>Phyllomedusa azurea  [Orange-legged monkey frog]</td>\n      <td>20</td>\n      <td>Antibacterial</td>\n      <td>M. luteus ATCC 49732 ( MIC = 1.3 microM )</td>\n      <td>Experimentally Validated</td>\n      <td>FLSLLPSIVSGAVSLAKKLG</td>\n      <td>Gram+ve</td>\n    </tr>\n    <tr>\n      <th>4</th>\n      <td>Pleurostatin</td>\n      <td>Pleurotus ostreatus  [oyster mushroom]</td>\n      <td>8</td>\n      <td>Antifungal</td>\n      <td>20 % growth inhibition F. oxysporum ( MIC = 15...</td>\n      <td>Experimentally Validated</td>\n      <td>VRPYLVAF</td>\n      <td>NaN</td>\n    </tr>\n    <tr>\n      <th>...</th>\n      <td>...</td>\n      <td>...</td>\n      <td>...</td>\n      <td>...</td>\n      <td>...</td>\n      <td>...</td>\n      <td>...</td>\n      <td>...</td>\n    </tr>\n    <tr>\n      <th>2204</th>\n      <td>C18Q</td>\n      <td>Synthetic construct</td>\n      <td>20</td>\n      <td>Antibacterial</td>\n      <td>Escherichia coli ML 35 (MIC = 2 microM), Esche...</td>\n      <td>Experimentally Validated</td>\n      <td>GLRKRLRKFRNKIKQKLKKI</td>\n      <td>Gram+ve,  Gram-ve</td>\n    </tr>\n    <tr>\n      <th>2205</th>\n      <td>OaBac5gamma</td>\n      <td>Ovis aries [Sheep]</td>\n      <td>40</td>\n      <td>Antibacterial,  Antifungal</td>\n      <td>[E. coli 0157:H7 (MIC = 6 microg/ml), S. aureu...</td>\n      <td>Experimentally Validated</td>\n      <td>RFRPPILRPPIRPPFRPPFRPPVRPPIRPPFRPPFRPPIGPFP</td>\n      <td>Gram+ve,  Gram-ve</td>\n    </tr>\n    <tr>\n      <th>2206</th>\n      <td>CP26</td>\n      <td>Synthetic construct</td>\n      <td>26</td>\n      <td>Antibacterial</td>\n      <td>Staphylococcus aureus ATCC 25923 (MIC = 64 mic...</td>\n      <td>Experimentally Validated</td>\n      <td>KWKSFIKKLTSAAKKVVTTAKPLISS</td>\n      <td>Gram+ve</td>\n    </tr>\n    <tr>\n      <th>2207</th>\n      <td>CP29</td>\n      <td>Synthetic construct</td>\n      <td>26</td>\n      <td>Antibacterial</td>\n      <td>Staphylococcus aureus ATCC 25923 (MIC = 8 micr...</td>\n      <td>Experimentally Validated</td>\n      <td>KWKSFIKKLTTAVKKVLTTGLPALIS</td>\n      <td>Gram+ve</td>\n    </tr>\n    <tr>\n      <th>2208</th>\n      <td>CP11CN</td>\n      <td>Synthetic construct</td>\n      <td>13</td>\n      <td>Antibacterial</td>\n      <td>Staphylococcus aureus ATCC 25923 (MIC = 16 mic...</td>\n      <td>Experimentally Validated</td>\n      <td>ILKKWPWWPWRRK-NH 2</td>\n      <td>Gram+ve</td>\n    </tr>\n  </tbody>\n</table>\n<p>2209 rows × 8 columns</p>\n</div>"
     },
     "execution_count": 4,
     "metadata": {},
     "output_type": "execute_result"
    }
   ],
   "source": [
    "os.chdir(r'E:\\文件\\大学课程\\大四上\\毕业设计\\数据收集\\收集整理\\后期数据清洗整理\\CAMPR3')   #设置工作路径\n",
    "df = pd.read_csv('CAMP（原始数据-学长爬虫）.csv') #读取工作路径下的原文件\n",
    "df=pd.DataFrame(df)\n",
    "df"
   ],
   "metadata": {
    "collapsed": false,
    "pycharm": {
     "name": "#%%\n"
    }
   }
  },
  {
   "cell_type": "code",
   "execution_count": 5,
   "outputs": [
    {
     "name": "stdout",
     "output_type": "stream",
     "text": [
      "Total running time: 12.819593667984009 seconds\n"
     ]
    }
   ],
   "source": [
    "#把含有多个target的列target_activity拆分先把单个target对应的数据添加成新行（保持其他列的数据不变）\n",
    "start1_time = time.time()   #做一个计时器（开始时间）\n",
    "newdf=pd.DataFrame(columns=df.columns)   #新建一个数据表写入重构的数据\n",
    "new_index=0\n",
    "for index, row in df.iterrows():\n",
    "    bin = []\n",
    "    targets=row['target_activity'].split(',')\n",
    "    for i in targets:\n",
    "        if \"(\" not in i:\n",
    "            bin.append(i)\n",
    "        else:\n",
    "            old_row=df.loc[index].copy()\n",
    "            old_row['target_activity']=i\n",
    "            newdf.loc[new_index]=old_row\n",
    "            new_index+=1\n",
    "    # bindf=pd.DataFrame({'gabage':bin})\n",
    "end1_time = time.time()     #结束时间\n",
    "print(\"Total running time: {} seconds\".format(end1_time - start1_time))     #计算用时（末-初）"
   ],
   "metadata": {
    "collapsed": false,
    "pycharm": {
     "name": "#%%\n"
    }
   }
  },
  {
   "cell_type": "code",
   "execution_count": 18,
   "outputs": [
    {
     "data": {
      "text/plain": "                   peptide_name    source of organism sequence length  \\\n0     Human Defensin  beta 104A   Synthetic construct              48   \n1     Human Defensin  beta 104A   Synthetic construct              48   \n2     Human Defensin  beta 104A   Synthetic construct              48   \n3     Human Defensin  beta 104A   Synthetic construct              48   \n4         Bactenecin 5 - bovine  Bos taurus  [Bovine]              42   \n...                         ...                   ...             ...   \n7111                     CP11CN   Synthetic construct              13   \n7112                     CP11CN   Synthetic construct              13   \n7113                     CP11CN   Synthetic construct              13   \n7114                     CP11CN   Synthetic construct              13   \n7115                     CP11CN   Synthetic construct              13   \n\n                            type  \\\n0     Antibacterial,  Antifungal   \n1     Antibacterial,  Antifungal   \n2     Antibacterial,  Antifungal   \n3     Antibacterial,  Antifungal   \n4                  Antibacterial   \n...                          ...   \n7111               Antibacterial   \n7112               Antibacterial   \n7113               Antibacterial   \n7114               Antibacterial   \n7115               Antibacterial   \n\n                                        target_activity  \\\n0     Staphylococcus carnosus TM300 ( MIC = 4.5 micr...   \n1         Escherichia coli BL21 ( MIC > 100 microg/ml )   \n2      Saccharomyces cerevisiae ATCC9763 ( MIC > 100...   \n3                 P. aeruginosa ( MIC = 4.1 microg/ml )   \n4          Salmonella typhimurium ( MIC = 2-10 microM )   \n...                                                 ...   \n7111   Staphylococcus epidermidis Clinical isolate (...   \n7112   Enterococcus faecalis ATCC 29212 (MIC = >64 m...   \n7113   Listeria monocytogenes NCTC 7973 (MIC = 16 mi...   \n7114   Streptococcus pyogenes ATCC 19615 (MIC = 8 mi...   \n7115   Corynebacterium xerosis Lab strain (MIC = 0.5...   \n\n                source of data                                    sequence  \\\n0     Experimentally Validated       ELDRICGYGTARCRKKCRSQEYRIGRCPNTYACCLRK   \n1     Experimentally Validated       ELDRICGYGTARCRKKCRSQEYRIGRCPNTYACCLRK   \n2     Experimentally Validated       ELDRICGYGTARCRKKCRSQEYRIGRCPNTYACCLRK   \n3     Experimentally Validated       ELDRICGYGTARCRKKCRSQEYRIGRCPNTYACCLRK   \n4     Experimentally Validated  RFRPPIRRPPIRPPFYPPFRPPIRPPIFPPIRPPFRPPLRFP   \n...                        ...                                         ...   \n7111  Experimentally Validated                          ILKKWPWWPWRRK-NH 2   \n7112  Experimentally Validated                          ILKKWPWWPWRRK-NH 2   \n7113  Experimentally Validated                          ILKKWPWWPWRRK-NH 2   \n7114  Experimentally Validated                          ILKKWPWWPWRRK-NH 2   \n7115  Experimentally Validated                          ILKKWPWWPWRRK-NH 2   \n\n           target group  target  measure  value  unit  \n0     Gram+ve,  Gram-ve     NaN      NaN    NaN   NaN  \n1     Gram+ve,  Gram-ve     NaN      NaN    NaN   NaN  \n2     Gram+ve,  Gram-ve     NaN      NaN    NaN   NaN  \n3     Gram+ve,  Gram-ve     NaN      NaN    NaN   NaN  \n4     Gram+ve,  Gram-ve     NaN      NaN    NaN   NaN  \n...                 ...     ...      ...    ...   ...  \n7111            Gram+ve     NaN      NaN    NaN   NaN  \n7112            Gram+ve     NaN      NaN    NaN   NaN  \n7113            Gram+ve     NaN      NaN    NaN   NaN  \n7114            Gram+ve     NaN      NaN    NaN   NaN  \n7115            Gram+ve     NaN      NaN    NaN   NaN  \n\n[7116 rows x 12 columns]",
      "text/html": "<div>\n<style scoped>\n    .dataframe tbody tr th:only-of-type {\n        vertical-align: middle;\n    }\n\n    .dataframe tbody tr th {\n        vertical-align: top;\n    }\n\n    .dataframe thead th {\n        text-align: right;\n    }\n</style>\n<table border=\"1\" class=\"dataframe\">\n  <thead>\n    <tr style=\"text-align: right;\">\n      <th></th>\n      <th>peptide_name</th>\n      <th>source of organism</th>\n      <th>sequence length</th>\n      <th>type</th>\n      <th>target_activity</th>\n      <th>source of data</th>\n      <th>sequence</th>\n      <th>target group</th>\n      <th>target</th>\n      <th>measure</th>\n      <th>value</th>\n      <th>unit</th>\n    </tr>\n  </thead>\n  <tbody>\n    <tr>\n      <th>0</th>\n      <td>Human Defensin  beta 104A</td>\n      <td>Synthetic construct</td>\n      <td>48</td>\n      <td>Antibacterial,  Antifungal</td>\n      <td>Staphylococcus carnosus TM300 ( MIC = 4.5 micr...</td>\n      <td>Experimentally Validated</td>\n      <td>ELDRICGYGTARCRKKCRSQEYRIGRCPNTYACCLRK</td>\n      <td>Gram+ve,  Gram-ve</td>\n      <td>NaN</td>\n      <td>NaN</td>\n      <td>NaN</td>\n      <td>NaN</td>\n    </tr>\n    <tr>\n      <th>1</th>\n      <td>Human Defensin  beta 104A</td>\n      <td>Synthetic construct</td>\n      <td>48</td>\n      <td>Antibacterial,  Antifungal</td>\n      <td>Escherichia coli BL21 ( MIC &gt; 100 microg/ml )</td>\n      <td>Experimentally Validated</td>\n      <td>ELDRICGYGTARCRKKCRSQEYRIGRCPNTYACCLRK</td>\n      <td>Gram+ve,  Gram-ve</td>\n      <td>NaN</td>\n      <td>NaN</td>\n      <td>NaN</td>\n      <td>NaN</td>\n    </tr>\n    <tr>\n      <th>2</th>\n      <td>Human Defensin  beta 104A</td>\n      <td>Synthetic construct</td>\n      <td>48</td>\n      <td>Antibacterial,  Antifungal</td>\n      <td>Saccharomyces cerevisiae ATCC9763 ( MIC &gt; 100...</td>\n      <td>Experimentally Validated</td>\n      <td>ELDRICGYGTARCRKKCRSQEYRIGRCPNTYACCLRK</td>\n      <td>Gram+ve,  Gram-ve</td>\n      <td>NaN</td>\n      <td>NaN</td>\n      <td>NaN</td>\n      <td>NaN</td>\n    </tr>\n    <tr>\n      <th>3</th>\n      <td>Human Defensin  beta 104A</td>\n      <td>Synthetic construct</td>\n      <td>48</td>\n      <td>Antibacterial,  Antifungal</td>\n      <td>P. aeruginosa ( MIC = 4.1 microg/ml )</td>\n      <td>Experimentally Validated</td>\n      <td>ELDRICGYGTARCRKKCRSQEYRIGRCPNTYACCLRK</td>\n      <td>Gram+ve,  Gram-ve</td>\n      <td>NaN</td>\n      <td>NaN</td>\n      <td>NaN</td>\n      <td>NaN</td>\n    </tr>\n    <tr>\n      <th>4</th>\n      <td>Bactenecin 5 - bovine</td>\n      <td>Bos taurus  [Bovine]</td>\n      <td>42</td>\n      <td>Antibacterial</td>\n      <td>Salmonella typhimurium ( MIC = 2-10 microM )</td>\n      <td>Experimentally Validated</td>\n      <td>RFRPPIRRPPIRPPFYPPFRPPIRPPIFPPIRPPFRPPLRFP</td>\n      <td>Gram+ve,  Gram-ve</td>\n      <td>NaN</td>\n      <td>NaN</td>\n      <td>NaN</td>\n      <td>NaN</td>\n    </tr>\n    <tr>\n      <th>...</th>\n      <td>...</td>\n      <td>...</td>\n      <td>...</td>\n      <td>...</td>\n      <td>...</td>\n      <td>...</td>\n      <td>...</td>\n      <td>...</td>\n      <td>...</td>\n      <td>...</td>\n      <td>...</td>\n      <td>...</td>\n    </tr>\n    <tr>\n      <th>7111</th>\n      <td>CP11CN</td>\n      <td>Synthetic construct</td>\n      <td>13</td>\n      <td>Antibacterial</td>\n      <td>Staphylococcus epidermidis Clinical isolate (...</td>\n      <td>Experimentally Validated</td>\n      <td>ILKKWPWWPWRRK-NH 2</td>\n      <td>Gram+ve</td>\n      <td>NaN</td>\n      <td>NaN</td>\n      <td>NaN</td>\n      <td>NaN</td>\n    </tr>\n    <tr>\n      <th>7112</th>\n      <td>CP11CN</td>\n      <td>Synthetic construct</td>\n      <td>13</td>\n      <td>Antibacterial</td>\n      <td>Enterococcus faecalis ATCC 29212 (MIC = &gt;64 m...</td>\n      <td>Experimentally Validated</td>\n      <td>ILKKWPWWPWRRK-NH 2</td>\n      <td>Gram+ve</td>\n      <td>NaN</td>\n      <td>NaN</td>\n      <td>NaN</td>\n      <td>NaN</td>\n    </tr>\n    <tr>\n      <th>7113</th>\n      <td>CP11CN</td>\n      <td>Synthetic construct</td>\n      <td>13</td>\n      <td>Antibacterial</td>\n      <td>Listeria monocytogenes NCTC 7973 (MIC = 16 mi...</td>\n      <td>Experimentally Validated</td>\n      <td>ILKKWPWWPWRRK-NH 2</td>\n      <td>Gram+ve</td>\n      <td>NaN</td>\n      <td>NaN</td>\n      <td>NaN</td>\n      <td>NaN</td>\n    </tr>\n    <tr>\n      <th>7114</th>\n      <td>CP11CN</td>\n      <td>Synthetic construct</td>\n      <td>13</td>\n      <td>Antibacterial</td>\n      <td>Streptococcus pyogenes ATCC 19615 (MIC = 8 mi...</td>\n      <td>Experimentally Validated</td>\n      <td>ILKKWPWWPWRRK-NH 2</td>\n      <td>Gram+ve</td>\n      <td>NaN</td>\n      <td>NaN</td>\n      <td>NaN</td>\n      <td>NaN</td>\n    </tr>\n    <tr>\n      <th>7115</th>\n      <td>CP11CN</td>\n      <td>Synthetic construct</td>\n      <td>13</td>\n      <td>Antibacterial</td>\n      <td>Corynebacterium xerosis Lab strain (MIC = 0.5...</td>\n      <td>Experimentally Validated</td>\n      <td>ILKKWPWWPWRRK-NH 2</td>\n      <td>Gram+ve</td>\n      <td>NaN</td>\n      <td>NaN</td>\n      <td>NaN</td>\n      <td>NaN</td>\n    </tr>\n  </tbody>\n</table>\n<p>7116 rows × 12 columns</p>\n</div>"
     },
     "execution_count": 18,
     "metadata": {},
     "output_type": "execute_result"
    }
   ],
   "source": [
    "newdf"
   ],
   "metadata": {
    "collapsed": false,
    "pycharm": {
     "name": "#%%\n"
    }
   }
  },
  {
   "cell_type": "code",
   "execution_count": 7,
   "outputs": [],
   "source": [
    "newdf.to_excel(r'1_CAMP拆分成单个target.xlsx',index=False)            #查看数据表\n",
    "# newdf2\n",
    "# newdf.equals(newdf2)   #检查两种方法获得的新数据表数据是否一致"
   ],
   "metadata": {
    "collapsed": false,
    "pycharm": {
     "name": "#%%\n"
    }
   }
  },
  {
   "cell_type": "code",
   "execution_count": 11,
   "outputs": [],
   "source": [
    "def revise_value(value):\n",
    "    value1 = str(value)\n",
    "    value = value1.strip()\n",
    "    value = value.replace('+/-', '@')\n",
    "    value = value.replace('±', '@')\n",
    "    value = value.replace('+/', '@')\n",
    "    value = value.replace('+-', '@')\n",
    "    value = value.replace('+', '@')\n",
    "    value = value.replace('>', '')\n",
    "    value = value.replace('<', '')\n",
    "    value = value.replace('≥', '')\n",
    "    value = value.replace('≤', '')\n",
    "    value = value.replace('~', '')\n",
    "    value = value.replace('=', '')\n",
    "    value = value.replace(' ', '')\n",
    "    value = value.replace(',', '.')\n",
    "    value = value.replace('to', '-')\n",
    "    value = value.replace('–', '-')\n",
    "    for bit in value:\n",
    "        if bit.isalpha()==True:\n",
    "            value=''\n",
    "            break\n",
    "    if '[' in value:\n",
    "        value =''\n",
    "    elif '?' in value:\n",
    "        value=''\n",
    "    elif '_' in value:\n",
    "        value = ''\n",
    "    elif '-' in value:\n",
    "        values = value.split('-')\n",
    "        num1 = float(values[0].strip())\n",
    "        num2 = float(values[1].strip())\n",
    "        value = (num1 + num2) / 2\n",
    "    elif \"@\" in value:\n",
    "        values = value.split('@')\n",
    "        value = values[0]\n",
    "    return value\n",
    "\n",
    "  #index默认为True时是会有一列索引"
   ],
   "metadata": {
    "collapsed": false,
    "pycharm": {
     "name": "#%%\n"
    }
   }
  },
  {
   "cell_type": "code",
   "execution_count": 12,
   "outputs": [],
   "source": [
    "#创建一个函数用于把measure_value_unit这个字段拆分成三个字段measure、value、unite分别对应测算方法，数值，单位\n",
    "def seprate_mics(mics):\n",
    "    measure=''\n",
    "    num=''\n",
    "    unit=''\n",
    "    if '=' in mics:\n",
    "        mics = mics.split('=')\n",
    "        measure = mics[0].strip()\n",
    "        a = mics[1].strip().split(' ')\n",
    "        if len(a) == 2:\n",
    "            num = a[0]\n",
    "            unit = a[1]\n",
    "            # print(num+':'+unit)\n",
    "            # measure_num_unnit=[measure,num,unit]\n",
    "        elif len(a) == 1:\n",
    "            # print(a)\n",
    "            num = ''\n",
    "            for j in a[0]:\n",
    "                if j.isalpha() == False:\n",
    "                    num += j\n",
    "                elif j.isalpha() == True:\n",
    "                    break\n",
    "            unit = a[0].strip(num)\n",
    "        elif len(a) == 4:\n",
    "            # print(a)\n",
    "            num = a[0]+a[1]+a[2]\n",
    "            unit = a[3]\n",
    "            # print(num + ':' + unit)\n",
    "            # measure_num_unnit=[measure,num,unit]\n",
    "        elif len(a) == 3:\n",
    "            if a[1] == '' or a[1] == ' ':\n",
    "                num = a[0]\n",
    "                unit = a[-1]\n",
    "                # print(num + ':' + unit)\n",
    "                # measure_num_unnit=[measure,num,unit]\n",
    "            else:\n",
    "                num = a[0]+a[1]\n",
    "                unit = a[2]\n",
    "                # print(num + ':' + unit)\n",
    "                # print(a)\n",
    "                # measure_num_unnit=[measure,num,unit]\n",
    "        elif len(a) == 5:\n",
    "            num = a[0]+a[1]+a[2]+a[3]\n",
    "            unit = a[4]\n",
    "            # print(num + ':' + unit)\n",
    "            # measure_num_unnit=[measure,num,unit]\n",
    "    elif '>' in mics:\n",
    "            mics = mics.split('>')\n",
    "            measure = mics[0].strip()\n",
    "            a = mics[1].strip().split(' ')\n",
    "            if len(a) == 2:\n",
    "                num = '>'+a[0]\n",
    "                unit = a[1]\n",
    "                # print(num+':'+unit)\n",
    "                # measure_num_unnit=[measure,num,unit]\n",
    "            elif len(a) == 1:\n",
    "                # print(a)\n",
    "                num = ''\n",
    "                for j in a[0]:\n",
    "                    if j.isalpha() == False:\n",
    "                        num += j\n",
    "                    elif j.isalpha() == True:\n",
    "                        break\n",
    "                num = '>' + num\n",
    "                unit = a[0].strip(num)\n",
    "                # print(num + ':' + unit)\n",
    "                # measure_num_unnit=[measure,num,unit]\n",
    "            elif len(a) == 4:\n",
    "                # print(a)\n",
    "                num = '>' + a[0] + a[1] + a[2]\n",
    "                unit = a[3]\n",
    "                # print(num + ':' + unit)\n",
    "                # measure_num_unnit=[measure,num,unit]\n",
    "            elif len(a) == 3:\n",
    "                if a[1] == '' or a[1] == ' ':\n",
    "                    num = '>'+a[0]\n",
    "                    unit = a[-1]\n",
    "                    # print(num + ':' + unit)\n",
    "                    # measure_num_unnit=[measure,num,unit]\n",
    "                else:\n",
    "                    num = '>' + a[0] + a[1]\n",
    "                    unit = a[2]\n",
    "                    # print(num + ':' + unit)\n",
    "                    # print(a)\n",
    "                    # measure_num_unnit=[measure,num,unit]\n",
    "            elif len(a) == 5:\n",
    "                num = '>'+a[0] + a[1] + a[2] + a[3]\n",
    "                unit = a[4]\n",
    "                # print(num + ':' + unit)\n",
    "                # measure_num_unnit=[measure,num,unit]\n",
    "    elif '<' in mics:\n",
    "        mics = mics.split('<')\n",
    "        measure = mics[0].strip()\n",
    "        a = mics[1].strip().split(' ')\n",
    "        if len(a) == 2:\n",
    "            num = '<' + a[0]\n",
    "            unit = a[1]\n",
    "            # print(num+':'+unit)\n",
    "            # measure_num_unnit=[measure,num,unit]\n",
    "        elif len(a) == 1:\n",
    "            # print(a)\n",
    "            num = ''\n",
    "            for j in a[0]:\n",
    "                if j.isalpha() == False:\n",
    "                    num += j\n",
    "                elif j.isalpha() == True:\n",
    "                    break\n",
    "            num = '<' + num\n",
    "            unit = a[0].strip(num)\n",
    "            # print(num + ':' + unit)\n",
    "            # measure_num_unnit=[measure,num,unit]\n",
    "        elif len(a) == 4:\n",
    "            # print(a)\n",
    "            num = '<' + a[0] + a[1] + a[2]\n",
    "            unit = a[3]\n",
    "            # print(num + ':' + unit)\n",
    "            # measure_num_unnit=[measure,num,unit]\n",
    "        elif len(a) == 3:\n",
    "            if a[1] == '' or a[1] == ' ':\n",
    "                num = '<' + a[0]\n",
    "                unit = a[-1]\n",
    "                # print(num + ':' + unit)\n",
    "                # measure_num_unnit=[measure,num,unit]\n",
    "            else:\n",
    "                num = '<' + a[0] + a[1]\n",
    "                unit = a[2]\n",
    "                # print(num + ':' + unit)\n",
    "                # print(a)\n",
    "                # measure_num_unnit=[measure,num,unit]\n",
    "        elif len(a) == 5:\n",
    "            num = '<' + a[0] + a[1] + a[2] + a[3]\n",
    "            unit = a[4]\n",
    "            # print(num + ':' + unit)\n",
    "            measure_num_unit=[measure,num,unit]\n",
    "        # else:\n",
    "            # mesure_num_unit=[measure,num,unit]\n",
    "    num = revise_value(num)\n",
    "    return [measure,num,unit]"
   ],
   "metadata": {
    "collapsed": false,
    "pycharm": {
     "name": "#%%\n"
    }
   }
  },
  {
   "cell_type": "code",
   "execution_count": 13,
   "outputs": [],
   "source": [
    "def Unit(unit):\n",
    "    unit=unit.replace('.','')\n",
    "    unit=unit.replace(')','')\n",
    "    unit=unit.replace(';','')\n",
    "    unit=unit.replace('；','')\n",
    "    return unit"
   ],
   "metadata": {
    "collapsed": false,
    "pycharm": {
     "name": "#%%\n"
    }
   }
  },
  {
   "cell_type": "code",
   "execution_count": 15,
   "outputs": [],
   "source": [
    "# 将target_activity这一列数据拆分成四列：target，measure，value，unit\n",
    "newdf2=copy.deepcopy(newdf )   #创建一个过渡数据表，防止修改掉之前形成的数据表\n",
    "new_columns=['target','measure','value','unit']\n",
    "for column in new_columns:\n",
    "    newdf[column]=np.NaN\n",
    "# newdf2.head()\n",
    "# target_list=[]\n",
    "for i in range(len(list(newdf['sequence']))):\n",
    "    targets_mics=newdf2.at[i,'target_activity']\n",
    "    if targets_mics.count('(')==1:\n",
    "        composed=targets_mics.split('(')\n",
    "        # target=composed[0].strip()\n",
    "        newdf2.at[i,'target']=composed[0].strip()\n",
    "        micss=composed[1].strip(')')\n",
    "        miclist=seprate_mics(micss)\n",
    "        newdf2.at[i,'measure']=miclist[0]\n",
    "        newdf2.at[i,'value']=miclist[1]\n",
    "        newdf2.at[i,'unit']=Unit(miclist[2])\n",
    "    elif targets_mics.count('(')==2:\n",
    "        composed=targets_mics.split('(')\n",
    "        newdf2.at[i,'target']=(composed[0]+composed[1]+')').strip()\n",
    "        micss=composed[-1].strip(')')\n",
    "        miclist=seprate_mics(micss)\n",
    "        newdf2.at[i,'measure']=miclist[0]\n",
    "        newdf2.at[i,'value']=miclist[1]\n",
    "        newdf2.at[i,'unit']=Unit(miclist[2])\n",
    "    else:\n",
    "        pass\n"
   ],
   "metadata": {
    "collapsed": false,
    "pycharm": {
     "name": "#%%\n"
    }
   }
  },
  {
   "cell_type": "code",
   "execution_count": 20,
   "outputs": [
    {
     "data": {
      "text/plain": "                   peptide_name    source of organism sequence length  \\\n0     Human Defensin  beta 104A   Synthetic construct              48   \n1     Human Defensin  beta 104A   Synthetic construct              48   \n2     Human Defensin  beta 104A   Synthetic construct              48   \n3     Human Defensin  beta 104A   Synthetic construct              48   \n4         Bactenecin 5 - bovine  Bos taurus  [Bovine]              42   \n...                         ...                   ...             ...   \n7111                     CP11CN   Synthetic construct              13   \n7112                     CP11CN   Synthetic construct              13   \n7113                     CP11CN   Synthetic construct              13   \n7114                     CP11CN   Synthetic construct              13   \n7115                     CP11CN   Synthetic construct              13   \n\n                            type  \\\n0     Antibacterial,  Antifungal   \n1     Antibacterial,  Antifungal   \n2     Antibacterial,  Antifungal   \n3     Antibacterial,  Antifungal   \n4                  Antibacterial   \n...                          ...   \n7111               Antibacterial   \n7112               Antibacterial   \n7113               Antibacterial   \n7114               Antibacterial   \n7115               Antibacterial   \n\n                                        target_activity  \\\n0     Staphylococcus carnosus TM300 ( MIC = 4.5 micr...   \n1         Escherichia coli BL21 ( MIC > 100 microg/ml )   \n2      Saccharomyces cerevisiae ATCC9763 ( MIC > 100...   \n3                 P. aeruginosa ( MIC = 4.1 microg/ml )   \n4          Salmonella typhimurium ( MIC = 2-10 microM )   \n...                                                 ...   \n7111   Staphylococcus epidermidis Clinical isolate (...   \n7112   Enterococcus faecalis ATCC 29212 (MIC = >64 m...   \n7113   Listeria monocytogenes NCTC 7973 (MIC = 16 mi...   \n7114   Streptococcus pyogenes ATCC 19615 (MIC = 8 mi...   \n7115   Corynebacterium xerosis Lab strain (MIC = 0.5...   \n\n                source of data                                    sequence  \\\n0     Experimentally Validated       ELDRICGYGTARCRKKCRSQEYRIGRCPNTYACCLRK   \n1     Experimentally Validated       ELDRICGYGTARCRKKCRSQEYRIGRCPNTYACCLRK   \n2     Experimentally Validated       ELDRICGYGTARCRKKCRSQEYRIGRCPNTYACCLRK   \n3     Experimentally Validated       ELDRICGYGTARCRKKCRSQEYRIGRCPNTYACCLRK   \n4     Experimentally Validated  RFRPPIRRPPIRPPFYPPFRPPIRPPIFPPIRPPFRPPLRFP   \n...                        ...                                         ...   \n7111  Experimentally Validated                          ILKKWPWWPWRRK-NH 2   \n7112  Experimentally Validated                          ILKKWPWWPWRRK-NH 2   \n7113  Experimentally Validated                          ILKKWPWWPWRRK-NH 2   \n7114  Experimentally Validated                          ILKKWPWWPWRRK-NH 2   \n7115  Experimentally Validated                          ILKKWPWWPWRRK-NH 2   \n\n           target group                                       target measure  \\\n0     Gram+ve,  Gram-ve                Staphylococcus carnosus TM300     MIC   \n1     Gram+ve,  Gram-ve                        Escherichia coli BL21     MIC   \n2     Gram+ve,  Gram-ve            Saccharomyces cerevisiae ATCC9763     MIC   \n3     Gram+ve,  Gram-ve                                P. aeruginosa     MIC   \n4     Gram+ve,  Gram-ve                       Salmonella typhimurium     MIC   \n...                 ...                                          ...     ...   \n7111            Gram+ve  Staphylococcus epidermidis Clinical isolate     MIC   \n7112            Gram+ve             Enterococcus faecalis ATCC 29212     MIC   \n7113            Gram+ve             Listeria monocytogenes NCTC 7973     MIC   \n7114            Gram+ve            Streptococcus pyogenes ATCC 19615     MIC   \n7115            Gram+ve           Corynebacterium xerosis Lab strain     MIC   \n\n     value       unit  \n0      4.5  microg/ml  \n1      100  microg/ml  \n2      100  microg/ml  \n3      4.1  microg/ml  \n4      6.0     microM  \n...    ...        ...  \n7111     8  microg/ml  \n7112    64  microg/ml  \n7113    16  microg/ml  \n7114     8  microg/ml  \n7115   0.5  microg/ml  \n\n[7116 rows x 12 columns]",
      "text/html": "<div>\n<style scoped>\n    .dataframe tbody tr th:only-of-type {\n        vertical-align: middle;\n    }\n\n    .dataframe tbody tr th {\n        vertical-align: top;\n    }\n\n    .dataframe thead th {\n        text-align: right;\n    }\n</style>\n<table border=\"1\" class=\"dataframe\">\n  <thead>\n    <tr style=\"text-align: right;\">\n      <th></th>\n      <th>peptide_name</th>\n      <th>source of organism</th>\n      <th>sequence length</th>\n      <th>type</th>\n      <th>target_activity</th>\n      <th>source of data</th>\n      <th>sequence</th>\n      <th>target group</th>\n      <th>target</th>\n      <th>measure</th>\n      <th>value</th>\n      <th>unit</th>\n    </tr>\n  </thead>\n  <tbody>\n    <tr>\n      <th>0</th>\n      <td>Human Defensin  beta 104A</td>\n      <td>Synthetic construct</td>\n      <td>48</td>\n      <td>Antibacterial,  Antifungal</td>\n      <td>Staphylococcus carnosus TM300 ( MIC = 4.5 micr...</td>\n      <td>Experimentally Validated</td>\n      <td>ELDRICGYGTARCRKKCRSQEYRIGRCPNTYACCLRK</td>\n      <td>Gram+ve,  Gram-ve</td>\n      <td>Staphylococcus carnosus TM300</td>\n      <td>MIC</td>\n      <td>4.5</td>\n      <td>microg/ml</td>\n    </tr>\n    <tr>\n      <th>1</th>\n      <td>Human Defensin  beta 104A</td>\n      <td>Synthetic construct</td>\n      <td>48</td>\n      <td>Antibacterial,  Antifungal</td>\n      <td>Escherichia coli BL21 ( MIC &gt; 100 microg/ml )</td>\n      <td>Experimentally Validated</td>\n      <td>ELDRICGYGTARCRKKCRSQEYRIGRCPNTYACCLRK</td>\n      <td>Gram+ve,  Gram-ve</td>\n      <td>Escherichia coli BL21</td>\n      <td>MIC</td>\n      <td>100</td>\n      <td>microg/ml</td>\n    </tr>\n    <tr>\n      <th>2</th>\n      <td>Human Defensin  beta 104A</td>\n      <td>Synthetic construct</td>\n      <td>48</td>\n      <td>Antibacterial,  Antifungal</td>\n      <td>Saccharomyces cerevisiae ATCC9763 ( MIC &gt; 100...</td>\n      <td>Experimentally Validated</td>\n      <td>ELDRICGYGTARCRKKCRSQEYRIGRCPNTYACCLRK</td>\n      <td>Gram+ve,  Gram-ve</td>\n      <td>Saccharomyces cerevisiae ATCC9763</td>\n      <td>MIC</td>\n      <td>100</td>\n      <td>microg/ml</td>\n    </tr>\n    <tr>\n      <th>3</th>\n      <td>Human Defensin  beta 104A</td>\n      <td>Synthetic construct</td>\n      <td>48</td>\n      <td>Antibacterial,  Antifungal</td>\n      <td>P. aeruginosa ( MIC = 4.1 microg/ml )</td>\n      <td>Experimentally Validated</td>\n      <td>ELDRICGYGTARCRKKCRSQEYRIGRCPNTYACCLRK</td>\n      <td>Gram+ve,  Gram-ve</td>\n      <td>P. aeruginosa</td>\n      <td>MIC</td>\n      <td>4.1</td>\n      <td>microg/ml</td>\n    </tr>\n    <tr>\n      <th>4</th>\n      <td>Bactenecin 5 - bovine</td>\n      <td>Bos taurus  [Bovine]</td>\n      <td>42</td>\n      <td>Antibacterial</td>\n      <td>Salmonella typhimurium ( MIC = 2-10 microM )</td>\n      <td>Experimentally Validated</td>\n      <td>RFRPPIRRPPIRPPFYPPFRPPIRPPIFPPIRPPFRPPLRFP</td>\n      <td>Gram+ve,  Gram-ve</td>\n      <td>Salmonella typhimurium</td>\n      <td>MIC</td>\n      <td>6.0</td>\n      <td>microM</td>\n    </tr>\n    <tr>\n      <th>...</th>\n      <td>...</td>\n      <td>...</td>\n      <td>...</td>\n      <td>...</td>\n      <td>...</td>\n      <td>...</td>\n      <td>...</td>\n      <td>...</td>\n      <td>...</td>\n      <td>...</td>\n      <td>...</td>\n      <td>...</td>\n    </tr>\n    <tr>\n      <th>7111</th>\n      <td>CP11CN</td>\n      <td>Synthetic construct</td>\n      <td>13</td>\n      <td>Antibacterial</td>\n      <td>Staphylococcus epidermidis Clinical isolate (...</td>\n      <td>Experimentally Validated</td>\n      <td>ILKKWPWWPWRRK-NH 2</td>\n      <td>Gram+ve</td>\n      <td>Staphylococcus epidermidis Clinical isolate</td>\n      <td>MIC</td>\n      <td>8</td>\n      <td>microg/ml</td>\n    </tr>\n    <tr>\n      <th>7112</th>\n      <td>CP11CN</td>\n      <td>Synthetic construct</td>\n      <td>13</td>\n      <td>Antibacterial</td>\n      <td>Enterococcus faecalis ATCC 29212 (MIC = &gt;64 m...</td>\n      <td>Experimentally Validated</td>\n      <td>ILKKWPWWPWRRK-NH 2</td>\n      <td>Gram+ve</td>\n      <td>Enterococcus faecalis ATCC 29212</td>\n      <td>MIC</td>\n      <td>64</td>\n      <td>microg/ml</td>\n    </tr>\n    <tr>\n      <th>7113</th>\n      <td>CP11CN</td>\n      <td>Synthetic construct</td>\n      <td>13</td>\n      <td>Antibacterial</td>\n      <td>Listeria monocytogenes NCTC 7973 (MIC = 16 mi...</td>\n      <td>Experimentally Validated</td>\n      <td>ILKKWPWWPWRRK-NH 2</td>\n      <td>Gram+ve</td>\n      <td>Listeria monocytogenes NCTC 7973</td>\n      <td>MIC</td>\n      <td>16</td>\n      <td>microg/ml</td>\n    </tr>\n    <tr>\n      <th>7114</th>\n      <td>CP11CN</td>\n      <td>Synthetic construct</td>\n      <td>13</td>\n      <td>Antibacterial</td>\n      <td>Streptococcus pyogenes ATCC 19615 (MIC = 8 mi...</td>\n      <td>Experimentally Validated</td>\n      <td>ILKKWPWWPWRRK-NH 2</td>\n      <td>Gram+ve</td>\n      <td>Streptococcus pyogenes ATCC 19615</td>\n      <td>MIC</td>\n      <td>8</td>\n      <td>microg/ml</td>\n    </tr>\n    <tr>\n      <th>7115</th>\n      <td>CP11CN</td>\n      <td>Synthetic construct</td>\n      <td>13</td>\n      <td>Antibacterial</td>\n      <td>Corynebacterium xerosis Lab strain (MIC = 0.5...</td>\n      <td>Experimentally Validated</td>\n      <td>ILKKWPWWPWRRK-NH 2</td>\n      <td>Gram+ve</td>\n      <td>Corynebacterium xerosis Lab strain</td>\n      <td>MIC</td>\n      <td>0.5</td>\n      <td>microg/ml</td>\n    </tr>\n  </tbody>\n</table>\n<p>7116 rows × 12 columns</p>\n</div>"
     },
     "execution_count": 20,
     "metadata": {},
     "output_type": "execute_result"
    }
   ],
   "source": [
    "newdf2.to_excel(r'2_CAMP拆分mic.xlsx',index=False)\n",
    "newdf2"
   ],
   "metadata": {
    "collapsed": false,
    "pycharm": {
     "name": "#%%\n"
    }
   }
  },
  {
   "cell_type": "code",
   "execution_count": 27,
   "outputs": [],
   "source": [
    "# 删除value列中存在空字符或者空白记录的字段，并把value列改为数字格式\n",
    "new=copy.deepcopy(newdf2)\n",
    "new['value'] = pd.to_numeric(new['value'], errors='coerce')\n",
    "new.dropna(subset=['value'], inplace=True)\n",
    "# new['value'] = new['value'].astype(float)\n",
    "new.to_excel(r'3_CAMP删改value.xlsx',index=False)"
   ],
   "metadata": {
    "collapsed": false,
    "pycharm": {
     "name": "#%%\n"
    }
   }
  },
  {
   "cell_type": "code",
   "execution_count": 28,
   "outputs": [],
   "source": [
    "# 新建一个表格，按照原本规定的格式输出样本数据\n",
    "finaldata=pd.DataFrame(columns=['database_id','name','n_terminal','sequence','c_terminal','other_modification','target','measure','value','unit','database'])\n",
    "finaldata[['name','sequence','target','measure','value','unit']]=new[['peptide_name','sequence','target','measure','value','unit']]\n",
    "finaldata[['n_terminal','c_terminal','other_modification']]='none'\n",
    "finaldata['database_id']='no_id'\n",
    "finaldata['database']='CAMP'"
   ],
   "metadata": {
    "collapsed": false,
    "pycharm": {
     "name": "#%%\n"
    }
   }
  },
  {
   "cell_type": "code",
   "execution_count": 29,
   "outputs": [
    {
     "data": {
      "text/plain": "     database_id                       name n_terminal  \\\n0          no_id  Human Defensin  beta 104A       none   \n1          no_id  Human Defensin  beta 104A       none   \n2          no_id  Human Defensin  beta 104A       none   \n3          no_id  Human Defensin  beta 104A       none   \n4          no_id      Bactenecin 5 - bovine       none   \n...          ...                        ...        ...   \n7111       no_id                     CP11CN       none   \n7112       no_id                     CP11CN       none   \n7113       no_id                     CP11CN       none   \n7114       no_id                     CP11CN       none   \n7115       no_id                     CP11CN       none   \n\n                                        sequence c_terminal  \\\n0          ELDRICGYGTARCRKKCRSQEYRIGRCPNTYACCLRK       none   \n1          ELDRICGYGTARCRKKCRSQEYRIGRCPNTYACCLRK       none   \n2          ELDRICGYGTARCRKKCRSQEYRIGRCPNTYACCLRK       none   \n3          ELDRICGYGTARCRKKCRSQEYRIGRCPNTYACCLRK       none   \n4     RFRPPIRRPPIRPPFYPPFRPPIRPPIFPPIRPPFRPPLRFP       none   \n...                                          ...        ...   \n7111                          ILKKWPWWPWRRK-NH 2       none   \n7112                          ILKKWPWWPWRRK-NH 2       none   \n7113                          ILKKWPWWPWRRK-NH 2       none   \n7114                          ILKKWPWWPWRRK-NH 2       none   \n7115                          ILKKWPWWPWRRK-NH 2       none   \n\n     other_modification                                       target measure  \\\n0                  none                Staphylococcus carnosus TM300     MIC   \n1                  none                        Escherichia coli BL21     MIC   \n2                  none            Saccharomyces cerevisiae ATCC9763     MIC   \n3                  none                                P. aeruginosa     MIC   \n4                  none                       Salmonella typhimurium     MIC   \n...                 ...                                          ...     ...   \n7111               none  Staphylococcus epidermidis Clinical isolate     MIC   \n7112               none             Enterococcus faecalis ATCC 29212     MIC   \n7113               none             Listeria monocytogenes NCTC 7973     MIC   \n7114               none            Streptococcus pyogenes ATCC 19615     MIC   \n7115               none           Corynebacterium xerosis Lab strain     MIC   \n\n      value       unit database  \n0       4.5  microg/ml     CAMP  \n1     100.0  microg/ml     CAMP  \n2     100.0  microg/ml     CAMP  \n3       4.1  microg/ml     CAMP  \n4       6.0     microM     CAMP  \n...     ...        ...      ...  \n7111    8.0  microg/ml     CAMP  \n7112   64.0  microg/ml     CAMP  \n7113   16.0  microg/ml     CAMP  \n7114    8.0  microg/ml     CAMP  \n7115    0.5  microg/ml     CAMP  \n\n[6484 rows x 11 columns]",
      "text/html": "<div>\n<style scoped>\n    .dataframe tbody tr th:only-of-type {\n        vertical-align: middle;\n    }\n\n    .dataframe tbody tr th {\n        vertical-align: top;\n    }\n\n    .dataframe thead th {\n        text-align: right;\n    }\n</style>\n<table border=\"1\" class=\"dataframe\">\n  <thead>\n    <tr style=\"text-align: right;\">\n      <th></th>\n      <th>database_id</th>\n      <th>name</th>\n      <th>n_terminal</th>\n      <th>sequence</th>\n      <th>c_terminal</th>\n      <th>other_modification</th>\n      <th>target</th>\n      <th>measure</th>\n      <th>value</th>\n      <th>unit</th>\n      <th>database</th>\n    </tr>\n  </thead>\n  <tbody>\n    <tr>\n      <th>0</th>\n      <td>no_id</td>\n      <td>Human Defensin  beta 104A</td>\n      <td>none</td>\n      <td>ELDRICGYGTARCRKKCRSQEYRIGRCPNTYACCLRK</td>\n      <td>none</td>\n      <td>none</td>\n      <td>Staphylococcus carnosus TM300</td>\n      <td>MIC</td>\n      <td>4.5</td>\n      <td>microg/ml</td>\n      <td>CAMP</td>\n    </tr>\n    <tr>\n      <th>1</th>\n      <td>no_id</td>\n      <td>Human Defensin  beta 104A</td>\n      <td>none</td>\n      <td>ELDRICGYGTARCRKKCRSQEYRIGRCPNTYACCLRK</td>\n      <td>none</td>\n      <td>none</td>\n      <td>Escherichia coli BL21</td>\n      <td>MIC</td>\n      <td>100.0</td>\n      <td>microg/ml</td>\n      <td>CAMP</td>\n    </tr>\n    <tr>\n      <th>2</th>\n      <td>no_id</td>\n      <td>Human Defensin  beta 104A</td>\n      <td>none</td>\n      <td>ELDRICGYGTARCRKKCRSQEYRIGRCPNTYACCLRK</td>\n      <td>none</td>\n      <td>none</td>\n      <td>Saccharomyces cerevisiae ATCC9763</td>\n      <td>MIC</td>\n      <td>100.0</td>\n      <td>microg/ml</td>\n      <td>CAMP</td>\n    </tr>\n    <tr>\n      <th>3</th>\n      <td>no_id</td>\n      <td>Human Defensin  beta 104A</td>\n      <td>none</td>\n      <td>ELDRICGYGTARCRKKCRSQEYRIGRCPNTYACCLRK</td>\n      <td>none</td>\n      <td>none</td>\n      <td>P. aeruginosa</td>\n      <td>MIC</td>\n      <td>4.1</td>\n      <td>microg/ml</td>\n      <td>CAMP</td>\n    </tr>\n    <tr>\n      <th>4</th>\n      <td>no_id</td>\n      <td>Bactenecin 5 - bovine</td>\n      <td>none</td>\n      <td>RFRPPIRRPPIRPPFYPPFRPPIRPPIFPPIRPPFRPPLRFP</td>\n      <td>none</td>\n      <td>none</td>\n      <td>Salmonella typhimurium</td>\n      <td>MIC</td>\n      <td>6.0</td>\n      <td>microM</td>\n      <td>CAMP</td>\n    </tr>\n    <tr>\n      <th>...</th>\n      <td>...</td>\n      <td>...</td>\n      <td>...</td>\n      <td>...</td>\n      <td>...</td>\n      <td>...</td>\n      <td>...</td>\n      <td>...</td>\n      <td>...</td>\n      <td>...</td>\n      <td>...</td>\n    </tr>\n    <tr>\n      <th>7111</th>\n      <td>no_id</td>\n      <td>CP11CN</td>\n      <td>none</td>\n      <td>ILKKWPWWPWRRK-NH 2</td>\n      <td>none</td>\n      <td>none</td>\n      <td>Staphylococcus epidermidis Clinical isolate</td>\n      <td>MIC</td>\n      <td>8.0</td>\n      <td>microg/ml</td>\n      <td>CAMP</td>\n    </tr>\n    <tr>\n      <th>7112</th>\n      <td>no_id</td>\n      <td>CP11CN</td>\n      <td>none</td>\n      <td>ILKKWPWWPWRRK-NH 2</td>\n      <td>none</td>\n      <td>none</td>\n      <td>Enterococcus faecalis ATCC 29212</td>\n      <td>MIC</td>\n      <td>64.0</td>\n      <td>microg/ml</td>\n      <td>CAMP</td>\n    </tr>\n    <tr>\n      <th>7113</th>\n      <td>no_id</td>\n      <td>CP11CN</td>\n      <td>none</td>\n      <td>ILKKWPWWPWRRK-NH 2</td>\n      <td>none</td>\n      <td>none</td>\n      <td>Listeria monocytogenes NCTC 7973</td>\n      <td>MIC</td>\n      <td>16.0</td>\n      <td>microg/ml</td>\n      <td>CAMP</td>\n    </tr>\n    <tr>\n      <th>7114</th>\n      <td>no_id</td>\n      <td>CP11CN</td>\n      <td>none</td>\n      <td>ILKKWPWWPWRRK-NH 2</td>\n      <td>none</td>\n      <td>none</td>\n      <td>Streptococcus pyogenes ATCC 19615</td>\n      <td>MIC</td>\n      <td>8.0</td>\n      <td>microg/ml</td>\n      <td>CAMP</td>\n    </tr>\n    <tr>\n      <th>7115</th>\n      <td>no_id</td>\n      <td>CP11CN</td>\n      <td>none</td>\n      <td>ILKKWPWWPWRRK-NH 2</td>\n      <td>none</td>\n      <td>none</td>\n      <td>Corynebacterium xerosis Lab strain</td>\n      <td>MIC</td>\n      <td>0.5</td>\n      <td>microg/ml</td>\n      <td>CAMP</td>\n    </tr>\n  </tbody>\n</table>\n<p>6484 rows × 11 columns</p>\n</div>"
     },
     "execution_count": 29,
     "metadata": {},
     "output_type": "execute_result"
    }
   ],
   "source": [
    "finaldata.to_excel(r'CAMP.xlsx',index=False)\n",
    "finaldata"
   ],
   "metadata": {
    "collapsed": false,
    "pycharm": {
     "name": "#%%\n"
    }
   }
  }
 ],
 "metadata": {
  "kernelspec": {
   "display_name": "Python 3",
   "language": "python",
   "name": "python3"
  },
  "language_info": {
   "codemirror_mode": {
    "name": "ipython",
    "version": 2
   },
   "file_extension": ".py",
   "mimetype": "text/x-python",
   "name": "python",
   "nbconvert_exporter": "python",
   "pygments_lexer": "ipython2",
   "version": "2.7.6"
  }
 },
 "nbformat": 4,
 "nbformat_minor": 0
}