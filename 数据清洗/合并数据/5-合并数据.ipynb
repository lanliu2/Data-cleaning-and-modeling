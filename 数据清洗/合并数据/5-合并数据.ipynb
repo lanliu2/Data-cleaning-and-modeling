{
 "cells": [
  {
   "cell_type": "code",
   "execution_count": 48,
   "metadata": {
    "collapsed": true,
    "pycharm": {
     "name": "#%%\n"
    }
   },
   "outputs": [],
   "source": [
    "import os\n",
    "import pandas as pd\n",
    "import copy\n",
    "import re\n",
    "\n",
    "# pandas的drop_duplicates函数存在问题无法完全删除重复项，所有删重操作只在最后一步进行用excel或wps实行"
   ]
  },
  {
   "cell_type": "code",
   "execution_count": 49,
   "outputs": [
    {
     "data": {
      "text/plain": "     database_id           name n_terminal  \\\n0              1     Distinctin        NaN   \n1              1     Distinctin        NaN   \n2              1     Distinctin        NaN   \n3              1     Distinctin        NaN   \n4              1     Distinctin        NaN   \n...          ...            ...        ...   \n8349  L10Q2PGA80  Temporin-1TGa       none   \n8350  L10Q2PGA80  Temporin-1TGa       none   \n8351  L10Q2PGA80  Temporin-1TGa       none   \n8352  L10Q800R30           PBN1       none   \n8353  L10Q800R30           PBN1       none   \n\n                                              sequence c_terminal  \\\n0     ENREVPPGFTALIKTLRKCKII,NLVSGLIEARKYLEQLHRKLKNCKV        NaN   \n1     ENREVPPGFTALIKTLRKCKII,NLVSGLIEARKYLEQLHRKLKNCKV        NaN   \n2     ENREVPPGFTALIKTLRKCKII,NLVSGLIEARKYLEQLHRKLKNCKV        NaN   \n3     ENREVPPGFTALIKTLRKCKII,NLVSGLIEARKYLEQLHRKLKNCKV        NaN   \n4     ENREVPPGFTALIKTLRKCKII,NLVSGLIEARKYLEQLHRKLKNCKV        NaN   \n...                                                ...        ...   \n8349                                     FLPIIGKLLSGIL       none   \n8350                                     FLPIIGKLLSGIL       none   \n8351                                     FLPIIGKLLSGIL       none   \n8352                              FLSLIPHIVSGVAALAKHLG       none   \n8353                              FLSLIPHIVSGVAALAKHLG       none   \n\n     other_modification                             target measure     value  \\\n0                  none        Escherichia coli ATCC 25922     MIC   14.5000   \n1                  none   Staphylococcus aureus ATCC 25923     MIC   28.0000   \n2                  none  Pseudomonas aeruginosa ATCC 27853     MIC   28.0000   \n3                  none   Enterococcus faecalis ATCC 29212     MIC   14.5000   \n4                  none                   Escherichia coli     MIC    6.2050   \n...                 ...                                ...     ...       ...   \n8349               none                            E. coli     MIC  100.0000   \n8350               none                          S. aureus     MIC   20.7555   \n8351               none                          S. aureus     MIC   15.0000   \n8352               none                          S. aureus     MIC   25.5438   \n8353               none                          S. aureus     MIC   12.5000   \n\n       unit database  \n0        µM   DBAASP  \n1        µM   DBAASP  \n2        µM   DBAASP  \n3        µM   DBAASP  \n4        µM   DBAASP  \n...     ...      ...  \n8349     uM     LAMP  \n8350  ug/ml     LAMP  \n8351     uM     LAMP  \n8352  ug/ml     LAMP  \n8353     uM     LAMP  \n\n[174650 rows x 11 columns]",
      "text/html": "<div>\n<style scoped>\n    .dataframe tbody tr th:only-of-type {\n        vertical-align: middle;\n    }\n\n    .dataframe tbody tr th {\n        vertical-align: top;\n    }\n\n    .dataframe thead th {\n        text-align: right;\n    }\n</style>\n<table border=\"1\" class=\"dataframe\">\n  <thead>\n    <tr style=\"text-align: right;\">\n      <th></th>\n      <th>database_id</th>\n      <th>name</th>\n      <th>n_terminal</th>\n      <th>sequence</th>\n      <th>c_terminal</th>\n      <th>other_modification</th>\n      <th>target</th>\n      <th>measure</th>\n      <th>value</th>\n      <th>unit</th>\n      <th>database</th>\n    </tr>\n  </thead>\n  <tbody>\n    <tr>\n      <th>0</th>\n      <td>1</td>\n      <td>Distinctin</td>\n      <td>NaN</td>\n      <td>ENREVPPGFTALIKTLRKCKII,NLVSGLIEARKYLEQLHRKLKNCKV</td>\n      <td>NaN</td>\n      <td>none</td>\n      <td>Escherichia coli ATCC 25922</td>\n      <td>MIC</td>\n      <td>14.5000</td>\n      <td>µM</td>\n      <td>DBAASP</td>\n    </tr>\n    <tr>\n      <th>1</th>\n      <td>1</td>\n      <td>Distinctin</td>\n      <td>NaN</td>\n      <td>ENREVPPGFTALIKTLRKCKII,NLVSGLIEARKYLEQLHRKLKNCKV</td>\n      <td>NaN</td>\n      <td>none</td>\n      <td>Staphylococcus aureus ATCC 25923</td>\n      <td>MIC</td>\n      <td>28.0000</td>\n      <td>µM</td>\n      <td>DBAASP</td>\n    </tr>\n    <tr>\n      <th>2</th>\n      <td>1</td>\n      <td>Distinctin</td>\n      <td>NaN</td>\n      <td>ENREVPPGFTALIKTLRKCKII,NLVSGLIEARKYLEQLHRKLKNCKV</td>\n      <td>NaN</td>\n      <td>none</td>\n      <td>Pseudomonas aeruginosa ATCC 27853</td>\n      <td>MIC</td>\n      <td>28.0000</td>\n      <td>µM</td>\n      <td>DBAASP</td>\n    </tr>\n    <tr>\n      <th>3</th>\n      <td>1</td>\n      <td>Distinctin</td>\n      <td>NaN</td>\n      <td>ENREVPPGFTALIKTLRKCKII,NLVSGLIEARKYLEQLHRKLKNCKV</td>\n      <td>NaN</td>\n      <td>none</td>\n      <td>Enterococcus faecalis ATCC 29212</td>\n      <td>MIC</td>\n      <td>14.5000</td>\n      <td>µM</td>\n      <td>DBAASP</td>\n    </tr>\n    <tr>\n      <th>4</th>\n      <td>1</td>\n      <td>Distinctin</td>\n      <td>NaN</td>\n      <td>ENREVPPGFTALIKTLRKCKII,NLVSGLIEARKYLEQLHRKLKNCKV</td>\n      <td>NaN</td>\n      <td>none</td>\n      <td>Escherichia coli</td>\n      <td>MIC</td>\n      <td>6.2050</td>\n      <td>µM</td>\n      <td>DBAASP</td>\n    </tr>\n    <tr>\n      <th>...</th>\n      <td>...</td>\n      <td>...</td>\n      <td>...</td>\n      <td>...</td>\n      <td>...</td>\n      <td>...</td>\n      <td>...</td>\n      <td>...</td>\n      <td>...</td>\n      <td>...</td>\n      <td>...</td>\n    </tr>\n    <tr>\n      <th>8349</th>\n      <td>L10Q2PGA80</td>\n      <td>Temporin-1TGa</td>\n      <td>none</td>\n      <td>FLPIIGKLLSGIL</td>\n      <td>none</td>\n      <td>none</td>\n      <td>E. coli</td>\n      <td>MIC</td>\n      <td>100.0000</td>\n      <td>uM</td>\n      <td>LAMP</td>\n    </tr>\n    <tr>\n      <th>8350</th>\n      <td>L10Q2PGA80</td>\n      <td>Temporin-1TGa</td>\n      <td>none</td>\n      <td>FLPIIGKLLSGIL</td>\n      <td>none</td>\n      <td>none</td>\n      <td>S. aureus</td>\n      <td>MIC</td>\n      <td>20.7555</td>\n      <td>ug/ml</td>\n      <td>LAMP</td>\n    </tr>\n    <tr>\n      <th>8351</th>\n      <td>L10Q2PGA80</td>\n      <td>Temporin-1TGa</td>\n      <td>none</td>\n      <td>FLPIIGKLLSGIL</td>\n      <td>none</td>\n      <td>none</td>\n      <td>S. aureus</td>\n      <td>MIC</td>\n      <td>15.0000</td>\n      <td>uM</td>\n      <td>LAMP</td>\n    </tr>\n    <tr>\n      <th>8352</th>\n      <td>L10Q800R30</td>\n      <td>PBN1</td>\n      <td>none</td>\n      <td>FLSLIPHIVSGVAALAKHLG</td>\n      <td>none</td>\n      <td>none</td>\n      <td>S. aureus</td>\n      <td>MIC</td>\n      <td>25.5438</td>\n      <td>ug/ml</td>\n      <td>LAMP</td>\n    </tr>\n    <tr>\n      <th>8353</th>\n      <td>L10Q800R30</td>\n      <td>PBN1</td>\n      <td>none</td>\n      <td>FLSLIPHIVSGVAALAKHLG</td>\n      <td>none</td>\n      <td>none</td>\n      <td>S. aureus</td>\n      <td>MIC</td>\n      <td>12.5000</td>\n      <td>uM</td>\n      <td>LAMP</td>\n    </tr>\n  </tbody>\n</table>\n<p>174650 rows × 11 columns</p>\n</div>"
     },
     "execution_count": 49,
     "metadata": {},
     "output_type": "execute_result"
    }
   ],
   "source": [
    "#\n",
    "os.chdir(r'E:\\文件\\大学课程\\大四上\\毕业设计\\数据收集\\收集整理\\后期数据清洗整理\\合并数据')\n",
    "dflist=['DBAASP.xlsx','DRAMP.xlsx','CAMP.xlsx','LAMP.xlsx']\n",
    "concatdf=pd.DataFrame()\n",
    "for file in dflist:\n",
    "    df=pd.read_excel(file)\n",
    "    concatdf=pd.concat([concatdf,df])\n",
    "# all.columns\n",
    "columns=['database_id', 'name', 'n_terminal', 'sequence', 'c_terminal','other_modification', 'target', 'measure', 'value', 'unit','database']\n",
    "requisite_columns=['n_terminal', 'sequence', 'c_terminal','other_modification', 'target', 'measure', 'value', 'unit']\n",
    "concatdf.to_excel(r'1_all所有合并.xlsx',index=False)\n",
    "concatdf"
   ],
   "metadata": {
    "collapsed": false,
    "pycharm": {
     "name": "#%%\n"
    }
   }
  },
  {
   "cell_type": "code",
   "execution_count": 50,
   "outputs": [
    {
     "data": {
      "text/plain": "     database_id           name n_terminal  \\\n0              1     Distinctin        NaN   \n1              1     Distinctin        NaN   \n2              1     Distinctin        NaN   \n3              1     Distinctin        NaN   \n4              1     Distinctin        NaN   \n...          ...            ...        ...   \n8349  L10Q2PGA80  Temporin-1TGa       none   \n8350  L10Q2PGA80  Temporin-1TGa       none   \n8351  L10Q2PGA80  Temporin-1TGa       none   \n8352  L10Q800R30           PBN1       none   \n8353  L10Q800R30           PBN1       none   \n\n                                              sequence c_terminal  \\\n0     ENREVPPGFTALIKTLRKCKII,NLVSGLIEARKYLEQLHRKLKNCKV        NaN   \n1     ENREVPPGFTALIKTLRKCKII,NLVSGLIEARKYLEQLHRKLKNCKV        NaN   \n2     ENREVPPGFTALIKTLRKCKII,NLVSGLIEARKYLEQLHRKLKNCKV        NaN   \n3     ENREVPPGFTALIKTLRKCKII,NLVSGLIEARKYLEQLHRKLKNCKV        NaN   \n4     ENREVPPGFTALIKTLRKCKII,NLVSGLIEARKYLEQLHRKLKNCKV        NaN   \n...                                                ...        ...   \n8349                                     FLPIIGKLLSGIL       none   \n8350                                     FLPIIGKLLSGIL       none   \n8351                                     FLPIIGKLLSGIL       none   \n8352                              FLSLIPHIVSGVAALAKHLG       none   \n8353                              FLSLIPHIVSGVAALAKHLG       none   \n\n     other_modification                             target measure     value  \\\n0                  none        Escherichia coli ATCC 25922     MIC   14.5000   \n1                  none   Staphylococcus aureus ATCC 25923     MIC   28.0000   \n2                  none  Pseudomonas aeruginosa ATCC 27853     MIC   28.0000   \n3                  none   Enterococcus faecalis ATCC 29212     MIC   14.5000   \n4                  none                   Escherichia coli     MIC    6.2050   \n...                 ...                                ...     ...       ...   \n8349               none                            E. coli     MIC  100.0000   \n8350               none                          S. aureus     MIC   20.7555   \n8351               none                          S. aureus     MIC   15.0000   \n8352               none                          S. aureus     MIC   25.5438   \n8353               none                          S. aureus     MIC   12.5000   \n\n       unit database  \n0        µM   DBAASP  \n1        µM   DBAASP  \n2        µM   DBAASP  \n3        µM   DBAASP  \n4        µM   DBAASP  \n...     ...      ...  \n8349     uM     LAMP  \n8350  ug/ml     LAMP  \n8351     uM     LAMP  \n8352  ug/ml     LAMP  \n8353     uM     LAMP  \n\n[170140 rows x 11 columns]",
      "text/html": "<div>\n<style scoped>\n    .dataframe tbody tr th:only-of-type {\n        vertical-align: middle;\n    }\n\n    .dataframe tbody tr th {\n        vertical-align: top;\n    }\n\n    .dataframe thead th {\n        text-align: right;\n    }\n</style>\n<table border=\"1\" class=\"dataframe\">\n  <thead>\n    <tr style=\"text-align: right;\">\n      <th></th>\n      <th>database_id</th>\n      <th>name</th>\n      <th>n_terminal</th>\n      <th>sequence</th>\n      <th>c_terminal</th>\n      <th>other_modification</th>\n      <th>target</th>\n      <th>measure</th>\n      <th>value</th>\n      <th>unit</th>\n      <th>database</th>\n    </tr>\n  </thead>\n  <tbody>\n    <tr>\n      <th>0</th>\n      <td>1</td>\n      <td>Distinctin</td>\n      <td>NaN</td>\n      <td>ENREVPPGFTALIKTLRKCKII,NLVSGLIEARKYLEQLHRKLKNCKV</td>\n      <td>NaN</td>\n      <td>none</td>\n      <td>Escherichia coli ATCC 25922</td>\n      <td>MIC</td>\n      <td>14.5000</td>\n      <td>µM</td>\n      <td>DBAASP</td>\n    </tr>\n    <tr>\n      <th>1</th>\n      <td>1</td>\n      <td>Distinctin</td>\n      <td>NaN</td>\n      <td>ENREVPPGFTALIKTLRKCKII,NLVSGLIEARKYLEQLHRKLKNCKV</td>\n      <td>NaN</td>\n      <td>none</td>\n      <td>Staphylococcus aureus ATCC 25923</td>\n      <td>MIC</td>\n      <td>28.0000</td>\n      <td>µM</td>\n      <td>DBAASP</td>\n    </tr>\n    <tr>\n      <th>2</th>\n      <td>1</td>\n      <td>Distinctin</td>\n      <td>NaN</td>\n      <td>ENREVPPGFTALIKTLRKCKII,NLVSGLIEARKYLEQLHRKLKNCKV</td>\n      <td>NaN</td>\n      <td>none</td>\n      <td>Pseudomonas aeruginosa ATCC 27853</td>\n      <td>MIC</td>\n      <td>28.0000</td>\n      <td>µM</td>\n      <td>DBAASP</td>\n    </tr>\n    <tr>\n      <th>3</th>\n      <td>1</td>\n      <td>Distinctin</td>\n      <td>NaN</td>\n      <td>ENREVPPGFTALIKTLRKCKII,NLVSGLIEARKYLEQLHRKLKNCKV</td>\n      <td>NaN</td>\n      <td>none</td>\n      <td>Enterococcus faecalis ATCC 29212</td>\n      <td>MIC</td>\n      <td>14.5000</td>\n      <td>µM</td>\n      <td>DBAASP</td>\n    </tr>\n    <tr>\n      <th>4</th>\n      <td>1</td>\n      <td>Distinctin</td>\n      <td>NaN</td>\n      <td>ENREVPPGFTALIKTLRKCKII,NLVSGLIEARKYLEQLHRKLKNCKV</td>\n      <td>NaN</td>\n      <td>none</td>\n      <td>Escherichia coli</td>\n      <td>MIC</td>\n      <td>6.2050</td>\n      <td>µM</td>\n      <td>DBAASP</td>\n    </tr>\n    <tr>\n      <th>...</th>\n      <td>...</td>\n      <td>...</td>\n      <td>...</td>\n      <td>...</td>\n      <td>...</td>\n      <td>...</td>\n      <td>...</td>\n      <td>...</td>\n      <td>...</td>\n      <td>...</td>\n      <td>...</td>\n    </tr>\n    <tr>\n      <th>8349</th>\n      <td>L10Q2PGA80</td>\n      <td>Temporin-1TGa</td>\n      <td>none</td>\n      <td>FLPIIGKLLSGIL</td>\n      <td>none</td>\n      <td>none</td>\n      <td>E. coli</td>\n      <td>MIC</td>\n      <td>100.0000</td>\n      <td>uM</td>\n      <td>LAMP</td>\n    </tr>\n    <tr>\n      <th>8350</th>\n      <td>L10Q2PGA80</td>\n      <td>Temporin-1TGa</td>\n      <td>none</td>\n      <td>FLPIIGKLLSGIL</td>\n      <td>none</td>\n      <td>none</td>\n      <td>S. aureus</td>\n      <td>MIC</td>\n      <td>20.7555</td>\n      <td>ug/ml</td>\n      <td>LAMP</td>\n    </tr>\n    <tr>\n      <th>8351</th>\n      <td>L10Q2PGA80</td>\n      <td>Temporin-1TGa</td>\n      <td>none</td>\n      <td>FLPIIGKLLSGIL</td>\n      <td>none</td>\n      <td>none</td>\n      <td>S. aureus</td>\n      <td>MIC</td>\n      <td>15.0000</td>\n      <td>uM</td>\n      <td>LAMP</td>\n    </tr>\n    <tr>\n      <th>8352</th>\n      <td>L10Q800R30</td>\n      <td>PBN1</td>\n      <td>none</td>\n      <td>FLSLIPHIVSGVAALAKHLG</td>\n      <td>none</td>\n      <td>none</td>\n      <td>S. aureus</td>\n      <td>MIC</td>\n      <td>25.5438</td>\n      <td>ug/ml</td>\n      <td>LAMP</td>\n    </tr>\n    <tr>\n      <th>8353</th>\n      <td>L10Q800R30</td>\n      <td>PBN1</td>\n      <td>none</td>\n      <td>FLSLIPHIVSGVAALAKHLG</td>\n      <td>none</td>\n      <td>none</td>\n      <td>S. aureus</td>\n      <td>MIC</td>\n      <td>12.5000</td>\n      <td>uM</td>\n      <td>LAMP</td>\n    </tr>\n  </tbody>\n</table>\n<p>170140 rows × 11 columns</p>\n</div>"
     },
     "execution_count": 50,
     "metadata": {},
     "output_type": "execute_result"
    }
   ],
   "source": [
    "# 删除除database_id和name和database列外的重复项（来自不同数据库的数据库id和给抗菌肽的名字是多样不统一的\n",
    "all=copy.deepcopy(concatdf)\n",
    "all.drop_duplicates(subset=requisite_columns,inplace=True)\n",
    "all.to_excel(r'2_all删除重复项.xlsx',index=False)\n",
    "all\n",
    "#170140"
   ],
   "metadata": {
    "collapsed": false,
    "pycharm": {
     "name": "#%%\n"
    }
   }
  },
  {
   "cell_type": "code",
   "execution_count": 51,
   "outputs": [
    {
     "data": {
      "text/plain": "     database_id           name n_terminal  \\\n0              1     Distinctin       none   \n1              1     Distinctin       none   \n2              1     Distinctin       none   \n3              1     Distinctin       none   \n4              1     Distinctin       none   \n...          ...            ...        ...   \n8349  L10Q2PGA80  Temporin-1TGa       none   \n8350  L10Q2PGA80  Temporin-1TGa       none   \n8351  L10Q2PGA80  Temporin-1TGa       none   \n8352  L10Q800R30           PBN1       none   \n8353  L10Q800R30           PBN1       none   \n\n                                              sequence c_terminal  \\\n0     ENREVPPGFTALIKTLRKCKII,NLVSGLIEARKYLEQLHRKLKNCKV       none   \n1     ENREVPPGFTALIKTLRKCKII,NLVSGLIEARKYLEQLHRKLKNCKV       none   \n2     ENREVPPGFTALIKTLRKCKII,NLVSGLIEARKYLEQLHRKLKNCKV       none   \n3     ENREVPPGFTALIKTLRKCKII,NLVSGLIEARKYLEQLHRKLKNCKV       none   \n4     ENREVPPGFTALIKTLRKCKII,NLVSGLIEARKYLEQLHRKLKNCKV       none   \n...                                                ...        ...   \n8349                                     FLPIIGKLLSGIL       none   \n8350                                     FLPIIGKLLSGIL       none   \n8351                                     FLPIIGKLLSGIL       none   \n8352                              FLSLIPHIVSGVAALAKHLG       none   \n8353                              FLSLIPHIVSGVAALAKHLG       none   \n\n     other_modification                             target measure     value  \\\n0                  none        Escherichia coli ATCC 25922     MIC   14.5000   \n1                  none   Staphylococcus aureus ATCC 25923     MIC   28.0000   \n2                  none  Pseudomonas aeruginosa ATCC 27853     MIC   28.0000   \n3                  none   Enterococcus faecalis ATCC 29212     MIC   14.5000   \n4                  none                   Escherichia coli     MIC    6.2050   \n...                 ...                                ...     ...       ...   \n8349               none                            E. coli     MIC  100.0000   \n8350               none                          S. aureus     MIC   20.7555   \n8351               none                          S. aureus     MIC   15.0000   \n8352               none                          S. aureus     MIC   25.5438   \n8353               none                          S. aureus     MIC   12.5000   \n\n       unit database  \n0        µM   DBAASP  \n1        µM   DBAASP  \n2        µM   DBAASP  \n3        µM   DBAASP  \n4        µM   DBAASP  \n...     ...      ...  \n8349     uM     LAMP  \n8350  ug/ml     LAMP  \n8351     uM     LAMP  \n8352  ug/ml     LAMP  \n8353     uM     LAMP  \n\n[169848 rows x 11 columns]",
      "text/html": "<div>\n<style scoped>\n    .dataframe tbody tr th:only-of-type {\n        vertical-align: middle;\n    }\n\n    .dataframe tbody tr th {\n        vertical-align: top;\n    }\n\n    .dataframe thead th {\n        text-align: right;\n    }\n</style>\n<table border=\"1\" class=\"dataframe\">\n  <thead>\n    <tr style=\"text-align: right;\">\n      <th></th>\n      <th>database_id</th>\n      <th>name</th>\n      <th>n_terminal</th>\n      <th>sequence</th>\n      <th>c_terminal</th>\n      <th>other_modification</th>\n      <th>target</th>\n      <th>measure</th>\n      <th>value</th>\n      <th>unit</th>\n      <th>database</th>\n    </tr>\n  </thead>\n  <tbody>\n    <tr>\n      <th>0</th>\n      <td>1</td>\n      <td>Distinctin</td>\n      <td>none</td>\n      <td>ENREVPPGFTALIKTLRKCKII,NLVSGLIEARKYLEQLHRKLKNCKV</td>\n      <td>none</td>\n      <td>none</td>\n      <td>Escherichia coli ATCC 25922</td>\n      <td>MIC</td>\n      <td>14.5000</td>\n      <td>µM</td>\n      <td>DBAASP</td>\n    </tr>\n    <tr>\n      <th>1</th>\n      <td>1</td>\n      <td>Distinctin</td>\n      <td>none</td>\n      <td>ENREVPPGFTALIKTLRKCKII,NLVSGLIEARKYLEQLHRKLKNCKV</td>\n      <td>none</td>\n      <td>none</td>\n      <td>Staphylococcus aureus ATCC 25923</td>\n      <td>MIC</td>\n      <td>28.0000</td>\n      <td>µM</td>\n      <td>DBAASP</td>\n    </tr>\n    <tr>\n      <th>2</th>\n      <td>1</td>\n      <td>Distinctin</td>\n      <td>none</td>\n      <td>ENREVPPGFTALIKTLRKCKII,NLVSGLIEARKYLEQLHRKLKNCKV</td>\n      <td>none</td>\n      <td>none</td>\n      <td>Pseudomonas aeruginosa ATCC 27853</td>\n      <td>MIC</td>\n      <td>28.0000</td>\n      <td>µM</td>\n      <td>DBAASP</td>\n    </tr>\n    <tr>\n      <th>3</th>\n      <td>1</td>\n      <td>Distinctin</td>\n      <td>none</td>\n      <td>ENREVPPGFTALIKTLRKCKII,NLVSGLIEARKYLEQLHRKLKNCKV</td>\n      <td>none</td>\n      <td>none</td>\n      <td>Enterococcus faecalis ATCC 29212</td>\n      <td>MIC</td>\n      <td>14.5000</td>\n      <td>µM</td>\n      <td>DBAASP</td>\n    </tr>\n    <tr>\n      <th>4</th>\n      <td>1</td>\n      <td>Distinctin</td>\n      <td>none</td>\n      <td>ENREVPPGFTALIKTLRKCKII,NLVSGLIEARKYLEQLHRKLKNCKV</td>\n      <td>none</td>\n      <td>none</td>\n      <td>Escherichia coli</td>\n      <td>MIC</td>\n      <td>6.2050</td>\n      <td>µM</td>\n      <td>DBAASP</td>\n    </tr>\n    <tr>\n      <th>...</th>\n      <td>...</td>\n      <td>...</td>\n      <td>...</td>\n      <td>...</td>\n      <td>...</td>\n      <td>...</td>\n      <td>...</td>\n      <td>...</td>\n      <td>...</td>\n      <td>...</td>\n      <td>...</td>\n    </tr>\n    <tr>\n      <th>8349</th>\n      <td>L10Q2PGA80</td>\n      <td>Temporin-1TGa</td>\n      <td>none</td>\n      <td>FLPIIGKLLSGIL</td>\n      <td>none</td>\n      <td>none</td>\n      <td>E. coli</td>\n      <td>MIC</td>\n      <td>100.0000</td>\n      <td>uM</td>\n      <td>LAMP</td>\n    </tr>\n    <tr>\n      <th>8350</th>\n      <td>L10Q2PGA80</td>\n      <td>Temporin-1TGa</td>\n      <td>none</td>\n      <td>FLPIIGKLLSGIL</td>\n      <td>none</td>\n      <td>none</td>\n      <td>S. aureus</td>\n      <td>MIC</td>\n      <td>20.7555</td>\n      <td>ug/ml</td>\n      <td>LAMP</td>\n    </tr>\n    <tr>\n      <th>8351</th>\n      <td>L10Q2PGA80</td>\n      <td>Temporin-1TGa</td>\n      <td>none</td>\n      <td>FLPIIGKLLSGIL</td>\n      <td>none</td>\n      <td>none</td>\n      <td>S. aureus</td>\n      <td>MIC</td>\n      <td>15.0000</td>\n      <td>uM</td>\n      <td>LAMP</td>\n    </tr>\n    <tr>\n      <th>8352</th>\n      <td>L10Q800R30</td>\n      <td>PBN1</td>\n      <td>none</td>\n      <td>FLSLIPHIVSGVAALAKHLG</td>\n      <td>none</td>\n      <td>none</td>\n      <td>S. aureus</td>\n      <td>MIC</td>\n      <td>25.5438</td>\n      <td>ug/ml</td>\n      <td>LAMP</td>\n    </tr>\n    <tr>\n      <th>8353</th>\n      <td>L10Q800R30</td>\n      <td>PBN1</td>\n      <td>none</td>\n      <td>FLSLIPHIVSGVAALAKHLG</td>\n      <td>none</td>\n      <td>none</td>\n      <td>S. aureus</td>\n      <td>MIC</td>\n      <td>12.5000</td>\n      <td>uM</td>\n      <td>LAMP</td>\n    </tr>\n  </tbody>\n</table>\n<p>169848 rows × 11 columns</p>\n</div>"
     },
     "execution_count": 51,
     "metadata": {},
     "output_type": "execute_result"
    }
   ],
   "source": [
    "# 对name,n_terminal,c_terminal,other_modification字段内空缺值进行填充\n",
    "df_fill_na=copy.deepcopy(all)\n",
    "df_fill_na['name']=df_fill_na['name'].fillna('no_name')\n",
    "df_fill_na['c_terminal']=df_fill_na['c_terminal'].fillna('none')\n",
    "df_fill_na['n_terminal']=df_fill_na['n_terminal'].fillna('none')\n",
    "df_fill_na['other_modification']=df_fill_na['other_modification'].fillna('none')\n",
    "df_del_na=copy.deepcopy(df_fill_na)\n",
    "df_del_na=df_del_na.dropna(axis=0,how='any')\n",
    "df_del_na.to_excel(r'3_all填缺后去空白样本.xlsx',index=False)\n",
    "df_del_na"
   ],
   "metadata": {
    "collapsed": false,
    "pycharm": {
     "name": "#%%\n"
    }
   }
  },
  {
   "cell_type": "code",
   "execution_count": 52,
   "outputs": [
    {
     "name": "stderr",
     "output_type": "stream",
     "text": [
      "C:\\Users\\lanliu\\AppData\\Local\\Temp\\ipykernel_12172\\434014967.py:120: FutureWarning: The default value of regex will change from True to False in a future version. In addition, single character regular expressions will *not* be treated as literal strings when regex=True.\n",
      "  revise_df['unit']=revise_df['unit'].str.replace(']','')\n"
     ]
    }
   ],
   "source": [
    "\n",
    "# 修改修饰和unit\n",
    "revise_df=copy.deepcopy(df_del_na)\n",
    "#删除掉数据表中所有存在空字符的单元格，需要先把所有单元格变成文本形式，然后再针对value列将其转为数值型\n",
    "revise_df= revise_df.applymap(lambda x: str(x).strip())\n",
    "revise_df['value'] = pd.to_numeric(revise_df['value'], errors='coerce')\n",
    "# 建立修改列的副本\n",
    "revise_df['old_target']=copy.deepcopy(revise_df['target'])  #在未修改前复制target列以做后续对比\n",
    "revise_df['old_value']=copy.deepcopy(revise_df['value'])  #在未修改前复制target列以做后续对比\n",
    "revise_df['old_unit']=copy.deepcopy(revise_df['unit'])  #在未修改前复制target列以做后续对比\n",
    "#定义一个删除修饰以中括号包含的引文部分\n",
    "def del_ref(texts):\n",
    "    if '[' and ']' in texts:\n",
    "        new=texts.split(']')[1].strip()\n",
    "        return new\n",
    "    else:\n",
    "        return texts\n",
    "\n",
    "# 修改修饰部分\n",
    "revise_df['n_terminal']=revise_df['n_terminal'].apply(del_ref)\n",
    "revise_df['c_terminal']=revise_df['c_terminal'].apply(del_ref)\n",
    "\n",
    "revise_df['n_terminal'] = revise_df['n_terminal'].replace(['Not included yet', 'Free','None'], 'none')\n",
    "revise_df['c_terminal'] = revise_df['c_terminal'].replace(['Not included yet', 'Free','None'], 'none')\n",
    "revise_df['other_modification'] = revise_df['other_modification'].replace(['Not included yet', 'Free','None'], 'none')\n",
    "revise_df['n_terminal'] = revise_df['n_terminal'].replace(['Acetylated','Acetylation'], 'ACT')\n",
    "revise_df['c_terminal'] = revise_df['c_terminal'].replace(['Amidation','Amidaton'], 'AMD')\n",
    "revise_df['c_terminal'] = revise_df['c_terminal'].replace(['α-Amidation','α‐Amidation'], 'α-Amidation')\n",
    "\n",
    "# 修改target\n",
    "\n",
    "\n",
    "        #需要先修改有[:的情况所以定义第一次修改的函数\n",
    "def revise_target1(target):\n",
    "    if len(target)<3:\n",
    "        return target\n",
    "    elif '[' and ':' in target:\n",
    "        new_target=target.split(':')[1].strip()\n",
    "        if new_target!=None:\n",
    "            new_target=new_target.replace('[','')\n",
    "            new_target=new_target.replace(']','')\n",
    "            new_target=new_target.replace('-','')\n",
    "            return new_target\n",
    "        else:\n",
    "            return new_target\n",
    "    elif 'Gram' and ':' in target:\n",
    "        new_target=target.split(':')[1].strip()\n",
    "        if new_target!=None:\n",
    "            new_target=new_target.replace('[','')\n",
    "            new_target=new_target.replace(']','')\n",
    "            new_target=new_target.replace('-','')\n",
    "            return new_target\n",
    "        else:\n",
    "            return target\n",
    "    elif '[' in target:\n",
    "        target=target.replace(']','')   #得把这个放在前面不然[切割之后可能是None了\n",
    "        target=target.replace('[','')\n",
    "        return target\n",
    "    elif ']' in target:\n",
    "        target = target.replace(']','')\n",
    "        return target\n",
    "    else:\n",
    "        return target\n",
    "revise_df['target']=revise_df['target'].apply(revise_target1)\n",
    "revise_df = revise_df[revise_df['target'] != '']    #每次修改完都要删除掉为空字符的行，空字符不代表是数据表中的nan，所以有时候发现用dropna怎么都删不干净\n",
    "\n",
    "   #在第一次修改的基础上补全target如把. luteus补全成Micrococcus luteus，匹配同义target，如把A.fumigatus改成Aspergillus fumigatus\n",
    "\n",
    "text=set(revise_df['target'])  #创建一个集合（主要是去重）\n",
    "text='&'.join([i for i in text])    #使用&来分开每个target方便re正则表达式匹配到\n",
    "def revise_target2(target):\n",
    "    if len(target)<3:   #不设置这个的话程序可能会由于后面的切片调用报错\n",
    "        return target\n",
    "    elif target[0]=='.':\n",
    "        # new_t=target.split('.')[1].strip()  #split切片的话可能存在多个.导致匹配不精确\n",
    "        new_t=target[1:].strip()      #一定要去掉空字符，相比于split切片可以更好地解决多分段的问题\n",
    "        new_t=new_t.replace('(','')    #以上的replace是为了防止存在这些符号影响正则表达式\n",
    "        new_t=new_t.replace(')','')\n",
    "        new_t=new_t.replace('[','')\n",
    "        new_t=new_t.replace(']','')\n",
    "        pattern='&[A-Z][^.]*'+new_t   #正则表达式匹配是&开头接着是任意一个大写字母然后后面是不是.的任意字符多次最后是去掉点的target\n",
    "        match=re.search(pattern,text)\n",
    "        if match:\n",
    "            new=match.group(0)\n",
    "            # new=new.replace('&','').strip()  #这样的话可能会匹配很长的字段然后只是保证结尾是要匹配的target\n",
    "            new=new.split('&')[-1].strip()\n",
    "            return new\n",
    "        else:\n",
    "            pattern='&[A-Z][.].?'+new_t     #如果不能找到全称的话就退而求其次补全前面的大写字母就行了\n",
    "            match=re.search(pattern,text)\n",
    "            if match:\n",
    "                return match.group(0).strip('&')\n",
    "            else:\n",
    "                return target\n",
    "    elif len(target)>3 and target[1]=='.':\n",
    "        # new_t=target.split('.')[1].strip()\n",
    "        new_t=target[2:].strip()   #既然.在1号位，不保存.的情况下从2号位开始切片\n",
    "        new_t=new_t.replace('(','')\n",
    "        new_t=new_t.replace(')','')\n",
    "        new_t=new_t.replace('[','')\n",
    "        new_t=new_t.replace(']','')\n",
    "        pattern='&[A-Z][^.]*'+new_t\n",
    "        match=re.search(pattern,text)\n",
    "        if match:\n",
    "            new=match.group(0)\n",
    "            new=new.split('&')[-1].strip()\n",
    "            return new\n",
    "        else:\n",
    "            return target\n",
    "    else:\n",
    "        return target\n",
    "\n",
    "revise_df['target']=revise_df['target'].apply(revise_target2)\n",
    "revise_df=revise_df.dropna(subset='target')   #对修改后对列中存在空白的地方进行删除\n",
    "revise_df = revise_df[revise_df['target'] != '']\n",
    "# 修改unit部分\n",
    "# 把L全修改成l方便后续的替换\n",
    "\n",
    "\n",
    "revise_df['unit']=revise_df['unit'].str.replace('L','l')\n",
    "revise_df['unit']=revise_df['unit'].str.replace(']','')\n",
    "\n",
    "revise_df['unit']=revise_df['unit'].replace(['µM', 'uM', 'μM','μmol/l','μmol/l','µmol/l','microM'],'uM')\n",
    "revise_df['unit']=revise_df['unit'].replace('mM','1000uM')\n",
    "revise_df['unit']=revise_df['unit'].replace(['nM','nanoM'],'0.001uM')\n",
    "\n",
    "revise_df['unit']=revise_df['unit'].replace(['µg/ml', 'ug/ml', 'μg/ml', 'microg/ml','mg/l','microg/ml'],'ug/ml')\n",
    "revise_df['unit']=revise_df['unit'].replace(['mg/ml','g/l'], '1000ug/ml')\n",
    "revise_df['unit']=revise_df['unit'].replace(['ng/ml'], '0.001ug/ml')\n",
    "\n",
    "\n",
    "# 对unit和value单位换算\n",
    "revise_df.loc[revise_df['unit'] == '1000uM', 'value'] *= 1000\n",
    "revise_df.loc[revise_df['unit'] == '1000uM', 'unit'] = 'uM'\n",
    "\n",
    "revise_df.loc[revise_df['unit'] == '0.001uM', 'value'] *= 0.001\n",
    "revise_df.loc[revise_df['unit'] == '0.001uM', 'unit'] = 'uM'\n",
    "\n",
    "revise_df.loc[revise_df['unit'] == '0.001ug/ml', 'value'] *= 0.001\n",
    "revise_df.loc[revise_df['unit'] == '0.001ug/ml', 'unit'] = 'ug/ml'\n",
    "\n",
    "revise_df.loc[revise_df['unit'] == '1000ug/ml', 'value'] *= 1000\n",
    "revise_df.loc[revise_df['unit'] == '1000ug/ml', 'unit'] = 'ug/ml'\n",
    "# 删除存在空缺值的样本\n",
    "revise_df=revise_df.dropna(axis=0,how='any')\n",
    "revise_df.to_excel(r'4_all修改同义词.xlsx',index=False)"
   ],
   "metadata": {
    "collapsed": false,
    "pycharm": {
     "name": "#%%\n"
    }
   }
  },
  {
   "cell_type": "code",
   "execution_count": 53,
   "outputs": [
    {
     "data": {
      "text/plain": "     database_id           name n_terminal  \\\n0              1     Distinctin       none   \n1              1     Distinctin       none   \n2              1     Distinctin       none   \n3              1     Distinctin       none   \n4              1     Distinctin       none   \n...          ...            ...        ...   \n8348  L10Q2PGA80  Temporin-1TGa       none   \n8349  L10Q2PGA80  Temporin-1TGa       none   \n8350  L10Q2PGA80  Temporin-1TGa       none   \n8351  L10Q2PGA80  Temporin-1TGa       none   \n8352  L10Q800R30           PBN1       none   \n\n                                              sequence c_terminal  \\\n0     ENREVPPGFTALIKTLRKCKII,NLVSGLIEARKYLEQLHRKLKNCKV       none   \n1     ENREVPPGFTALIKTLRKCKII,NLVSGLIEARKYLEQLHRKLKNCKV       none   \n2     ENREVPPGFTALIKTLRKCKII,NLVSGLIEARKYLEQLHRKLKNCKV       none   \n3     ENREVPPGFTALIKTLRKCKII,NLVSGLIEARKYLEQLHRKLKNCKV       none   \n4     ENREVPPGFTALIKTLRKCKII,NLVSGLIEARKYLEQLHRKLKNCKV       none   \n...                                                ...        ...   \n8348                                     FLPIIGKLLSGIL       none   \n8349                                     FLPIIGKLLSGIL       none   \n8350                                     FLPIIGKLLSGIL       none   \n8351                                     FLPIIGKLLSGIL       none   \n8352                              FLSLIPHIVSGVAALAKHLG       none   \n\n     other_modification                             target measure     value  \\\n0                  none        Escherichia coli ATCC 25922     MIC   14.5000   \n1                  none   Staphylococcus aureus ATCC 25923     MIC   28.0000   \n2                  none  Pseudomonas aeruginosa ATCC 27853     MIC   28.0000   \n3                  none   Enterococcus faecalis ATCC 29212     MIC   14.5000   \n4                  none                   Escherichia coli     MIC    6.2050   \n...                 ...                                ...     ...       ...   \n8348               none                   Escherichia coli     MIC  138.3700   \n8349               none                   Escherichia coli     MIC  100.0000   \n8350               none              Staphylococcus aureus     MIC   20.7555   \n8351               none              Staphylococcus aureus     MIC   15.0000   \n8352               none              Staphylococcus aureus     MIC   25.5438   \n\n       unit database  \n0        uM   DBAASP  \n1        uM   DBAASP  \n2        uM   DBAASP  \n3        uM   DBAASP  \n4        uM   DBAASP  \n...     ...      ...  \n8348  ug/ml     LAMP  \n8349     uM     LAMP  \n8350  ug/ml     LAMP  \n8351     uM     LAMP  \n8352  ug/ml     LAMP  \n\n[164041 rows x 11 columns]",
      "text/html": "<div>\n<style scoped>\n    .dataframe tbody tr th:only-of-type {\n        vertical-align: middle;\n    }\n\n    .dataframe tbody tr th {\n        vertical-align: top;\n    }\n\n    .dataframe thead th {\n        text-align: right;\n    }\n</style>\n<table border=\"1\" class=\"dataframe\">\n  <thead>\n    <tr style=\"text-align: right;\">\n      <th></th>\n      <th>database_id</th>\n      <th>name</th>\n      <th>n_terminal</th>\n      <th>sequence</th>\n      <th>c_terminal</th>\n      <th>other_modification</th>\n      <th>target</th>\n      <th>measure</th>\n      <th>value</th>\n      <th>unit</th>\n      <th>database</th>\n    </tr>\n  </thead>\n  <tbody>\n    <tr>\n      <th>0</th>\n      <td>1</td>\n      <td>Distinctin</td>\n      <td>none</td>\n      <td>ENREVPPGFTALIKTLRKCKII,NLVSGLIEARKYLEQLHRKLKNCKV</td>\n      <td>none</td>\n      <td>none</td>\n      <td>Escherichia coli ATCC 25922</td>\n      <td>MIC</td>\n      <td>14.5000</td>\n      <td>uM</td>\n      <td>DBAASP</td>\n    </tr>\n    <tr>\n      <th>1</th>\n      <td>1</td>\n      <td>Distinctin</td>\n      <td>none</td>\n      <td>ENREVPPGFTALIKTLRKCKII,NLVSGLIEARKYLEQLHRKLKNCKV</td>\n      <td>none</td>\n      <td>none</td>\n      <td>Staphylococcus aureus ATCC 25923</td>\n      <td>MIC</td>\n      <td>28.0000</td>\n      <td>uM</td>\n      <td>DBAASP</td>\n    </tr>\n    <tr>\n      <th>2</th>\n      <td>1</td>\n      <td>Distinctin</td>\n      <td>none</td>\n      <td>ENREVPPGFTALIKTLRKCKII,NLVSGLIEARKYLEQLHRKLKNCKV</td>\n      <td>none</td>\n      <td>none</td>\n      <td>Pseudomonas aeruginosa ATCC 27853</td>\n      <td>MIC</td>\n      <td>28.0000</td>\n      <td>uM</td>\n      <td>DBAASP</td>\n    </tr>\n    <tr>\n      <th>3</th>\n      <td>1</td>\n      <td>Distinctin</td>\n      <td>none</td>\n      <td>ENREVPPGFTALIKTLRKCKII,NLVSGLIEARKYLEQLHRKLKNCKV</td>\n      <td>none</td>\n      <td>none</td>\n      <td>Enterococcus faecalis ATCC 29212</td>\n      <td>MIC</td>\n      <td>14.5000</td>\n      <td>uM</td>\n      <td>DBAASP</td>\n    </tr>\n    <tr>\n      <th>4</th>\n      <td>1</td>\n      <td>Distinctin</td>\n      <td>none</td>\n      <td>ENREVPPGFTALIKTLRKCKII,NLVSGLIEARKYLEQLHRKLKNCKV</td>\n      <td>none</td>\n      <td>none</td>\n      <td>Escherichia coli</td>\n      <td>MIC</td>\n      <td>6.2050</td>\n      <td>uM</td>\n      <td>DBAASP</td>\n    </tr>\n    <tr>\n      <th>...</th>\n      <td>...</td>\n      <td>...</td>\n      <td>...</td>\n      <td>...</td>\n      <td>...</td>\n      <td>...</td>\n      <td>...</td>\n      <td>...</td>\n      <td>...</td>\n      <td>...</td>\n      <td>...</td>\n    </tr>\n    <tr>\n      <th>8348</th>\n      <td>L10Q2PGA80</td>\n      <td>Temporin-1TGa</td>\n      <td>none</td>\n      <td>FLPIIGKLLSGIL</td>\n      <td>none</td>\n      <td>none</td>\n      <td>Escherichia coli</td>\n      <td>MIC</td>\n      <td>138.3700</td>\n      <td>ug/ml</td>\n      <td>LAMP</td>\n    </tr>\n    <tr>\n      <th>8349</th>\n      <td>L10Q2PGA80</td>\n      <td>Temporin-1TGa</td>\n      <td>none</td>\n      <td>FLPIIGKLLSGIL</td>\n      <td>none</td>\n      <td>none</td>\n      <td>Escherichia coli</td>\n      <td>MIC</td>\n      <td>100.0000</td>\n      <td>uM</td>\n      <td>LAMP</td>\n    </tr>\n    <tr>\n      <th>8350</th>\n      <td>L10Q2PGA80</td>\n      <td>Temporin-1TGa</td>\n      <td>none</td>\n      <td>FLPIIGKLLSGIL</td>\n      <td>none</td>\n      <td>none</td>\n      <td>Staphylococcus aureus</td>\n      <td>MIC</td>\n      <td>20.7555</td>\n      <td>ug/ml</td>\n      <td>LAMP</td>\n    </tr>\n    <tr>\n      <th>8351</th>\n      <td>L10Q2PGA80</td>\n      <td>Temporin-1TGa</td>\n      <td>none</td>\n      <td>FLPIIGKLLSGIL</td>\n      <td>none</td>\n      <td>none</td>\n      <td>Staphylococcus aureus</td>\n      <td>MIC</td>\n      <td>15.0000</td>\n      <td>uM</td>\n      <td>LAMP</td>\n    </tr>\n    <tr>\n      <th>8352</th>\n      <td>L10Q800R30</td>\n      <td>PBN1</td>\n      <td>none</td>\n      <td>FLSLIPHIVSGVAALAKHLG</td>\n      <td>none</td>\n      <td>none</td>\n      <td>Staphylococcus aureus</td>\n      <td>MIC</td>\n      <td>25.5438</td>\n      <td>ug/ml</td>\n      <td>LAMP</td>\n    </tr>\n  </tbody>\n</table>\n<p>164041 rows × 11 columns</p>\n</div>"
     },
     "execution_count": 53,
     "metadata": {},
     "output_type": "execute_result"
    }
   ],
   "source": [
    "# 将旧的target列删去，并删去所有存在缺失值的样本，输出最终清洗完成的数据表\n",
    "finaldf=copy.deepcopy(revise_df)\n",
    "finaldf=finaldf.drop(['old_target','old_value','old_unit'],axis=1)\n",
    "finaldf = finaldf[finaldf['target'] != '']\n",
    "finaldf=finaldf.dropna(axis=0,how='any')\n",
    "finaldf.drop_duplicates(subset=requisite_columns,inplace=True)\n",
    "finaldf.to_excel(r'all-peptides.xlsx',index=False)\n",
    "finaldf"
   ],
   "metadata": {
    "collapsed": false,
    "pycharm": {
     "name": "#%%\n"
    }
   }
  },
  {
   "cell_type": "code",
   "execution_count": 53,
   "outputs": [],
   "source": [],
   "metadata": {
    "collapsed": false,
    "pycharm": {
     "name": "#%%\n"
    }
   }
  }
 ],
 "metadata": {
  "kernelspec": {
   "display_name": "Python 3",
   "language": "python",
   "name": "python3"
  },
  "language_info": {
   "codemirror_mode": {
    "name": "ipython",
    "version": 2
   },
   "file_extension": ".py",
   "mimetype": "text/x-python",
   "name": "python",
   "nbconvert_exporter": "python",
   "pygments_lexer": "ipython2",
   "version": "2.7.6"
  }
 },
 "nbformat": 4,
 "nbformat_minor": 0
}